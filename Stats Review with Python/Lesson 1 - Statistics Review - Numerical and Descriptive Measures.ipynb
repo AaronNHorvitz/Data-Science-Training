{
 "cells": [
  {
   "cell_type": "markdown",
   "id": "b2e636d8",
   "metadata": {},
   "source": [
    " Lesson 1 - Statistics Review - Numerical and Descriptive Measures"
   ]
  },
  {
   "cell_type": "code",
   "execution_count": 1,
   "id": "0b66d9ef",
   "metadata": {
    "ExecuteTime": {
     "end_time": "2021-10-13T21:34:22.900235Z",
     "start_time": "2021-10-13T21:33:50.776540Z"
    }
   },
   "outputs": [],
   "source": [
    "import pandas as pd\n",
    "import numpy as np\n",
    "import statistics \n",
    "from scipy import stats "
   ]
  },
  {
   "cell_type": "code",
   "execution_count": 3,
   "id": "eb86bacb",
   "metadata": {
    "ExecuteTime": {
     "end_time": "2021-10-13T21:34:53.394862Z",
     "start_time": "2021-10-13T21:34:51.830903Z"
    }
   },
   "outputs": [
    {
     "data": {
      "text/html": [
       "<div>\n",
       "<style scoped>\n",
       "    .dataframe tbody tr th:only-of-type {\n",
       "        vertical-align: middle;\n",
       "    }\n",
       "\n",
       "    .dataframe tbody tr th {\n",
       "        vertical-align: top;\n",
       "    }\n",
       "\n",
       "    .dataframe thead th {\n",
       "        text-align: right;\n",
       "    }\n",
       "</style>\n",
       "<table border=\"1\" class=\"dataframe\">\n",
       "  <thead>\n",
       "    <tr style=\"text-align: right;\">\n",
       "      <th></th>\n",
       "      <th>user_id</th>\n",
       "      <th>timestamp</th>\n",
       "      <th>group</th>\n",
       "      <th>landing_page</th>\n",
       "      <th>converted</th>\n",
       "    </tr>\n",
       "  </thead>\n",
       "  <tbody>\n",
       "    <tr>\n",
       "      <th>0</th>\n",
       "      <td>851104</td>\n",
       "      <td>2017-01-21 22:11:48.556739</td>\n",
       "      <td>control</td>\n",
       "      <td>old_page</td>\n",
       "      <td>0</td>\n",
       "    </tr>\n",
       "    <tr>\n",
       "      <th>1</th>\n",
       "      <td>804228</td>\n",
       "      <td>2017-01-12 08:01:45.159739</td>\n",
       "      <td>control</td>\n",
       "      <td>old_page</td>\n",
       "      <td>0</td>\n",
       "    </tr>\n",
       "    <tr>\n",
       "      <th>2</th>\n",
       "      <td>661590</td>\n",
       "      <td>2017-01-11 16:55:06.154213</td>\n",
       "      <td>treatment</td>\n",
       "      <td>new_page</td>\n",
       "      <td>0</td>\n",
       "    </tr>\n",
       "    <tr>\n",
       "      <th>3</th>\n",
       "      <td>853541</td>\n",
       "      <td>2017-01-08 18:28:03.143765</td>\n",
       "      <td>treatment</td>\n",
       "      <td>new_page</td>\n",
       "      <td>0</td>\n",
       "    </tr>\n",
       "    <tr>\n",
       "      <th>4</th>\n",
       "      <td>864975</td>\n",
       "      <td>2017-01-21 01:52:26.210827</td>\n",
       "      <td>control</td>\n",
       "      <td>old_page</td>\n",
       "      <td>1</td>\n",
       "    </tr>\n",
       "    <tr>\n",
       "      <th>...</th>\n",
       "      <td>...</td>\n",
       "      <td>...</td>\n",
       "      <td>...</td>\n",
       "      <td>...</td>\n",
       "      <td>...</td>\n",
       "    </tr>\n",
       "    <tr>\n",
       "      <th>294473</th>\n",
       "      <td>751197</td>\n",
       "      <td>2017-01-03 22:28:38.630509</td>\n",
       "      <td>control</td>\n",
       "      <td>old_page</td>\n",
       "      <td>0</td>\n",
       "    </tr>\n",
       "    <tr>\n",
       "      <th>294474</th>\n",
       "      <td>945152</td>\n",
       "      <td>2017-01-12 00:51:57.078372</td>\n",
       "      <td>control</td>\n",
       "      <td>old_page</td>\n",
       "      <td>0</td>\n",
       "    </tr>\n",
       "    <tr>\n",
       "      <th>294475</th>\n",
       "      <td>734608</td>\n",
       "      <td>2017-01-22 11:45:03.439544</td>\n",
       "      <td>control</td>\n",
       "      <td>old_page</td>\n",
       "      <td>0</td>\n",
       "    </tr>\n",
       "    <tr>\n",
       "      <th>294476</th>\n",
       "      <td>697314</td>\n",
       "      <td>2017-01-15 01:20:28.957438</td>\n",
       "      <td>control</td>\n",
       "      <td>old_page</td>\n",
       "      <td>0</td>\n",
       "    </tr>\n",
       "    <tr>\n",
       "      <th>294477</th>\n",
       "      <td>715931</td>\n",
       "      <td>2017-01-16 12:40:24.467417</td>\n",
       "      <td>treatment</td>\n",
       "      <td>new_page</td>\n",
       "      <td>0</td>\n",
       "    </tr>\n",
       "  </tbody>\n",
       "</table>\n",
       "<p>294478 rows × 5 columns</p>\n",
       "</div>"
      ],
      "text/plain": [
       "        user_id                   timestamp      group landing_page  converted\n",
       "0        851104  2017-01-21 22:11:48.556739    control     old_page          0\n",
       "1        804228  2017-01-12 08:01:45.159739    control     old_page          0\n",
       "2        661590  2017-01-11 16:55:06.154213  treatment     new_page          0\n",
       "3        853541  2017-01-08 18:28:03.143765  treatment     new_page          0\n",
       "4        864975  2017-01-21 01:52:26.210827    control     old_page          1\n",
       "...         ...                         ...        ...          ...        ...\n",
       "294473   751197  2017-01-03 22:28:38.630509    control     old_page          0\n",
       "294474   945152  2017-01-12 00:51:57.078372    control     old_page          0\n",
       "294475   734608  2017-01-22 11:45:03.439544    control     old_page          0\n",
       "294476   697314  2017-01-15 01:20:28.957438    control     old_page          0\n",
       "294477   715931  2017-01-16 12:40:24.467417  treatment     new_page          0\n",
       "\n",
       "[294478 rows x 5 columns]"
      ]
     },
     "execution_count": 3,
     "metadata": {},
     "output_type": "execute_result"
    }
   ],
   "source": [
    "data_path = 'https://raw.githubusercontent.com/erdiolmezogullari/ml-ab-testing/master/ab_data.csv'\n",
    "df = pd.read_csv(data_path)\n",
    "df"
   ]
  },
  {
   "cell_type": "markdown",
   "id": "517b1260",
   "metadata": {},
   "source": [
    "# Lesson 1 - Numerical Descriptive Measures"
   ]
  },
  {
   "cell_type": "markdown",
   "id": "41a8b3ef",
   "metadata": {},
   "source": [
    "<p>\n",
    "<dt>Central Tendency</dt>\n",
    "<dd>The <b>central tendency</b> is the extent to which all the data values group around a typical or central value.</dd>\n",
    "</p>\n",
    "<p>\n",
    "<dt>Variation</dt>\n",
    "<dd>The <b>variation</b> is the amount of dispersion, or scattering, of values away from a central value.</dd>\n",
    "</p>\n",
    "<p>\n",
    "<dt>Shape</dt>\n",
    "<dd>The <b>shape</b> is the pattern of the distribution of values from the lowest value to the highest\n",
    "value.</dd>    \n",
    "</p>"
   ]
  },
  {
   "cell_type": "markdown",
   "id": "34c23be3",
   "metadata": {},
   "source": [
    "Using the Python Statistics package found here:\n",
    "https://docs.python.org/3/library/statistics.html"
   ]
  },
  {
   "attachments": {
    "image.png": {
     "image/png": "[encoded data removed]"
    }
   },
   "cell_type": "markdown",
   "id": "bc6c6765",
   "metadata": {},
   "source": [
    "![image.png](attachment:image.png)"
   ]
  },
  {
   "cell_type": "markdown",
   "id": "028a70af",
   "metadata": {},
   "source": [
    "## Measures of Central Tendency"
   ]
  },
  {
   "attachments": {
    "image.png": {
     "image/png": "[encoded data removed]"
    }
   },
   "cell_type": "markdown",
   "id": "ff7b9256",
   "metadata": {},
   "source": [
    "### Mean, Median, and Mode\n",
    "![image.png](attachment:image.png)"
   ]
  },
  {
   "cell_type": "markdown",
   "id": "9b6594c9",
   "metadata": {},
   "source": [
    "Typically people mean arithmatic mean, but remember to reinforce that there is no such thing as <b>average.</b> "
   ]
  },
  {
   "cell_type": "markdown",
   "id": "7e8c66c3",
   "metadata": {},
   "source": [
    "### Arithmatic Mean"
   ]
  },
  {
   "cell_type": "markdown",
   "id": "82fd7553",
   "metadata": {},
   "source": [
    "<p>\n",
    "<dt>Mean</dt>\n",
    "<dd>The mean is the arithmetic average of a set of given numbers. It is also the most common measure of central\n",
    "tendency.</dd>\n",
    "</p>"
   ]
  },
  {
   "attachments": {
    "image.png": {
     "image/png": "[encoded data removed]"
    }
   },
   "cell_type": "markdown",
   "id": "dc95721f",
   "metadata": {},
   "source": [
    "![image.png](attachment:image.png)"
   ]
  },
  {
   "cell_type": "code",
   "execution_count": 5,
   "id": "3c82ada9",
   "metadata": {
    "ExecuteTime": {
     "end_time": "2021-10-07T14:27:56.143932Z",
     "start_time": "2021-10-07T14:27:56.122988Z"
    }
   },
   "outputs": [
    {
     "data": {
      "text/plain": [
       "array([23, 25, 26, 45, 45, 55, 22, 31, 72, 32, 99, 31, 45, 55, 72, 36])"
      ]
     },
     "execution_count": 5,
     "metadata": {},
     "output_type": "execute_result"
    }
   ],
   "source": [
    "vals = np.array( [23, 25, 26, 45, 45, 55, 22, 31, 72, 32, 99, 31, 45, 55, 72, 36])\n",
    "vals"
   ]
  },
  {
   "cell_type": "code",
   "execution_count": 6,
   "id": "8a9fe54e",
   "metadata": {
    "ExecuteTime": {
     "end_time": "2021-10-07T14:27:56.891934Z",
     "start_time": "2021-10-07T14:27:56.871988Z"
    }
   },
   "outputs": [
    {
     "data": {
      "text/plain": [
       "714"
      ]
     },
     "execution_count": 6,
     "metadata": {},
     "output_type": "execute_result"
    }
   ],
   "source": [
    "sum_vals = sum(vals)\n",
    "sum_vals "
   ]
  },
  {
   "cell_type": "code",
   "execution_count": 7,
   "id": "7d94187e",
   "metadata": {
    "ExecuteTime": {
     "end_time": "2021-10-07T14:27:58.269506Z",
     "start_time": "2021-10-07T14:27:58.252585Z"
    }
   },
   "outputs": [
    {
     "data": {
      "text/plain": [
       "16"
      ]
     },
     "execution_count": 7,
     "metadata": {},
     "output_type": "execute_result"
    }
   ],
   "source": [
    "num_vals = len(vals)\n",
    "num_vals"
   ]
  },
  {
   "cell_type": "code",
   "execution_count": 8,
   "id": "e2c4aad4",
   "metadata": {
    "ExecuteTime": {
     "end_time": "2021-10-07T14:27:59.134906Z",
     "start_time": "2021-10-07T14:27:59.124934Z"
    }
   },
   "outputs": [
    {
     "data": {
      "text/plain": [
       "44.625"
      ]
     },
     "execution_count": 8,
     "metadata": {},
     "output_type": "execute_result"
    }
   ],
   "source": [
    "x_bar = sum_vals/num_vals\n",
    "x_bar"
   ]
  },
  {
   "cell_type": "markdown",
   "id": "d5d85743",
   "metadata": {},
   "source": [
    "Use the <b>Numpy</b> function <b>mean()</b> and <b>Statistics</b> function <b>mean()</b> "
   ]
  },
  {
   "cell_type": "code",
   "execution_count": 9,
   "id": "35bd6d85",
   "metadata": {
    "ExecuteTime": {
     "end_time": "2021-10-07T14:28:04.965186Z",
     "start_time": "2021-10-07T14:28:04.948084Z"
    }
   },
   "outputs": [
    {
     "data": {
      "text/plain": [
       "44.625"
      ]
     },
     "execution_count": 9,
     "metadata": {},
     "output_type": "execute_result"
    }
   ],
   "source": [
    "np.mean(vals)"
   ]
  },
  {
   "cell_type": "code",
   "execution_count": 10,
   "id": "36386c7b",
   "metadata": {
    "ExecuteTime": {
     "end_time": "2021-10-07T14:28:06.181136Z",
     "start_time": "2021-10-07T14:28:06.170616Z"
    }
   },
   "outputs": [
    {
     "data": {
      "text/plain": [
       "44"
      ]
     },
     "execution_count": 10,
     "metadata": {},
     "output_type": "execute_result"
    }
   ],
   "source": [
    "# Integer based arithmatic with mean\n",
    "statistics.mean(vals)"
   ]
  },
  {
   "cell_type": "code",
   "execution_count": 11,
   "id": "d6ec5794",
   "metadata": {
    "ExecuteTime": {
     "end_time": "2021-10-07T14:28:07.160419Z",
     "start_time": "2021-10-07T14:28:07.148453Z"
    }
   },
   "outputs": [
    {
     "data": {
      "text/plain": [
       "44.625"
      ]
     },
     "execution_count": 11,
     "metadata": {},
     "output_type": "execute_result"
    }
   ],
   "source": [
    "# Alwys gives the floating point values\n",
    "statistics.fmean(vals)"
   ]
  },
  {
   "cell_type": "code",
   "execution_count": 14,
   "id": "8892bdd4",
   "metadata": {
    "ExecuteTime": {
     "end_time": "2021-10-07T14:30:57.546236Z",
     "start_time": "2021-10-07T14:30:57.525294Z"
    }
   },
   "outputs": [
    {
     "data": {
      "text/plain": [
       "44.625"
      ]
     },
     "execution_count": 14,
     "metadata": {},
     "output_type": "execute_result"
    }
   ],
   "source": [
    "from scipy import stats \n",
    "stats.describe(vals).mean"
   ]
  },
  {
   "cell_type": "code",
   "execution_count": 16,
   "id": "8405caf0",
   "metadata": {
    "ExecuteTime": {
     "end_time": "2021-10-07T14:31:41.024572Z",
     "start_time": "2021-10-07T14:31:41.008614Z"
    }
   },
   "outputs": [],
   "source": [
    "result = stats.describe(vals)"
   ]
  },
  {
   "cell_type": "code",
   "execution_count": 22,
   "id": "6bfc14b2",
   "metadata": {
    "ExecuteTime": {
     "end_time": "2021-10-07T14:33:05.026111Z",
     "start_time": "2021-10-07T14:33:05.013181Z"
    }
   },
   "outputs": [
    {
     "data": {
      "text/plain": [
       "['count',\n",
       " 'index',\n",
       " 'kurtosis',\n",
       " 'mean',\n",
       " 'minmax',\n",
       " 'nobs',\n",
       " 'skewness',\n",
       " 'variance']"
      ]
     },
     "execution_count": 22,
     "metadata": {},
     "output_type": "execute_result"
    }
   ],
   "source": [
    "[item for item in dir(result) if not item.startswith('_')]"
   ]
  },
  {
   "cell_type": "code",
   "execution_count": 23,
   "id": "33c0f6ca",
   "metadata": {
    "ExecuteTime": {
     "end_time": "2021-10-07T14:33:25.615138Z",
     "start_time": "2021-10-07T14:33:25.597188Z"
    }
   },
   "outputs": [
    {
     "name": "stdout",
     "output_type": "stream",
     "text": [
      "Help on DescribeResult in module scipy.stats.stats object:\n",
      "\n",
      "class DescribeResult(builtins.tuple)\n",
      " |  DescribeResult(nobs, minmax, mean, variance, skewness, kurtosis)\n",
      " |  \n",
      " |  DescribeResult(nobs, minmax, mean, variance, skewness, kurtosis)\n",
      " |  \n",
      " |  Method resolution order:\n",
      " |      DescribeResult\n",
      " |      builtins.tuple\n",
      " |      builtins.object\n",
      " |  \n",
      " |  Methods defined here:\n",
      " |  \n",
      " |  __getnewargs__(self)\n",
      " |      Return self as a plain tuple.  Used by copy and pickle.\n",
      " |  \n",
      " |  __repr__(self)\n",
      " |      Return a nicely formatted representation string\n",
      " |  \n",
      " |  _asdict(self)\n",
      " |      Return a new dict which maps field names to their values.\n",
      " |  \n",
      " |  _replace(self, /, **kwds)\n",
      " |      Return a new DescribeResult object replacing specified fields with new values\n",
      " |  \n",
      " |  ----------------------------------------------------------------------\n",
      " |  Class methods defined here:\n",
      " |  \n",
      " |  _make(iterable) from builtins.type\n",
      " |      Make a new DescribeResult object from a sequence or iterable\n",
      " |  \n",
      " |  ----------------------------------------------------------------------\n",
      " |  Static methods defined here:\n",
      " |  \n",
      " |  __new__(_cls, nobs, minmax, mean, variance, skewness, kurtosis)\n",
      " |      Create new instance of DescribeResult(nobs, minmax, mean, variance, skewness, kurtosis)\n",
      " |  \n",
      " |  ----------------------------------------------------------------------\n",
      " |  Data descriptors defined here:\n",
      " |  \n",
      " |  nobs\n",
      " |      Alias for field number 0\n",
      " |  \n",
      " |  minmax\n",
      " |      Alias for field number 1\n",
      " |  \n",
      " |  mean\n",
      " |      Alias for field number 2\n",
      " |  \n",
      " |  variance\n",
      " |      Alias for field number 3\n",
      " |  \n",
      " |  skewness\n",
      " |      Alias for field number 4\n",
      " |  \n",
      " |  kurtosis\n",
      " |      Alias for field number 5\n",
      " |  \n",
      " |  ----------------------------------------------------------------------\n",
      " |  Data and other attributes defined here:\n",
      " |  \n",
      " |  _field_defaults = {}\n",
      " |  \n",
      " |  _fields = ('nobs', 'minmax', 'mean', 'variance', 'skewness', 'kurtosis...\n",
      " |  \n",
      " |  _fields_defaults = {}\n",
      " |  \n",
      " |  ----------------------------------------------------------------------\n",
      " |  Methods inherited from builtins.tuple:\n",
      " |  \n",
      " |  __add__(self, value, /)\n",
      " |      Return self+value.\n",
      " |  \n",
      " |  __contains__(self, key, /)\n",
      " |      Return key in self.\n",
      " |  \n",
      " |  __eq__(self, value, /)\n",
      " |      Return self==value.\n",
      " |  \n",
      " |  __ge__(self, value, /)\n",
      " |      Return self>=value.\n",
      " |  \n",
      " |  __getattribute__(self, name, /)\n",
      " |      Return getattr(self, name).\n",
      " |  \n",
      " |  __getitem__(self, key, /)\n",
      " |      Return self[key].\n",
      " |  \n",
      " |  __gt__(self, value, /)\n",
      " |      Return self>value.\n",
      " |  \n",
      " |  __hash__(self, /)\n",
      " |      Return hash(self).\n",
      " |  \n",
      " |  __iter__(self, /)\n",
      " |      Implement iter(self).\n",
      " |  \n",
      " |  __le__(self, value, /)\n",
      " |      Return self<=value.\n",
      " |  \n",
      " |  __len__(self, /)\n",
      " |      Return len(self).\n",
      " |  \n",
      " |  __lt__(self, value, /)\n",
      " |      Return self<value.\n",
      " |  \n",
      " |  __mul__(self, value, /)\n",
      " |      Return self*value.\n",
      " |  \n",
      " |  __ne__(self, value, /)\n",
      " |      Return self!=value.\n",
      " |  \n",
      " |  __rmul__(self, value, /)\n",
      " |      Return value*self.\n",
      " |  \n",
      " |  count(self, value, /)\n",
      " |      Return number of occurrences of value.\n",
      " |  \n",
      " |  index(self, value, start=0, stop=9223372036854775807, /)\n",
      " |      Return first index of value.\n",
      " |      \n",
      " |      Raises ValueError if the value is not present.\n",
      "\n"
     ]
    }
   ],
   "source": [
    "help(result)"
   ]
  },
  {
   "cell_type": "code",
   "execution_count": null,
   "id": "9b187ab4",
   "metadata": {},
   "outputs": [],
   "source": []
  },
  {
   "cell_type": "markdown",
   "id": "af52981e",
   "metadata": {},
   "source": [
    "### Median"
   ]
  },
  {
   "cell_type": "markdown",
   "id": "259265ea",
   "metadata": {},
   "source": [
    "<p>\n",
    "<dt>Median</dt>\n",
    "<dd>The median is the middle value in a set of numbers that has been ranked from smallest to largest. Half the values are smaller than or equal to the median, and half the values are larger than or\n",
    "equal to the median.The median is not affected by extreme values, so you can use the median\n",
    "when extreme values are present.</dd>\n",
    "</p>"
   ]
  },
  {
   "attachments": {
    "image.png": {
     "image/png": "[encoded data removed]"
    }
   },
   "cell_type": "markdown",
   "id": "74dc0d94",
   "metadata": {},
   "source": [
    "![image.png](attachment:image.png)"
   ]
  },
  {
   "cell_type": "markdown",
   "id": "e3940d97",
   "metadata": {},
   "source": [
    "* The <b>median</b> is the middle-ranked value if there is an odd number of values in the data set. If there is an even number of values, then the median is the average of the two middle values."
   ]
  },
  {
   "cell_type": "code",
   "execution_count": 24,
   "id": "e0096964",
   "metadata": {
    "ExecuteTime": {
     "end_time": "2021-10-07T14:44:09.001814Z",
     "start_time": "2021-10-07T14:44:08.983787Z"
    }
   },
   "outputs": [
    {
     "data": {
      "text/plain": [
       "array([22, 23, 25, 26, 31, 31, 32, 36, 45, 45, 45, 55, 55, 72, 72, 99])"
      ]
     },
     "execution_count": 24,
     "metadata": {},
     "output_type": "execute_result"
    }
   ],
   "source": [
    "vals = np.sort(vals)\n",
    "vals"
   ]
  },
  {
   "cell_type": "code",
   "execution_count": 28,
   "id": "fa1b462f",
   "metadata": {
    "ExecuteTime": {
     "end_time": "2021-10-07T14:44:59.886333Z",
     "start_time": "2021-10-07T14:44:59.873368Z"
    }
   },
   "outputs": [
    {
     "data": {
      "text/plain": [
       "8"
      ]
     },
     "execution_count": 28,
     "metadata": {},
     "output_type": "execute_result"
    }
   ],
   "source": [
    "len(vals)//2"
   ]
  },
  {
   "cell_type": "code",
   "execution_count": 32,
   "id": "ef7b0457",
   "metadata": {
    "ExecuteTime": {
     "end_time": "2021-10-07T14:47:38.223517Z",
     "start_time": "2021-10-07T14:47:38.217533Z"
    }
   },
   "outputs": [
    {
     "data": {
      "text/plain": [
       "45.0"
      ]
     },
     "execution_count": 32,
     "metadata": {},
     "output_type": "execute_result"
    }
   ],
   "source": [
    "(vals[8]+vals[9])/2"
   ]
  },
  {
   "cell_type": "markdown",
   "id": "62c74185",
   "metadata": {},
   "source": [
    "Use the <b>Numpy</b> function <b>median()</b> and <b>Statistics</b> function <b>median()</b>"
   ]
  },
  {
   "cell_type": "code",
   "execution_count": 30,
   "id": "f49df47f",
   "metadata": {
    "ExecuteTime": {
     "end_time": "2021-10-07T14:45:37.246554Z",
     "start_time": "2021-10-07T14:45:37.235584Z"
    }
   },
   "outputs": [
    {
     "data": {
      "text/plain": [
       "40.5"
      ]
     },
     "execution_count": 30,
     "metadata": {},
     "output_type": "execute_result"
    }
   ],
   "source": [
    "np.median(vals)"
   ]
  },
  {
   "cell_type": "code",
   "execution_count": 31,
   "id": "9e5160c7",
   "metadata": {
    "ExecuteTime": {
     "end_time": "2021-10-07T14:47:03.554276Z",
     "start_time": "2021-10-07T14:47:03.534808Z"
    }
   },
   "outputs": [
    {
     "data": {
      "text/plain": [
       "40.5"
      ]
     },
     "execution_count": 31,
     "metadata": {},
     "output_type": "execute_result"
    }
   ],
   "source": [
    "statistics.median(vals)"
   ]
  },
  {
   "cell_type": "code",
   "execution_count": null,
   "id": "89eaa9d2",
   "metadata": {
    "ExecuteTime": {
     "end_time": "2021-10-06T19:04:42.852225Z",
     "start_time": "2021-10-06T19:04:42.830282Z"
    }
   },
   "outputs": [],
   "source": []
  },
  {
   "cell_type": "code",
   "execution_count": null,
   "id": "d4ccbd12",
   "metadata": {},
   "outputs": [],
   "source": []
  },
  {
   "cell_type": "markdown",
   "id": "5d0b09cb",
   "metadata": {},
   "source": [
    "### Mode"
   ]
  },
  {
   "cell_type": "markdown",
   "id": "fd94cf19",
   "metadata": {},
   "source": [
    "<p>\n",
    "<dt>Mode</dt>\n",
    "<dd>The mode is the value in a set of numbers that appears most frequently.To easily find the mode, put the numbers in order from least to greatest and count how many times each number occurs. There can be no mode or several modes.</dd>\n",
    "</p>"
   ]
  },
  {
   "cell_type": "code",
   "execution_count": 33,
   "id": "efe7fb8c",
   "metadata": {
    "ExecuteTime": {
     "end_time": "2021-10-07T14:47:50.741820Z",
     "start_time": "2021-10-07T14:47:50.730883Z"
    }
   },
   "outputs": [
    {
     "data": {
      "text/plain": [
       "(array([22, 23, 25, 26, 31, 32, 36, 45, 55, 72, 99]),\n",
       " array([1, 1, 1, 1, 2, 1, 1, 3, 2, 2, 1], dtype=int64))"
      ]
     },
     "execution_count": 33,
     "metadata": {},
     "output_type": "execute_result"
    }
   ],
   "source": [
    "np.unique(vals,return_counts=True)"
   ]
  },
  {
   "cell_type": "code",
   "execution_count": 34,
   "id": "12adbb70",
   "metadata": {
    "ExecuteTime": {
     "end_time": "2021-10-07T14:48:03.440859Z",
     "start_time": "2021-10-07T14:48:03.432882Z"
    }
   },
   "outputs": [
    {
     "data": {
      "text/plain": [
       "45"
      ]
     },
     "execution_count": 34,
     "metadata": {},
     "output_type": "execute_result"
    }
   ],
   "source": [
    "statistics.mode(vals)"
   ]
  },
  {
   "cell_type": "code",
   "execution_count": 35,
   "id": "74a85cb0",
   "metadata": {
    "ExecuteTime": {
     "end_time": "2021-10-07T14:48:04.243194Z",
     "start_time": "2021-10-07T14:48:04.231227Z"
    }
   },
   "outputs": [
    {
     "data": {
      "text/plain": [
       "ModeResult(mode=array([45]), count=array([3]))"
      ]
     },
     "execution_count": 35,
     "metadata": {},
     "output_type": "execute_result"
    }
   ],
   "source": [
    "stats.mode(vals)"
   ]
  },
  {
   "cell_type": "markdown",
   "id": "28895501",
   "metadata": {},
   "source": [
    "## Variation and Shape of a Data Set"
   ]
  },
  {
   "cell_type": "markdown",
   "id": "d50c8879",
   "metadata": {},
   "source": [
    "Every dataset can be characterized by its variation and shape or spread and dispersion. "
   ]
  },
  {
   "attachments": {
    "image-2.png": {
     "image/png": "[encoded data removed]"
    }
   },
   "cell_type": "markdown",
   "id": "8e208824",
   "metadata": {},
   "source": [
    "### Quartiles\n",
    "![image-2.png](attachment:image-2.png)\n",
    "\n",
    "<p>\n",
    "<dd>A quartile is a type of quantile which divides the number of data points into four parts, or quarters, of more-or-less equal size. The data must be ordered from smallest to largest to compute quartiles; as such, quartiles are a form of order statistic. The three main quartiles are as follows:\n",
    "</dd>\n",
    "</p>\n"
   ]
  },
  {
   "cell_type": "markdown",
   "id": "64f41a82",
   "metadata": {},
   "source": [
    "\n",
    "<p>\n",
    "<dt>The first quartile (Q1)</dt>\n",
    "<dd>The first quartile (Q1) is defined as the middle number between the smallest number (minimum) and the median of the data set. It is also known as the lower or 25th empirical quartile, as 25% of the data is below this point.\n",
    "</dd>\n",
    "</p>\n",
    "\n",
    "<p>\n",
    "<dt>The second quartile (Q2)</dt>\n",
    "<dd>The second quartile (Q2) is the median of a data set; thus 50% of the data lies below this point.\n",
    "</dd>\n",
    "</p>\n",
    "\n",
    "<p>\n",
    "<dt>The third quartile (Q3)</dt>\n",
    "<dd>The third quartile (Q3) is the middle value between the median and the highest value (maximum) of the data set. It is known as the upper or 75th empirical quartile, as 75% of the data lies below this point. \n",
    "</dd>\n",
    "</p>\n",
    "\n"
   ]
  },
  {
   "cell_type": "markdown",
   "id": "76e2e258",
   "metadata": {},
   "source": [
    "<b>WARNING: IF THE DESIRED PERCENTILE LIES BETWEEN TWO POINTS</b>\n",
    "Beware of the interpolation method to use when the desired percentile lies between two data points"
   ]
  },
  {
   "cell_type": "markdown",
   "id": "47c65474",
   "metadata": {},
   "source": [
    "#### Numpy"
   ]
  },
  {
   "cell_type": "code",
   "execution_count": 37,
   "id": "fba3c18e",
   "metadata": {
    "ExecuteTime": {
     "end_time": "2021-10-07T14:52:32.234483Z",
     "start_time": "2021-10-07T14:52:32.215535Z"
    }
   },
   "outputs": [
    {
     "data": {
      "text/plain": [
       "array([29.75, 40.5 , 55.  ])"
      ]
     },
     "execution_count": 37,
     "metadata": {},
     "output_type": "execute_result"
    }
   ],
   "source": [
    "# Interpolation is defaulted to linear\n",
    "\n",
    "quartiles = np.percentile(vals, [25 ,50, 75])\n",
    "quartiles"
   ]
  },
  {
   "cell_type": "code",
   "execution_count": 38,
   "id": "291e8c0a",
   "metadata": {
    "ExecuteTime": {
     "end_time": "2021-10-07T14:52:52.316728Z",
     "start_time": "2021-10-07T14:52:52.298776Z"
    }
   },
   "outputs": [
    {
     "data": {
      "text/plain": [
       "array([29.75, 40.5 , 55.  ])"
      ]
     },
     "execution_count": 38,
     "metadata": {},
     "output_type": "execute_result"
    }
   ],
   "source": [
    "quartiles = np.percentile(vals, [25 ,50, 75], interpolation = 'linear')\n",
    "quartiles"
   ]
  },
  {
   "cell_type": "code",
   "execution_count": 49,
   "id": "e729c71f",
   "metadata": {
    "ExecuteTime": {
     "end_time": "2021-10-07T15:03:27.853915Z",
     "start_time": "2021-10-07T15:03:27.839959Z"
    }
   },
   "outputs": [
    {
     "data": {
      "text/plain": [
       "array([28.5, 40.5, 55. ])"
      ]
     },
     "execution_count": 49,
     "metadata": {},
     "output_type": "execute_result"
    }
   ],
   "source": [
    "# Interpolation is set to midpoint\n",
    "\n",
    "quartiles = np.percentile(vals, [25 ,50, 75], interpolation = 'midpoint')\n",
    "quartiles"
   ]
  },
  {
   "cell_type": "code",
   "execution_count": 50,
   "id": "8f527838",
   "metadata": {
    "ExecuteTime": {
     "end_time": "2021-10-07T15:03:28.521666Z",
     "start_time": "2021-10-07T15:03:28.504714Z"
    }
   },
   "outputs": [
    {
     "data": {
      "text/plain": [
       "array([28.5, 34. , 40.5, 55. , 85.5])"
      ]
     },
     "execution_count": 50,
     "metadata": {},
     "output_type": "execute_result"
    }
   ],
   "source": [
    "np.percentile(vals, [25 , 45, 50, 75, 99], interpolation = 'midpoint')"
   ]
  },
  {
   "cell_type": "code",
   "execution_count": 51,
   "id": "ee4cc62f",
   "metadata": {
    "ExecuteTime": {
     "end_time": "2021-10-07T15:03:29.865876Z",
     "start_time": "2021-10-07T15:03:29.856902Z"
    }
   },
   "outputs": [
    {
     "data": {
      "text/plain": [
       "29.75"
      ]
     },
     "execution_count": 51,
     "metadata": {},
     "output_type": "execute_result"
    }
   ],
   "source": [
    "np.quantile(vals, .25)"
   ]
  },
  {
   "cell_type": "markdown",
   "id": "0f035593",
   "metadata": {},
   "source": [
    "#### Statistics"
   ]
  },
  {
   "cell_type": "code",
   "execution_count": 52,
   "id": "03fa060b",
   "metadata": {
    "ExecuteTime": {
     "end_time": "2021-10-07T15:03:33.212619Z",
     "start_time": "2021-10-07T15:03:33.196661Z"
    }
   },
   "outputs": [
    {
     "data": {
      "text/plain": [
       "[27.25, 40.5, 55.0]"
      ]
     },
     "execution_count": 52,
     "metadata": {},
     "output_type": "execute_result"
    }
   ],
   "source": [
    "# Method is defaulted to 'exclusive' (Sample set)\n",
    "quartiles = statistics.quantiles(vals, n=4)\n",
    "quartiles "
   ]
  },
  {
   "cell_type": "code",
   "execution_count": 53,
   "id": "28105c15",
   "metadata": {
    "ExecuteTime": {
     "end_time": "2021-10-07T15:03:34.165540Z",
     "start_time": "2021-10-07T15:03:34.152607Z"
    }
   },
   "outputs": [
    {
     "data": {
      "text/plain": [
       "[29.75, 40.5, 55.0]"
      ]
     },
     "execution_count": 53,
     "metadata": {},
     "output_type": "execute_result"
    }
   ],
   "source": [
    "# statistics treats method 'inclusive' and the  treated as population data. \n",
    "# Therefore the minimum value is treated as the 0th percentile and the\n",
    "# maximum value is treated as the 100th percentile.\n",
    "\n",
    "quartiles = statistics.quantiles(vals, n=4, method = 'inclusive')\n",
    "quartiles "
   ]
  },
  {
   "cell_type": "code",
   "execution_count": null,
   "id": "df14b613",
   "metadata": {},
   "outputs": [],
   "source": []
  },
  {
   "cell_type": "markdown",
   "id": "1f63ae41",
   "metadata": {},
   "source": [
    "#### Scipy"
   ]
  },
  {
   "cell_type": "code",
   "execution_count": 54,
   "id": "f9c2fc16",
   "metadata": {
    "ExecuteTime": {
     "end_time": "2021-10-07T15:03:49.612910Z",
     "start_time": "2021-10-07T15:03:49.593962Z"
    }
   },
   "outputs": [
    {
     "data": {
      "text/plain": [
       "array([28.25, 40.5 , 55.  ])"
      ]
     },
     "execution_count": 54,
     "metadata": {},
     "output_type": "execute_result"
    }
   ],
   "source": [
    "stats.mstats.mquantiles(vals, prob=[0.25, 0.5, 0.75])"
   ]
  },
  {
   "cell_type": "code",
   "execution_count": null,
   "id": "42b17e7f",
   "metadata": {},
   "outputs": [],
   "source": []
  },
  {
   "cell_type": "markdown",
   "id": "3620951a",
   "metadata": {},
   "source": [
    "### Range"
   ]
  },
  {
   "cell_type": "markdown",
   "id": "22759822",
   "metadata": {},
   "source": [
    "<p>\n",
    "<dt>Range</dt>\n",
    "<dd>The Range is equal to the largest value minus the smallest value.\n",
    "</dd>\n",
    "</p>"
   ]
  },
  {
   "cell_type": "code",
   "execution_count": 55,
   "id": "c05e0b12",
   "metadata": {
    "ExecuteTime": {
     "end_time": "2021-10-07T15:04:33.578955Z",
     "start_time": "2021-10-07T15:04:33.567986Z"
    }
   },
   "outputs": [
    {
     "data": {
      "text/plain": [
       "77"
      ]
     },
     "execution_count": 55,
     "metadata": {},
     "output_type": "execute_result"
    }
   ],
   "source": [
    "# Sort vals\n",
    "vals = np.sort(vals)\n",
    "\n",
    "# Pick the highest and lowst val\n",
    "highest = vals[-1]\n",
    "lowest = vals[0]\n",
    "\n",
    "# Find the difference\n",
    "\n",
    "statistical_range = highest-lowest\n",
    "statistical_range"
   ]
  },
  {
   "cell_type": "code",
   "execution_count": 58,
   "id": "237e33a0",
   "metadata": {
    "ExecuteTime": {
     "end_time": "2021-10-07T15:05:36.931385Z",
     "start_time": "2021-10-07T15:05:36.914432Z"
    }
   },
   "outputs": [
    {
     "data": {
      "text/plain": [
       "77"
      ]
     },
     "execution_count": 58,
     "metadata": {},
     "output_type": "execute_result"
    }
   ],
   "source": [
    "minimum = np.min(vals)\n",
    "maximum = np.max(vals)\n",
    "statistical_range = maximum-minimum\n",
    "statistical_range"
   ]
  },
  {
   "cell_type": "code",
   "execution_count": 56,
   "id": "9cc98e6b",
   "metadata": {
    "ExecuteTime": {
     "end_time": "2021-10-07T15:04:49.087505Z",
     "start_time": "2021-10-07T15:04:49.075513Z"
    }
   },
   "outputs": [
    {
     "data": {
      "text/plain": [
       "77"
      ]
     },
     "execution_count": 56,
     "metadata": {},
     "output_type": "execute_result"
    }
   ],
   "source": [
    "# Use Numpy's PTP Function \n",
    "# The name of the function comes from the acronym for 'peak to peak'.\n",
    "np.ptp(vals)\n"
   ]
  },
  {
   "cell_type": "code",
   "execution_count": 59,
   "id": "350a075c",
   "metadata": {
    "ExecuteTime": {
     "end_time": "2021-10-07T15:07:04.873071Z",
     "start_time": "2021-10-07T15:07:04.855120Z"
    }
   },
   "outputs": [],
   "source": [
    "x = np.array([[4, 9, 2, 10],\n",
    "...               [6, 9, 7, 12]])"
   ]
  },
  {
   "cell_type": "code",
   "execution_count": 60,
   "id": "84507ce2",
   "metadata": {
    "ExecuteTime": {
     "end_time": "2021-10-07T15:07:10.647165Z",
     "start_time": "2021-10-07T15:07:10.633205Z"
    }
   },
   "outputs": [
    {
     "data": {
      "text/plain": [
       "array([[ 4,  9,  2, 10],\n",
       "       [ 6,  9,  7, 12]])"
      ]
     },
     "execution_count": 60,
     "metadata": {},
     "output_type": "execute_result"
    }
   ],
   "source": [
    "x"
   ]
  },
  {
   "cell_type": "code",
   "execution_count": 62,
   "id": "88dc4b66",
   "metadata": {
    "ExecuteTime": {
     "end_time": "2021-10-07T15:07:37.151021Z",
     "start_time": "2021-10-07T15:07:37.136028Z"
    }
   },
   "outputs": [
    {
     "data": {
      "text/plain": [
       "array([8, 6])"
      ]
     },
     "execution_count": 62,
     "metadata": {},
     "output_type": "execute_result"
    }
   ],
   "source": [
    "np.ptp(x, axis = 1)"
   ]
  },
  {
   "cell_type": "code",
   "execution_count": 63,
   "id": "6411613a",
   "metadata": {
    "ExecuteTime": {
     "end_time": "2021-10-07T15:07:57.501334Z",
     "start_time": "2021-10-07T15:07:57.481389Z"
    }
   },
   "outputs": [
    {
     "data": {
      "text/plain": [
       "array([2, 0, 5, 2])"
      ]
     },
     "execution_count": 63,
     "metadata": {},
     "output_type": "execute_result"
    }
   ],
   "source": [
    "np.ptp(x, axis = 0)"
   ]
  },
  {
   "cell_type": "code",
   "execution_count": null,
   "id": "84b919a5",
   "metadata": {},
   "outputs": [],
   "source": []
  },
  {
   "cell_type": "markdown",
   "id": "b55d8867",
   "metadata": {},
   "source": [
    "### Interquartile Range"
   ]
  },
  {
   "cell_type": "markdown",
   "id": "c40111dc",
   "metadata": {},
   "source": [
    "<p>\n",
    "<dt>Interquartile Range</dt>\n",
    "<dd>The Interquartile Range is the difference between the third and first quartiles. \n",
    "</dd>\n",
    "</p>"
   ]
  },
  {
   "cell_type": "markdown",
   "id": "615470fb",
   "metadata": {},
   "source": [
    "#### Numpy"
   ]
  },
  {
   "cell_type": "code",
   "execution_count": 70,
   "id": "9dca6544",
   "metadata": {
    "ExecuteTime": {
     "end_time": "2021-10-07T15:09:30.873964Z",
     "start_time": "2021-10-07T15:09:30.863992Z"
    }
   },
   "outputs": [
    {
     "data": {
      "text/plain": [
       "array([29.75, 55.  ])"
      ]
     },
     "execution_count": 70,
     "metadata": {},
     "output_type": "execute_result"
    }
   ],
   "source": [
    "quartiles = np.percentile(vals, [25 ,75], interpolation = 'linear')\n",
    "quartiles"
   ]
  },
  {
   "cell_type": "code",
   "execution_count": 71,
   "id": "c111847c",
   "metadata": {
    "ExecuteTime": {
     "end_time": "2021-10-07T15:09:31.343061Z",
     "start_time": "2021-10-07T15:09:31.331093Z"
    }
   },
   "outputs": [
    {
     "name": "stdout",
     "output_type": "stream",
     "text": [
      "[29.75 55.  ]\n"
     ]
    },
    {
     "data": {
      "text/plain": [
       "25.25"
      ]
     },
     "execution_count": 71,
     "metadata": {},
     "output_type": "execute_result"
    }
   ],
   "source": [
    "Q1 = quartiles[0]\n",
    "Q3 = quartiles[1]\n",
    "print(quartiles)\n",
    "\n",
    "IR = Q3 - Q1\n",
    "IR"
   ]
  },
  {
   "cell_type": "code",
   "execution_count": 72,
   "id": "33412b5b",
   "metadata": {
    "ExecuteTime": {
     "end_time": "2021-10-07T15:09:32.157279Z",
     "start_time": "2021-10-07T15:09:32.145313Z"
    }
   },
   "outputs": [
    {
     "name": "stdout",
     "output_type": "stream",
     "text": [
      "[28.5 55. ]\n"
     ]
    },
    {
     "data": {
      "text/plain": [
       "26.5"
      ]
     },
     "execution_count": 72,
     "metadata": {},
     "output_type": "execute_result"
    }
   ],
   "source": [
    "quartiles = np.percentile(vals, [25 ,75], interpolation = 'midpoint')\n",
    "\n",
    "Q1 = quartiles[0]\n",
    "Q3 = quartiles[1]\n",
    "print(quartiles)\n",
    "\n",
    "IR = Q3 - Q1\n",
    "IR\n"
   ]
  },
  {
   "cell_type": "code",
   "execution_count": 73,
   "id": "fcdb3e3c",
   "metadata": {
    "ExecuteTime": {
     "end_time": "2021-10-07T15:09:32.578594Z",
     "start_time": "2021-10-07T15:09:32.565629Z"
    }
   },
   "outputs": [
    {
     "name": "stdout",
     "output_type": "stream",
     "text": [
      "[26 55]\n"
     ]
    },
    {
     "data": {
      "text/plain": [
       "29"
      ]
     },
     "execution_count": 73,
     "metadata": {},
     "output_type": "execute_result"
    }
   ],
   "source": [
    "quartiles = np.percentile(vals, [25 ,75], interpolation = 'lower')\n",
    "\n",
    "Q1 = quartiles[0]\n",
    "Q3 = quartiles[1]\n",
    "print(quartiles)\n",
    "\n",
    "IR = Q3 - Q1\n",
    "IR"
   ]
  },
  {
   "cell_type": "code",
   "execution_count": 74,
   "id": "ba41055e",
   "metadata": {
    "ExecuteTime": {
     "end_time": "2021-10-07T15:09:45.730727Z",
     "start_time": "2021-10-07T15:09:45.718762Z"
    }
   },
   "outputs": [
    {
     "name": "stdout",
     "output_type": "stream",
     "text": [
      "[31 55]\n"
     ]
    },
    {
     "data": {
      "text/plain": [
       "24"
      ]
     },
     "execution_count": 74,
     "metadata": {},
     "output_type": "execute_result"
    }
   ],
   "source": [
    "quartiles = np.percentile(vals, [25 ,75], interpolation = 'higher')\n",
    "\n",
    "Q1 = quartiles[0]\n",
    "Q3 = quartiles[1]\n",
    "print(quartiles)\n",
    "\n",
    "IR = Q3 - Q1\n",
    "IR"
   ]
  },
  {
   "cell_type": "code",
   "execution_count": 75,
   "id": "2156e57f",
   "metadata": {
    "ExecuteTime": {
     "end_time": "2021-10-07T15:09:46.367903Z",
     "start_time": "2021-10-07T15:09:46.345995Z"
    }
   },
   "outputs": [
    {
     "name": "stdout",
     "output_type": "stream",
     "text": [
      "[31 55]\n"
     ]
    },
    {
     "data": {
      "text/plain": [
       "24"
      ]
     },
     "execution_count": 75,
     "metadata": {},
     "output_type": "execute_result"
    }
   ],
   "source": [
    "quartiles = np.percentile(vals, [25 ,75], interpolation = 'nearest')\n",
    "\n",
    "Q1 = quartiles[0]\n",
    "Q3 = quartiles[1]\n",
    "print(quartiles)\n",
    "\n",
    "IR = Q3 - Q1\n",
    "IR"
   ]
  },
  {
   "cell_type": "markdown",
   "id": "02203cf4",
   "metadata": {},
   "source": [
    "#### Statistics"
   ]
  },
  {
   "cell_type": "code",
   "execution_count": 77,
   "id": "7f3e0be3",
   "metadata": {
    "ExecuteTime": {
     "end_time": "2021-10-07T15:22:19.289798Z",
     "start_time": "2021-10-07T15:22:19.279823Z"
    }
   },
   "outputs": [
    {
     "name": "stdout",
     "output_type": "stream",
     "text": [
      "[27.25, 40.5, 55.0]\n"
     ]
    },
    {
     "data": {
      "text/plain": [
       "27.75"
      ]
     },
     "execution_count": 77,
     "metadata": {},
     "output_type": "execute_result"
    }
   ],
   "source": [
    "quartiles = statistics.quantiles(vals, n=4, method='exclusive')\n",
    "quartiles \n",
    "print(quartiles)\n",
    "\n",
    "Q1 = quartiles[0]\n",
    "Q3 = quartiles[2]\n",
    "\n",
    "IR = Q3 - Q1\n",
    "IR"
   ]
  },
  {
   "cell_type": "code",
   "execution_count": 78,
   "id": "da23bbbc",
   "metadata": {
    "ExecuteTime": {
     "end_time": "2021-10-07T15:22:20.007997Z",
     "start_time": "2021-10-07T15:22:19.986056Z"
    }
   },
   "outputs": [
    {
     "name": "stdout",
     "output_type": "stream",
     "text": [
      "[29.75, 40.5, 55.0]\n"
     ]
    },
    {
     "data": {
      "text/plain": [
       "25.25"
      ]
     },
     "execution_count": 78,
     "metadata": {},
     "output_type": "execute_result"
    }
   ],
   "source": [
    "quartiles = statistics.quantiles(vals, n=4, method='inclusive')\n",
    "quartiles \n",
    "print(quartiles)\n",
    "\n",
    "Q1 = quartiles[0]\n",
    "Q3 = quartiles[2]\n",
    "\n",
    "IR = Q3 - Q1\n",
    "IR"
   ]
  },
  {
   "cell_type": "markdown",
   "id": "958a844f",
   "metadata": {},
   "source": [
    "#### Scipy"
   ]
  },
  {
   "cell_type": "code",
   "execution_count": 79,
   "id": "19d3a55d",
   "metadata": {
    "ExecuteTime": {
     "end_time": "2021-10-07T15:25:13.180653Z",
     "start_time": "2021-10-07T15:25:13.159197Z"
    }
   },
   "outputs": [
    {
     "data": {
      "text/plain": [
       "25.25"
      ]
     },
     "execution_count": 79,
     "metadata": {},
     "output_type": "execute_result"
    }
   ],
   "source": [
    "stats.iqr(vals, interpolation = 'linear')"
   ]
  },
  {
   "cell_type": "code",
   "execution_count": 80,
   "id": "0394af06",
   "metadata": {
    "ExecuteTime": {
     "end_time": "2021-10-07T15:25:14.354598Z",
     "start_time": "2021-10-07T15:25:14.345624Z"
    }
   },
   "outputs": [
    {
     "data": {
      "text/plain": [
       "26.5"
      ]
     },
     "execution_count": 80,
     "metadata": {},
     "output_type": "execute_result"
    }
   ],
   "source": [
    "stats.iqr(vals, interpolation = 'midpoint')"
   ]
  },
  {
   "cell_type": "code",
   "execution_count": 81,
   "id": "9195b690",
   "metadata": {
    "ExecuteTime": {
     "end_time": "2021-10-07T15:25:15.484489Z",
     "start_time": "2021-10-07T15:25:15.469019Z"
    }
   },
   "outputs": [
    {
     "data": {
      "text/plain": [
       "29"
      ]
     },
     "execution_count": 81,
     "metadata": {},
     "output_type": "execute_result"
    }
   ],
   "source": [
    "stats.iqr(vals, interpolation = 'lower')"
   ]
  },
  {
   "cell_type": "code",
   "execution_count": 82,
   "id": "3cfd05f2",
   "metadata": {
    "ExecuteTime": {
     "end_time": "2021-10-07T15:25:16.277786Z",
     "start_time": "2021-10-07T15:25:16.263314Z"
    }
   },
   "outputs": [
    {
     "data": {
      "text/plain": [
       "24"
      ]
     },
     "execution_count": 82,
     "metadata": {},
     "output_type": "execute_result"
    }
   ],
   "source": [
    "stats.iqr(vals, interpolation = 'higher')"
   ]
  },
  {
   "cell_type": "code",
   "execution_count": 83,
   "id": "46048891",
   "metadata": {
    "ExecuteTime": {
     "end_time": "2021-10-07T15:25:16.761416Z",
     "start_time": "2021-10-07T15:25:16.749450Z"
    }
   },
   "outputs": [
    {
     "data": {
      "text/plain": [
       "24"
      ]
     },
     "execution_count": 83,
     "metadata": {},
     "output_type": "execute_result"
    }
   ],
   "source": [
    "stats.iqr(vals, interpolation = 'nearest')"
   ]
  },
  {
   "cell_type": "markdown",
   "id": "c783e26b",
   "metadata": {},
   "source": [
    "### Statsmodels (Only use if you have to)"
   ]
  },
  {
   "cell_type": "code",
   "execution_count": 84,
   "id": "2e8bccea",
   "metadata": {
    "ExecuteTime": {
     "end_time": "2021-10-07T15:29:29.425831Z",
     "start_time": "2021-10-07T15:29:29.379960Z"
    }
   },
   "outputs": [],
   "source": [
    "from statsmodels.tools.eval_measures import iqr as eval_iqr"
   ]
  },
  {
   "cell_type": "code",
   "execution_count": 85,
   "id": "8cab3f03",
   "metadata": {
    "ExecuteTime": {
     "end_time": "2021-10-07T15:29:30.146020Z",
     "start_time": "2021-10-07T15:29:30.131060Z"
    }
   },
   "outputs": [
    {
     "data": {
      "text/plain": [
       "array(24)"
      ]
     },
     "execution_count": 85,
     "metadata": {},
     "output_type": "execute_result"
    }
   ],
   "source": [
    "eval_iqr(vals, 4, axis = 0)"
   ]
  },
  {
   "cell_type": "code",
   "execution_count": null,
   "id": "0d4255c6",
   "metadata": {},
   "outputs": [],
   "source": []
  },
  {
   "cell_type": "markdown",
   "id": "5348e96e",
   "metadata": {},
   "source": [
    "## Slicing in Quantiles"
   ]
  },
  {
   "cell_type": "markdown",
   "id": "0743db66",
   "metadata": {},
   "source": [
    "## Descriptive Functions Available in Python\n",
    "Be careful of the methods they use to formulate descptive stats"
   ]
  },
  {
   "cell_type": "markdown",
   "id": "18072014",
   "metadata": {},
   "source": [
    "#### Statsmodels descriptive stats"
   ]
  },
  {
   "cell_type": "code",
   "execution_count": 86,
   "id": "8f431f07",
   "metadata": {
    "ExecuteTime": {
     "end_time": "2021-10-07T15:30:26.860070Z",
     "start_time": "2021-10-07T15:30:26.783764Z"
    }
   },
   "outputs": [],
   "source": [
    "from statsmodels.stats.descriptivestats import describe"
   ]
  },
  {
   "cell_type": "code",
   "execution_count": 97,
   "id": "3eb9e421",
   "metadata": {
    "ExecuteTime": {
     "end_time": "2021-10-07T15:33:12.657712Z",
     "start_time": "2021-10-07T15:33:12.601338Z"
    }
   },
   "outputs": [
    {
     "data": {
      "text/plain": [
       "nobs                16.000000\n",
       "missing              0.000000\n",
       "mean                44.625000\n",
       "std_err              1.348972\n",
       "upper_ci            47.268937\n",
       "lower_ci            41.981063\n",
       "std                 21.583559\n",
       "iqr                 25.250000\n",
       "iqr_normal          18.717853\n",
       "mad                 16.375000\n",
       "mad_normal          20.523019\n",
       "coef_var             0.483665\n",
       "range               77.000000\n",
       "max                 99.000000\n",
       "min                 22.000000\n",
       "skew                 1.099792\n",
       "kurtosis             3.518367\n",
       "jarque_bera          3.404582\n",
       "jarque_bera_pval     0.182266\n",
       "mode                45.000000\n",
       "mode_freq            0.187500\n",
       "median              40.500000\n",
       "Name: 0, dtype: float64"
      ]
     },
     "execution_count": 97,
     "metadata": {},
     "output_type": "execute_result"
    }
   ],
   "source": [
    "result = describe(vals).squeeze()\n",
    "result"
   ]
  },
  {
   "cell_type": "code",
   "execution_count": 98,
   "id": "99313a2e",
   "metadata": {
    "ExecuteTime": {
     "end_time": "2021-10-07T15:33:18.751315Z",
     "start_time": "2021-10-07T15:33:18.746329Z"
    }
   },
   "outputs": [
    {
     "data": {
      "text/plain": [
       "25.25"
      ]
     },
     "execution_count": 98,
     "metadata": {},
     "output_type": "execute_result"
    }
   ],
   "source": [
    "result['iqr']"
   ]
  },
  {
   "cell_type": "code",
   "execution_count": 99,
   "id": "fbe855f5",
   "metadata": {
    "ExecuteTime": {
     "end_time": "2021-10-07T15:33:56.910005Z",
     "start_time": "2021-10-07T15:33:56.891089Z"
    }
   },
   "outputs": [
    {
     "data": {
      "text/html": [
       "<div>\n",
       "<style scoped>\n",
       "    .dataframe tbody tr th:only-of-type {\n",
       "        vertical-align: middle;\n",
       "    }\n",
       "\n",
       "    .dataframe tbody tr th {\n",
       "        vertical-align: top;\n",
       "    }\n",
       "\n",
       "    .dataframe thead th {\n",
       "        text-align: right;\n",
       "    }\n",
       "</style>\n",
       "<table border=\"1\" class=\"dataframe\">\n",
       "  <thead>\n",
       "    <tr style=\"text-align: right;\">\n",
       "      <th></th>\n",
       "      <th>0</th>\n",
       "    </tr>\n",
       "  </thead>\n",
       "  <tbody>\n",
       "    <tr>\n",
       "      <th>count</th>\n",
       "      <td>16.000000</td>\n",
       "    </tr>\n",
       "    <tr>\n",
       "      <th>mean</th>\n",
       "      <td>44.625000</td>\n",
       "    </tr>\n",
       "    <tr>\n",
       "      <th>std</th>\n",
       "      <td>21.583559</td>\n",
       "    </tr>\n",
       "    <tr>\n",
       "      <th>min</th>\n",
       "      <td>22.000000</td>\n",
       "    </tr>\n",
       "    <tr>\n",
       "      <th>25%</th>\n",
       "      <td>29.750000</td>\n",
       "    </tr>\n",
       "    <tr>\n",
       "      <th>50%</th>\n",
       "      <td>40.500000</td>\n",
       "    </tr>\n",
       "    <tr>\n",
       "      <th>75%</th>\n",
       "      <td>55.000000</td>\n",
       "    </tr>\n",
       "    <tr>\n",
       "      <th>max</th>\n",
       "      <td>99.000000</td>\n",
       "    </tr>\n",
       "  </tbody>\n",
       "</table>\n",
       "</div>"
      ],
      "text/plain": [
       "               0\n",
       "count  16.000000\n",
       "mean   44.625000\n",
       "std    21.583559\n",
       "min    22.000000\n",
       "25%    29.750000\n",
       "50%    40.500000\n",
       "75%    55.000000\n",
       "max    99.000000"
      ]
     },
     "execution_count": 99,
     "metadata": {},
     "output_type": "execute_result"
    }
   ],
   "source": [
    "# Using df.describe from Pandas.\n",
    "# But notice how we can tell that they are interplating the quartiles using the linear method!\n",
    "\n",
    "df_vals = pd.DataFrame(vals)\n",
    "df_vals.describe()"
   ]
  },
  {
   "cell_type": "markdown",
   "id": "2c8383cb",
   "metadata": {},
   "source": [
    "## Generalized, Pythagorian, and \"Other\" Means"
   ]
  },
  {
   "cell_type": "markdown",
   "id": "228ccad1",
   "metadata": {},
   "source": [
    "### Percentages May Be Deceptive"
   ]
  },
  {
   "attachments": {
    "image-4.png": {
     "image/png": "[encoded data removed]"
    }
   },
   "cell_type": "markdown",
   "id": "6e8b6a50",
   "metadata": {},
   "source": [
    "![image-4.png](attachment:image-4.png)"
   ]
  },
  {
   "cell_type": "markdown",
   "id": "4eb0704c",
   "metadata": {},
   "source": [
    "### Geometric Mean\n",
    "Most often used for rates of return over time. Use for a multiplicative relationship. "
   ]
  },
  {
   "cell_type": "markdown",
   "id": "a81f22f2",
   "metadata": {},
   "source": [
    "<p>\n",
    "<dt>Geometric Mean</dt>\n",
    "<dd>The Geometric Mean measures the rate of change of a variable over time. It does this by taking the nth root of the product of n values. \n",
    "</dd>\n",
    "</p>"
   ]
  },
  {
   "cell_type": "markdown",
   "id": "353e9458",
   "metadata": {},
   "source": [
    "<b>Geometric Mean Formula:</b>"
   ]
  },
  {
   "cell_type": "markdown",
   "id": "e4df9b1e",
   "metadata": {},
   "source": [
    "$\\huge = {(X_1 \\cdot X_2 \\cdot X_3 ... X_n)}^{1/n}$ <b>n</b> is the number of terms in the formula"
   ]
  },
  {
   "cell_type": "markdown",
   "id": "01523817",
   "metadata": {},
   "source": [
    "$\\huge = \\sqrt[\\leftroot{-2}\\uproot{2}n]{(X_1 \\cdot X_2 \\cdot X_3 ... X_n)}$"
   ]
  },
  {
   "cell_type": "markdown",
   "id": "fa76466d",
   "metadata": {},
   "source": [
    "Another way to look at it is this way..."
   ]
  },
  {
   "cell_type": "markdown",
   "id": "6d1c92ca",
   "metadata": {},
   "source": [
    "$\\huge\\sqrt[\\leftroot{-2}\\uproot{2}2]{(2\\cdot2)}=2$"
   ]
  },
  {
   "cell_type": "markdown",
   "id": "45201902",
   "metadata": {},
   "source": [
    "or"
   ]
  },
  {
   "cell_type": "markdown",
   "id": "b0a26964",
   "metadata": {},
   "source": [
    "$\\huge\\sqrt[\\leftroot{-2}\\uproot{2}3]{(2\\cdot2\\cdot2)}=2$"
   ]
  },
  {
   "cell_type": "markdown",
   "id": "41a51399",
   "metadata": {},
   "source": [
    "or"
   ]
  },
  {
   "cell_type": "markdown",
   "id": "e7f67144",
   "metadata": {},
   "source": [
    "$\\huge\\sqrt[\\leftroot{-2}\\uproot{2}4]{(2\\cdot2\\cdot2\\cdot2)}=2$"
   ]
  },
  {
   "cell_type": "markdown",
   "id": "38f2e2c0",
   "metadata": {},
   "source": [
    "<p>\n",
    "<dt>Capital Pi</dt>\n",
    "<dd>The <b>Geometric Mean</b> is <b>ALMOST ALWAYS</b> expressed using this scary-looking thing called a <b>\"Capital Pi.</b>\" That's funny because it looks like a capital version of the symbol 'Pi'. Don't let these mathematicians and statisticians scare you with their use of obscure Greek letters. It's a lot easier to understand than it looks. Also, using Google Images to look it up will bring you to many Japanese and Chinese characters. It's easier to search for \"Capital Pi.\" Also, everyone loves pie!\n",
    "</dd>\n",
    "</p>"
   ]
  },
  {
   "cell_type": "markdown",
   "id": "7e36ed60",
   "metadata": {},
   "source": [
    "The difference between big sum and big pi, is the sum vs the product"
   ]
  },
  {
   "cell_type": "markdown",
   "id": "f093b5c2",
   "metadata": {},
   "source": [
    "$\\Huge1\\cdot2\\cdot3\\cdot4 = \\prod\\limits_{i=1}^4 i$"
   ]
  },
  {
   "cell_type": "markdown",
   "id": "3a7265e7",
   "metadata": {},
   "source": [
    "<b>Geometric Series Formula</b>"
   ]
  },
  {
   "cell_type": "markdown",
   "id": "2e31f418",
   "metadata": {},
   "source": [
    "$\\Huge(\\prod\\limits_{i=1}^n x_i)^{1/n} = \\sqrt[\\leftroot{-2}\\uproot{2}n]{(X_1 X_2 \\cdot \\cdot \\cdot X_i)}$"
   ]
  },
  {
   "cell_type": "markdown",
   "id": "1e02f3d4",
   "metadata": {},
   "source": [
    "Solution in Python found on Stack Overflow here:\n",
    "https://stackoverflow.com/questions/43099542/python-easy-way-to-do-geometric-mean-in-python"
   ]
  },
  {
   "cell_type": "markdown",
   "id": "4e178d03",
   "metadata": {},
   "source": [
    "AJ Question"
   ]
  },
  {
   "cell_type": "code",
   "execution_count": 107,
   "id": "42e51944",
   "metadata": {
    "ExecuteTime": {
     "end_time": "2021-10-07T15:50:51.682215Z",
     "start_time": "2021-10-07T15:50:51.665261Z"
    }
   },
   "outputs": [],
   "source": [
    "def geo_mean(iterable):\n",
    "    \n",
    "    a = np.array(iterable)\n",
    "    product = np.prod(a)\n",
    "    return a.prod()**(1.0/len(a))"
   ]
  },
  {
   "cell_type": "code",
   "execution_count": 112,
   "id": "8d64f46b",
   "metadata": {
    "ExecuteTime": {
     "end_time": "2021-10-07T15:51:42.522297Z",
     "start_time": "2021-10-07T15:51:42.515317Z"
    }
   },
   "outputs": [
    {
     "data": {
      "text/plain": [
       "array([22, 23, 25, 26, 31, 31, 32, 36, 45, 45, 45, 55, 55, 72, 72, 99])"
      ]
     },
     "execution_count": 112,
     "metadata": {},
     "output_type": "execute_result"
    }
   ],
   "source": [
    "vals"
   ]
  },
  {
   "cell_type": "code",
   "execution_count": 115,
   "id": "ee1e7087",
   "metadata": {
    "ExecuteTime": {
     "end_time": "2021-10-07T15:51:59.712820Z",
     "start_time": "2021-10-07T15:51:59.705840Z"
    }
   },
   "outputs": [
    {
     "data": {
      "text/plain": [
       "781418496"
      ]
     },
     "execution_count": 115,
     "metadata": {},
     "output_type": "execute_result"
    }
   ],
   "source": [
    "product = np.prod(vals)\n",
    "product"
   ]
  },
  {
   "cell_type": "code",
   "execution_count": 116,
   "id": "71ff66a6",
   "metadata": {
    "ExecuteTime": {
     "end_time": "2021-10-07T15:52:16.604298Z",
     "start_time": "2021-10-07T15:52:16.589336Z"
    }
   },
   "outputs": [
    {
     "data": {
      "text/plain": [
       "3.595880332705304"
      ]
     },
     "execution_count": 116,
     "metadata": {},
     "output_type": "execute_result"
    }
   ],
   "source": [
    "product**(1/len(vals))"
   ]
  },
  {
   "cell_type": "code",
   "execution_count": 108,
   "id": "f482e9d5",
   "metadata": {
    "ExecuteTime": {
     "end_time": "2021-10-07T15:50:52.306062Z",
     "start_time": "2021-10-07T15:50:52.295126Z"
    }
   },
   "outputs": [
    {
     "data": {
      "text/plain": [
       "3.595880332705304"
      ]
     },
     "execution_count": 108,
     "metadata": {},
     "output_type": "execute_result"
    }
   ],
   "source": [
    "geo_mean(vals)"
   ]
  },
  {
   "cell_type": "code",
   "execution_count": 109,
   "id": "f53e10d3",
   "metadata": {
    "ExecuteTime": {
     "end_time": "2021-10-07T15:50:53.254059Z",
     "start_time": "2021-10-07T15:50:53.246046Z"
    }
   },
   "outputs": [],
   "source": [
    "def geo_mean_overflow(iterable):\n",
    "    a = np.log(iterable)\n",
    "    return np.exp(a.mean())\n"
   ]
  },
  {
   "cell_type": "code",
   "execution_count": 110,
   "id": "579f0e78",
   "metadata": {
    "ExecuteTime": {
     "end_time": "2021-10-07T15:50:53.740345Z",
     "start_time": "2021-10-07T15:50:53.726382Z"
    }
   },
   "outputs": [
    {
     "data": {
      "text/plain": [
       "40.45702352421686"
      ]
     },
     "execution_count": 110,
     "metadata": {},
     "output_type": "execute_result"
    }
   ],
   "source": [
    "geo_mean_overflow(vals)"
   ]
  },
  {
   "cell_type": "markdown",
   "id": "2951bf5a",
   "metadata": {},
   "source": [
    "Using <b>Statistics></b>"
   ]
  },
  {
   "cell_type": "code",
   "execution_count": 104,
   "id": "309e99f4",
   "metadata": {
    "ExecuteTime": {
     "end_time": "2021-10-07T15:47:38.147539Z",
     "start_time": "2021-10-07T15:47:38.129783Z"
    }
   },
   "outputs": [
    {
     "data": {
      "text/plain": [
       "40.45702352421686"
      ]
     },
     "execution_count": 104,
     "metadata": {},
     "output_type": "execute_result"
    }
   ],
   "source": [
    "statistics.geometric_mean(vals)"
   ]
  },
  {
   "cell_type": "markdown",
   "id": "6dd4a62f",
   "metadata": {},
   "source": [
    "Using <b>Scipy</b>"
   ]
  },
  {
   "cell_type": "code",
   "execution_count": 105,
   "id": "3af697d7",
   "metadata": {
    "ExecuteTime": {
     "end_time": "2021-10-07T15:47:39.298854Z",
     "start_time": "2021-10-07T15:47:39.285374Z"
    }
   },
   "outputs": [],
   "source": [
    "from scipy.stats.mstats import gmean"
   ]
  },
  {
   "cell_type": "code",
   "execution_count": 106,
   "id": "ef765634",
   "metadata": {
    "ExecuteTime": {
     "end_time": "2021-10-07T15:47:39.880449Z",
     "start_time": "2021-10-07T15:47:39.871475Z"
    }
   },
   "outputs": [
    {
     "data": {
      "text/plain": [
       "40.45702352421686"
      ]
     },
     "execution_count": 106,
     "metadata": {},
     "output_type": "execute_result"
    }
   ],
   "source": [
    "gmean(vals)"
   ]
  },
  {
   "cell_type": "markdown",
   "id": "92426b3d",
   "metadata": {},
   "source": [
    "### Geometrice Mean Rate of Return"
   ]
  },
  {
   "cell_type": "markdown",
   "id": "848b56c5",
   "metadata": {},
   "source": [
    "Since you can't have negative values in the Geometric Mean calculation a simple adjustment is made when calculating rates of return. It measures the average percentage return of an investment over time. "
   ]
  },
  {
   "cell_type": "markdown",
   "id": "a319aaff",
   "metadata": {},
   "source": [
    "$ \\Large\\bar{R}_G = [(1+R_1) \\times (1+R_2) \\times \\cdot\\cdot\\cdot \\times(1 + R_n)]^{1/n}-1$"
   ]
  },
  {
   "cell_type": "markdown",
   "id": "76988f18",
   "metadata": {},
   "source": [
    "where $\\Large R_n$ is the rate of return in time period $\\Large n$"
   ]
  },
  {
   "cell_type": "markdown",
   "id": "7173d400",
   "metadata": {},
   "source": [
    "<b>EXAMPLE</b>"
   ]
  },
  {
   "cell_type": "markdown",
   "id": "29e9700c",
   "metadata": {},
   "source": [
    "Consider the returns going from 2 boxes to 1 box in year one, and then from 1 box to 2 boxes in year 2."
   ]
  },
  {
   "cell_type": "code",
   "execution_count": 117,
   "id": "01249f7b",
   "metadata": {
    "ExecuteTime": {
     "end_time": "2021-10-07T16:04:27.254682Z",
     "start_time": "2021-10-07T16:04:27.241753Z"
    }
   },
   "outputs": [],
   "source": [
    "def geo_mean_rate_return(return_vals):\n",
    "    \n",
    "    # Add plus one ot each element in the array\n",
    "    a = np.array(return_vals)+1\n",
    "    \n",
    "    # Multiply all the elements in the array together\n",
    "    product = np.product(a)\n",
    "    \n",
    "    # Take the nth root of the resulting product \n",
    "    geo_rate_return = product**(1/len(return_vals))\n",
    "\n",
    "    # Subract 1\n",
    "    geo_rate_return = geo_rate_return - 1\n",
    "    \n",
    "    return geo_rate_return"
   ]
  },
  {
   "cell_type": "code",
   "execution_count": 118,
   "id": "f31614b1",
   "metadata": {
    "ExecuteTime": {
     "end_time": "2021-10-07T16:04:27.987415Z",
     "start_time": "2021-10-07T16:04:27.969947Z"
    }
   },
   "outputs": [
    {
     "data": {
      "text/plain": [
       "-0.5"
      ]
     },
     "execution_count": 118,
     "metadata": {},
     "output_type": "execute_result"
    }
   ],
   "source": [
    "#2 boxes to 1 box (We lose 1 box)\n",
    "return_year_1 = (1-2)/2\n",
    "return_year_1"
   ]
  },
  {
   "cell_type": "code",
   "execution_count": 119,
   "id": "47eadd4b",
   "metadata": {
    "ExecuteTime": {
     "end_time": "2021-10-07T16:04:40.212467Z",
     "start_time": "2021-10-07T16:04:40.194516Z"
    }
   },
   "outputs": [
    {
     "data": {
      "text/plain": [
       "1.0"
      ]
     },
     "execution_count": 119,
     "metadata": {},
     "output_type": "execute_result"
    }
   ],
   "source": [
    "#1 box to 2 boxes (We Gain 1 box)\n",
    "return_year_2 = (2-1)/1\n",
    "return_year_2"
   ]
  },
  {
   "cell_type": "code",
   "execution_count": 120,
   "id": "1eeed3fe",
   "metadata": {
    "ExecuteTime": {
     "end_time": "2021-10-07T16:04:46.658374Z",
     "start_time": "2021-10-07T16:04:46.642419Z"
    }
   },
   "outputs": [
    {
     "data": {
      "text/plain": [
       "[-0.5, 1.0]"
      ]
     },
     "execution_count": 120,
     "metadata": {},
     "output_type": "execute_result"
    }
   ],
   "source": [
    "return_vals = [return_year_1, return_year_2]\n",
    "return_vals"
   ]
  },
  {
   "cell_type": "code",
   "execution_count": 160,
   "id": "74b71536",
   "metadata": {
    "ExecuteTime": {
     "end_time": "2021-10-07T16:22:59.153998Z",
     "start_time": "2021-10-07T16:22:59.145023Z"
    }
   },
   "outputs": [
    {
     "data": {
      "text/plain": [
       "0.5874010519681994"
      ]
     },
     "execution_count": 160,
     "metadata": {},
     "output_type": "execute_result"
    }
   ],
   "source": [
    "return_vals = [-0.5 ,1.0, 1.0, 1.0, 1.0, 1.0]\n",
    "t = len(return_vals)\n",
    "k = geo_mean_rate_return(return_vals)\n",
    "k"
   ]
  },
  {
   "cell_type": "code",
   "execution_count": 161,
   "id": "47343b3f",
   "metadata": {
    "ExecuteTime": {
     "end_time": "2021-10-07T16:22:59.818630Z",
     "start_time": "2021-10-07T16:22:59.803345Z"
    }
   },
   "outputs": [
    {
     "data": {
      "text/plain": [
       "1599.9999999999993"
      ]
     },
     "execution_count": 161,
     "metadata": {},
     "output_type": "execute_result"
    }
   ],
   "source": [
    "100*(1+k)**t"
   ]
  },
  {
   "cell_type": "code",
   "execution_count": 121,
   "id": "b88f7355",
   "metadata": {
    "ExecuteTime": {
     "end_time": "2021-10-07T16:04:49.090555Z",
     "start_time": "2021-10-07T16:04:49.081580Z"
    }
   },
   "outputs": [
    {
     "data": {
      "text/plain": [
       "0.0"
      ]
     },
     "execution_count": 121,
     "metadata": {},
     "output_type": "execute_result"
    }
   ],
   "source": [
    "geo_mean_rate_return(return_vals)"
   ]
  },
  {
   "cell_type": "markdown",
   "id": "8f7c7f4d",
   "metadata": {},
   "source": [
    "NOTE: Can't use negative values in a geometric mean"
   ]
  },
  {
   "cell_type": "code",
   "execution_count": null,
   "id": "08427226",
   "metadata": {
    "ExecuteTime": {
     "end_time": "2021-10-07T14:19:25.159508Z",
     "start_time": "2021-10-07T14:19:24.352361Z"
    }
   },
   "outputs": [],
   "source": [
    "statistics.geometric_mean(return_vals)"
   ]
  },
  {
   "cell_type": "markdown",
   "id": "209d4f2a",
   "metadata": {},
   "source": [
    "### Harmonic Mean\n",
    "-Avrage Speed, Ratios in Finance, Imbalanced Data, etc."
   ]
  },
  {
   "cell_type": "markdown",
   "id": "81209236",
   "metadata": {},
   "source": [
    "$\\Large H=\\Huge(\\frac{\\sum\\limits_{i=1}^n x_i^{1/n}}{n}\\Huge)^{-1} $"
   ]
  },
  {
   "cell_type": "markdown",
   "id": "987d68be",
   "metadata": {},
   "source": [
    "$\\Huge H=\\frac{n}{\\frac{1}{x_1}+\\frac{1}{x_2}+\\cdot\\cdot\\cdot+\\frac{1}{x_n}}$"
   ]
  },
  {
   "cell_type": "markdown",
   "id": "44847865",
   "metadata": {},
   "source": [
    "Source: Wikipedia: https://en.wikipedia.org/wiki/Harmonic_mean"
   ]
  },
  {
   "cell_type": "markdown",
   "id": "d2990387",
   "metadata": {},
   "source": [
    "In many situations involving rates and ratios, the harmonic mean provides the correct average. For instance, if a vehicle travels a certain distance d outbound at a speed x (e.g. 60 km/h) and returns the same distance at a speed y (e.g. 20 km/h), then its average speed is the harmonic mean of x and y (30 km/h) – not the arithmetic mean (40 km/h). The total travel time is the same as if it had traveled the whole distance at that average speed. This can be proven as follows:"
   ]
  },
  {
   "cell_type": "markdown",
   "id": "cbc08614",
   "metadata": {},
   "source": [
    "Distance (d) is the same both outbound and inbound and equals 1."
   ]
  },
  {
   "cell_type": "markdown",
   "id": "93c138f9",
   "metadata": {},
   "source": [
    "$\\large \\text {Average speed for the entire journey} = \\Large\\frac{\\text {Total distance traveled}}{\\text {Sum of time for each segment}} = \\frac{2d}{\\frac{d}{x_1}+\\frac{d}{X_2}} = \\frac{2}{\\frac{1}{x_1}+\\frac{1}{x_2}}=\\frac{n}{\\frac{1}{x_1}+\\frac{1}{x_2}}$"
   ]
  },
  {
   "cell_type": "markdown",
   "id": "a5385e5a",
   "metadata": {},
   "source": [
    "However we normally have different weights in the real world we have to apply to things, and the unweighted harmonic mean can be regarded as the special case where all of the weights are equal."
   ]
  },
  {
   "cell_type": "markdown",
   "id": "ba8f4ce3",
   "metadata": {},
   "source": [
    "### Weighted Harmonic Mean"
   ]
  },
  {
   "cell_type": "markdown",
   "id": "1938f8e1",
   "metadata": {},
   "source": [
    "The weighted harmonic mean is the preferable method for averaging multiples, such as the price–earnings ratio (P/E). If these ratios are averaged using a weighted arithmetic mean, high data points are given greater weights than low data points. The weighted harmonic mean, on the other hand, correctly weights each data point. The simple weighted arithmetic mean when applied to non-price normalized ratios such as the P/E is biased upwards and cannot be numerically justified, since it is based on equalized earnings; just as vehicles speeds cannot be averaged for a roundtrip journey."
   ]
  },
  {
   "cell_type": "markdown",
   "id": "fa06dd2d",
   "metadata": {},
   "source": [
    "$\\Huge H = \\frac{\\sum \\limits_{i=1}^n w_i} {\\sum \\limits_{i=1}^n \\frac{w_i}{x_i}}$"
   ]
  },
  {
   "cell_type": "markdown",
   "id": "9a0625dc",
   "metadata": {},
   "source": [
    "$\\Huge H = \\frac{(w_1+w_2)}{(\\frac{w_1}{x_1})+(\\frac{w_1}{x_2})}$"
   ]
  },
  {
   "cell_type": "markdown",
   "id": "10760ecb",
   "metadata": {},
   "source": [
    "<b>EXAMPLE</b>"
   ]
  },
  {
   "cell_type": "markdown",
   "id": "074fb100",
   "metadata": {},
   "source": [
    "For example, consider two firms:\n",
    "- Firm 1 with a market capitalization of $\\$150$ billion and earnings of $\\$5$ billion (P/E of 30)\n",
    "- Firm 2 with a market capitalization of $\\$1$ billion and earnings of $\\$1$ million (P/E of 1000)"
   ]
  },
  {
   "cell_type": "markdown",
   "id": "ca815b5d",
   "metadata": {},
   "source": [
    "Consider an index made of the two stocks, with 30% invested in Firm 1 and 70% invested in Firm 2. We want to calculate the P/E ratio of this index."
   ]
  },
  {
   "cell_type": "markdown",
   "id": "21540c18",
   "metadata": {},
   "source": [
    "$\\large\\text Price to Earnings Ratio (P/E) of Firm 1 = \\Large\\frac{150,000,000,000}{5,000,000,000} = 30$"
   ]
  },
  {
   "cell_type": "markdown",
   "id": "54936c4b",
   "metadata": {},
   "source": [
    "$\\large\\text Price to Earnings Ratio (P/E) of Firm 2 = \\Large\\frac{1,000,000,000}{1,000,000} = 1000$"
   ]
  },
  {
   "cell_type": "markdown",
   "id": "cab88797",
   "metadata": {},
   "source": [
    "<b>INCORRECT:</b> \n",
    "Using the weighted arithmetic mean (incorrect):"
   ]
  },
  {
   "cell_type": "markdown",
   "id": "7e9c0d1f",
   "metadata": {},
   "source": [
    "$\\Large{\\displaystyle P/E=0.3\\times 30+0.7\\times 1000=709}$"
   ]
  },
  {
   "cell_type": "markdown",
   "id": "8a014309",
   "metadata": {},
   "source": [
    "<b>CORRECT:</b> Weighted Harmonic Mean"
   ]
  },
  {
   "cell_type": "markdown",
   "id": "59512930",
   "metadata": {},
   "source": [
    "$\\Large{\\displaystyle P/E={\\frac {0.3+0.7}{0.3/30+0.7/1000}}\\approx 93.46}$"
   ]
  },
  {
   "cell_type": "code",
   "execution_count": null,
   "id": "1221f156",
   "metadata": {},
   "outputs": [],
   "source": []
  }
 ],
 "metadata": {
  "hide_input": false,
  "kernelspec": {
   "display_name": "Python 3",
   "language": "python",
   "name": "python3"
  },
  "language_info": {
   "codemirror_mode": {
    "name": "ipython",
    "version": 3
   },
   "file_extension": ".py",
   "mimetype": "text/x-python",
   "name": "python",
   "nbconvert_exporter": "python",
   "pygments_lexer": "ipython3",
   "version": "3.8.3"
  },
  "toc": {
   "base_numbering": 1,
   "nav_menu": {},
   "number_sections": true,
   "sideBar": true,
   "skip_h1_title": false,
   "title_cell": "Table of Contents",
   "title_sidebar": "Contents",
   "toc_cell": false,
   "toc_position": {
    "height": "calc(100% - 180px)",
    "left": "10px",
    "top": "150px",
    "width": "384px"
   },
   "toc_section_display": true,
   "toc_window_display": true
  },
  "varInspector": {
   "cols": {
    "lenName": 16,
    "lenType": 16,
    "lenVar": 40
   },
   "kernels_config": {
    "python": {
     "delete_cmd_postfix": "",
     "delete_cmd_prefix": "del ",
     "library": "var_list.py",
     "varRefreshCmd": "print(var_dic_list())"
    },
    "r": {
     "delete_cmd_postfix": ") ",
     "delete_cmd_prefix": "rm(",
     "library": "var_list.r",
     "varRefreshCmd": "cat(var_dic_list()) "
    }
   },
   "types_to_exclude": [
    "module",
    "function",
    "builtin_function_or_method",
    "instance",
    "_Feature"
   ],
   "window_display": false
  }
 },
 "nbformat": 4,
 "nbformat_minor": 5
}
