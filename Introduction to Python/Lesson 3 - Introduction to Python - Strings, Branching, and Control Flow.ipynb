{
 "cells": [
  {
   "cell_type": "markdown",
   "metadata": {},
   "source": [
    " Lesson 3 - Introduction to Python - Strings, Branching, and Control Flow"
   ]
  },
  {
   "cell_type": "markdown",
   "metadata": {},
   "source": [
    "# Review from previous week\n",
    "Please answer the questions before using the Jupyter notebook solve them. What is the output of each line of code below?"
   ]
  },
  {
   "cell_type": "code",
   "execution_count": 1,
   "metadata": {
    "ExecuteTime": {
     "end_time": "2021-03-01T15:59:44.122232Z",
     "start_time": "2021-03-01T15:59:44.110277Z"
    }
   },
   "outputs": [
    {
     "data": {
      "text/plain": [
       "2"
      ]
     },
     "execution_count": 1,
     "metadata": {},
     "output_type": "execute_result"
    }
   ],
   "source": [
    "1 + 1"
   ]
  },
  {
   "cell_type": "code",
   "execution_count": 2,
   "metadata": {
    "ExecuteTime": {
     "end_time": "2021-03-01T15:59:52.213827Z",
     "start_time": "2021-03-01T15:59:52.206591Z"
    }
   },
   "outputs": [
    {
     "data": {
      "text/plain": [
       "2.0"
      ]
     },
     "execution_count": 2,
     "metadata": {},
     "output_type": "execute_result"
    }
   ],
   "source": [
    "1.0 + 1"
   ]
  },
  {
   "cell_type": "code",
   "execution_count": 3,
   "metadata": {
    "ExecuteTime": {
     "end_time": "2021-03-01T16:00:28.170777Z",
     "start_time": "2021-03-01T16:00:28.161621Z"
    }
   },
   "outputs": [
    {
     "data": {
      "text/plain": [
       "3.0"
      ]
     },
     "execution_count": 3,
     "metadata": {},
     "output_type": "execute_result"
    }
   ],
   "source": [
    "a = 2.0\n",
    "a + 1"
   ]
  },
  {
   "cell_type": "code",
   "execution_count": 4,
   "metadata": {
    "ExecuteTime": {
     "end_time": "2021-03-01T16:00:42.783545Z",
     "start_time": "2021-03-01T16:00:42.764834Z"
    }
   },
   "outputs": [
    {
     "data": {
      "text/plain": [
       "False"
      ]
     },
     "execution_count": 4,
     "metadata": {},
     "output_type": "execute_result"
    }
   ],
   "source": [
    "1 > 1"
   ]
  },
  {
   "cell_type": "code",
   "execution_count": 5,
   "metadata": {
    "ExecuteTime": {
     "end_time": "2021-03-01T16:04:14.527690Z",
     "start_time": "2021-03-01T16:04:14.513572Z"
    }
   },
   "outputs": [
    {
     "data": {
      "text/plain": [
       "True"
      ]
     },
     "execution_count": 5,
     "metadata": {},
     "output_type": "execute_result"
    }
   ],
   "source": [
    "2 == 2"
   ]
  },
  {
   "cell_type": "code",
   "execution_count": 6,
   "metadata": {
    "ExecuteTime": {
     "end_time": "2021-03-01T16:04:20.127120Z",
     "start_time": "2021-03-01T16:04:20.116760Z"
    }
   },
   "outputs": [
    {
     "data": {
      "text/plain": [
       "False"
      ]
     },
     "execution_count": 6,
     "metadata": {},
     "output_type": "execute_result"
    }
   ],
   "source": [
    "2 != 2"
   ]
  },
  {
   "cell_type": "code",
   "execution_count": 7,
   "metadata": {
    "ExecuteTime": {
     "end_time": "2021-03-01T16:04:28.457806Z",
     "start_time": "2021-03-01T16:04:28.441709Z"
    }
   },
   "outputs": [
    {
     "ename": "SyntaxError",
     "evalue": "can't assign to literal (<ipython-input-7-a8e553549e25>, line 1)",
     "output_type": "error",
     "traceback": [
      "\u001b[0;36m  File \u001b[0;32m\"<ipython-input-7-a8e553549e25>\"\u001b[0;36m, line \u001b[0;32m1\u001b[0m\n\u001b[0;31m    2 = 2\u001b[0m\n\u001b[0m         ^\u001b[0m\n\u001b[0;31mSyntaxError\u001b[0m\u001b[0;31m:\u001b[0m can't assign to literal\n"
     ]
    }
   ],
   "source": [
    "2 = 2"
   ]
  },
  {
   "cell_type": "code",
   "execution_count": 8,
   "metadata": {
    "ExecuteTime": {
     "end_time": "2021-03-01T16:03:59.111789Z",
     "start_time": "2021-03-01T16:03:59.101655Z"
    }
   },
   "outputs": [
    {
     "data": {
      "text/plain": [
       "True"
      ]
     },
     "execution_count": 8,
     "metadata": {},
     "output_type": "execute_result"
    }
   ],
   "source": [
    "2.0 == 2"
   ]
  },
  {
   "cell_type": "code",
   "execution_count": 9,
   "metadata": {
    "ExecuteTime": {
     "end_time": "2021-03-01T16:02:56.269007Z",
     "start_time": "2021-03-01T16:02:56.258051Z"
    }
   },
   "outputs": [
    {
     "ename": "NameError",
     "evalue": "name 'z' is not defined",
     "output_type": "error",
     "traceback": [
      "\u001b[0;31m---------------------------------------------------------------------------\u001b[0m",
      "\u001b[0;31mNameError\u001b[0m                                 Traceback (most recent call last)",
      "\u001b[0;32m<ipython-input-9-1cad987ce2cf>\u001b[0m in \u001b[0;36m<module>\u001b[0;34m\u001b[0m\n\u001b[1;32m      1\u001b[0m \u001b[0mc\u001b[0m \u001b[0;34m=\u001b[0m \u001b[0;36m3\u001b[0m\u001b[0;34m\u001b[0m\u001b[0;34m\u001b[0m\u001b[0m\n\u001b[0;32m----> 2\u001b[0;31m \u001b[0mz\u001b[0m\u001b[0;34m\u001b[0m\u001b[0;34m\u001b[0m\u001b[0m\n\u001b[0m",
      "\u001b[0;31mNameError\u001b[0m: name 'z' is not defined"
     ]
    }
   ],
   "source": [
    "c = 3\n",
    "z"
   ]
  },
  {
   "cell_type": "code",
   "execution_count": 10,
   "metadata": {
    "ExecuteTime": {
     "end_time": "2021-03-01T16:03:44.494898Z",
     "start_time": "2021-03-01T16:03:44.476312Z"
    }
   },
   "outputs": [
    {
     "data": {
      "text/plain": [
       "False"
      ]
     },
     "execution_count": 10,
     "metadata": {},
     "output_type": "execute_result"
    }
   ],
   "source": [
    "5 > 6"
   ]
  },
  {
   "cell_type": "code",
   "execution_count": 11,
   "metadata": {
    "ExecuteTime": {
     "end_time": "2021-03-01T16:03:48.915661Z",
     "start_time": "2021-03-01T16:03:48.908680Z"
    }
   },
   "outputs": [
    {
     "data": {
      "text/plain": [
       "True"
      ]
     },
     "execution_count": 11,
     "metadata": {},
     "output_type": "execute_result"
    }
   ],
   "source": [
    "6 > 5"
   ]
  },
  {
   "cell_type": "code",
   "execution_count": 12,
   "metadata": {
    "ExecuteTime": {
     "end_time": "2021-03-01T16:05:00.523223Z",
     "start_time": "2021-03-01T16:05:00.504260Z"
    }
   },
   "outputs": [
    {
     "data": {
      "text/plain": [
       "True"
      ]
     },
     "execution_count": 12,
     "metadata": {},
     "output_type": "execute_result"
    }
   ],
   "source": [
    "3 + 3 == 6"
   ]
  },
  {
   "cell_type": "code",
   "execution_count": 13,
   "metadata": {
    "ExecuteTime": {
     "end_time": "2021-03-01T16:05:59.179607Z",
     "start_time": "2021-03-01T16:05:59.162469Z"
    }
   },
   "outputs": [
    {
     "data": {
      "text/plain": [
       "True"
      ]
     },
     "execution_count": 13,
     "metadata": {},
     "output_type": "execute_result"
    }
   ],
   "source": [
    "5 != 6+7"
   ]
  },
  {
   "cell_type": "code",
   "execution_count": 14,
   "metadata": {
    "ExecuteTime": {
     "end_time": "2021-03-01T16:06:08.375544Z",
     "start_time": "2021-03-01T16:06:08.364808Z"
    }
   },
   "outputs": [
    {
     "data": {
      "text/plain": [
       "False"
      ]
     },
     "execution_count": 14,
     "metadata": {},
     "output_type": "execute_result"
    }
   ],
   "source": [
    "5 != 5"
   ]
  },
  {
   "cell_type": "code",
   "execution_count": 15,
   "metadata": {
    "ExecuteTime": {
     "end_time": "2021-03-01T16:10:35.413641Z",
     "start_time": "2021-03-01T16:10:35.397033Z"
    }
   },
   "outputs": [
    {
     "data": {
      "text/plain": [
       "True"
      ]
     },
     "execution_count": 15,
     "metadata": {},
     "output_type": "execute_result"
    }
   ],
   "source": [
    "7 > 6 and 8 > 6"
   ]
  },
  {
   "cell_type": "code",
   "execution_count": 16,
   "metadata": {
    "ExecuteTime": {
     "end_time": "2021-03-01T16:10:58.377584Z",
     "start_time": "2021-03-01T16:10:58.370320Z"
    }
   },
   "outputs": [
    {
     "data": {
      "text/plain": [
       "False"
      ]
     },
     "execution_count": 16,
     "metadata": {},
     "output_type": "execute_result"
    }
   ],
   "source": [
    "6 > 7 and 6 > 8"
   ]
  },
  {
   "cell_type": "code",
   "execution_count": 17,
   "metadata": {
    "ExecuteTime": {
     "end_time": "2021-03-01T16:11:33.936299Z",
     "start_time": "2021-03-01T16:11:33.924306Z"
    }
   },
   "outputs": [
    {
     "data": {
      "text/plain": [
       "True"
      ]
     },
     "execution_count": 17,
     "metadata": {},
     "output_type": "execute_result"
    }
   ],
   "source": [
    "not(6 > 7 and 6 > 8)"
   ]
  },
  {
   "cell_type": "markdown",
   "metadata": {},
   "source": [
    "# Strings\n",
    "Objects of type <b>string</b> are used to represent characters.  Literals of type str can be written either using single or double quotes, eg. 'abc' or \"abc\".  The literal '123' denotes a string of three characters, not the number one hundred and twenty three.  Here is an example:"
   ]
  },
  {
   "cell_type": "code",
   "execution_count": 18,
   "metadata": {
    "ExecuteTime": {
     "end_time": "2019-09-25T21:06:55.007369Z",
     "start_time": "2019-09-25T21:06:54.980366Z"
    }
   },
   "outputs": [
    {
     "data": {
      "text/plain": [
       "'a'"
      ]
     },
     "execution_count": 18,
     "metadata": {},
     "output_type": "execute_result"
    }
   ],
   "source": [
    "'a'"
   ]
  },
  {
   "cell_type": "code",
   "execution_count": 19,
   "metadata": {
    "ExecuteTime": {
     "end_time": "2019-09-25T21:07:02.260668Z",
     "start_time": "2019-09-25T21:07:02.256662Z"
    }
   },
   "outputs": [
    {
     "data": {
      "text/plain": [
       "12"
      ]
     },
     "execution_count": 19,
     "metadata": {},
     "output_type": "execute_result"
    }
   ],
   "source": [
    "#Write the multplication expression 3 times 4. \n",
    "\n",
    "3*4\n"
   ]
  },
  {
   "cell_type": "markdown",
   "metadata": {},
   "source": [
    "The operator + is said to be <b>overloaded</b>:  It has different meanings depending on the types of objects it is applied to. For example, it means additions when it is applied to two numbers, and concatenation when applied to two strings. The operator * is also overloaded.  It means multplication when its operands are both numbers.  When applied to an int or a str, it becomes a <b>repetition operator</b>."
   ]
  },
  {
   "cell_type": "code",
   "execution_count": 20,
   "metadata": {
    "ExecuteTime": {
     "end_time": "2019-09-25T21:07:32.759999Z",
     "start_time": "2019-09-25T21:07:32.741001Z"
    }
   },
   "outputs": [
    {
     "data": {
      "text/plain": [
       "'3*4'"
      ]
     },
     "execution_count": 20,
     "metadata": {},
     "output_type": "execute_result"
    }
   ],
   "source": [
    "#Put the same multipliation expression in quotations:\n",
    "\n",
    "'3*4'"
   ]
  },
  {
   "cell_type": "code",
   "execution_count": 21,
   "metadata": {
    "ExecuteTime": {
     "end_time": "2019-09-25T21:07:39.741444Z",
     "start_time": "2019-09-25T21:07:39.728443Z"
    }
   },
   "outputs": [
    {
     "data": {
      "text/plain": [
       "'aaa'"
      ]
     },
     "execution_count": 21,
     "metadata": {},
     "output_type": "execute_result"
    }
   ],
   "source": [
    "#Now multply 3 times a. \n",
    "\n",
    "3*'a'"
   ]
  },
  {
   "cell_type": "code",
   "execution_count": 22,
   "metadata": {
    "ExecuteTime": {
     "end_time": "2019-09-25T21:07:47.231514Z",
     "start_time": "2019-09-25T21:07:47.226515Z"
    }
   },
   "outputs": [
    {
     "data": {
      "text/plain": [
       "7"
      ]
     },
     "execution_count": 22,
     "metadata": {},
     "output_type": "execute_result"
    }
   ],
   "source": [
    "3+4"
   ]
  },
  {
   "cell_type": "code",
   "execution_count": 23,
   "metadata": {
    "ExecuteTime": {
     "end_time": "2019-09-25T21:07:53.384213Z",
     "start_time": "2019-09-25T21:07:53.379202Z"
    }
   },
   "outputs": [
    {
     "data": {
      "text/plain": [
       "'John'"
      ]
     },
     "execution_count": 23,
     "metadata": {},
     "output_type": "execute_result"
    }
   ],
   "source": [
    "'John'"
   ]
  },
  {
   "cell_type": "code",
   "execution_count": 24,
   "metadata": {
    "ExecuteTime": {
     "end_time": "2019-09-25T21:08:04.662071Z",
     "start_time": "2019-09-25T21:08:04.653072Z"
    }
   },
   "outputs": [
    {
     "data": {
      "text/plain": [
       "'JohnJohn'"
      ]
     },
     "execution_count": 24,
     "metadata": {},
     "output_type": "execute_result"
    }
   ],
   "source": [
    "'John'+'John'"
   ]
  },
  {
   "cell_type": "code",
   "execution_count": 25,
   "metadata": {
    "ExecuteTime": {
     "end_time": "2019-09-25T21:08:14.852287Z",
     "start_time": "2019-09-25T21:08:14.848288Z"
    }
   },
   "outputs": [
    {
     "data": {
      "text/plain": [
       "'JohnJohnJohn'"
      ]
     },
     "execution_count": 25,
     "metadata": {},
     "output_type": "execute_result"
    }
   ],
   "source": [
    "3*'John'"
   ]
  },
  {
   "cell_type": "markdown",
   "metadata": {},
   "source": [
    "# Indexing in Python - First value is always 0!"
   ]
  },
  {
   "cell_type": "markdown",
   "metadata": {},
   "source": [
    "- Indexing begins with a 0.\n",
    "- If no value before : the index starts at 0\n",
    "- if no value after : then the index starts at the length of the string.\n",
    "- if just :, make a copy of entire string sequence."
   ]
  },
  {
   "attachments": {
    "image.png": {
     "image/png": "[encoded data removed]"
    }
   },
   "cell_type": "markdown",
   "metadata": {},
   "source": [
    "![image.png](attachment:image.png)"
   ]
  },
  {
   "cell_type": "markdown",
   "metadata": {},
   "source": [
    "SOURCE: https://developers.google.com/edu/python/strings"
   ]
  },
  {
   "cell_type": "code",
   "execution_count": 26,
   "metadata": {
    "ExecuteTime": {
     "end_time": "2021-03-01T17:29:03.732608Z",
     "start_time": "2021-03-01T17:29:03.722635Z"
    }
   },
   "outputs": [
    {
     "name": "stdout",
     "output_type": "stream",
     "text": [
      "Hi my name is Ben Gonzalez\n"
     ]
    }
   ],
   "source": [
    "string = 'Hi my name is Ben Gonzalez'\n",
    "print(string)"
   ]
  },
  {
   "cell_type": "code",
   "execution_count": 27,
   "metadata": {
    "ExecuteTime": {
     "end_time": "2021-03-01T17:35:56.431814Z",
     "start_time": "2021-03-01T17:35:56.419811Z"
    }
   },
   "outputs": [
    {
     "data": {
      "text/plain": [
       "'H'"
      ]
     },
     "execution_count": 27,
     "metadata": {},
     "output_type": "execute_result"
    }
   ],
   "source": [
    "string[0]"
   ]
  },
  {
   "cell_type": "code",
   "execution_count": 28,
   "metadata": {
    "ExecuteTime": {
     "end_time": "2021-03-01T17:36:07.991911Z",
     "start_time": "2021-03-01T17:36:07.984761Z"
    }
   },
   "outputs": [
    {
     "data": {
      "text/plain": [
       "'i'"
      ]
     },
     "execution_count": 28,
     "metadata": {},
     "output_type": "execute_result"
    }
   ],
   "source": [
    "string[1]"
   ]
  },
  {
   "cell_type": "code",
   "execution_count": 29,
   "metadata": {
    "ExecuteTime": {
     "end_time": "2021-03-01T17:36:14.163374Z",
     "start_time": "2021-03-01T17:36:14.150269Z"
    }
   },
   "outputs": [
    {
     "data": {
      "text/plain": [
       "' '"
      ]
     },
     "execution_count": 29,
     "metadata": {},
     "output_type": "execute_result"
    }
   ],
   "source": [
    "string[2]"
   ]
  },
  {
   "cell_type": "markdown",
   "metadata": {
    "ExecuteTime": {
     "end_time": "2021-03-01T17:33:05.177679Z",
     "start_time": "2021-03-01T17:33:05.171083Z"
    }
   },
   "source": [
    "The first 2 characters of the string"
   ]
  },
  {
   "cell_type": "code",
   "execution_count": 30,
   "metadata": {
    "ExecuteTime": {
     "end_time": "2021-03-01T17:32:41.710957Z",
     "start_time": "2021-03-01T17:32:41.701650Z"
    }
   },
   "outputs": [
    {
     "data": {
      "text/plain": [
       "'Hi'"
      ]
     },
     "execution_count": 30,
     "metadata": {},
     "output_type": "execute_result"
    }
   ],
   "source": [
    "string[0:2]"
   ]
  },
  {
   "cell_type": "markdown",
   "metadata": {},
   "source": [
    "The last character of a string"
   ]
  },
  {
   "cell_type": "code",
   "execution_count": 31,
   "metadata": {
    "ExecuteTime": {
     "end_time": "2021-03-01T17:33:52.035566Z",
     "start_time": "2021-03-01T17:33:52.016291Z"
    }
   },
   "outputs": [
    {
     "data": {
      "text/plain": [
       "'z'"
      ]
     },
     "execution_count": 31,
     "metadata": {},
     "output_type": "execute_result"
    }
   ],
   "source": [
    "string[-1]"
   ]
  },
  {
   "cell_type": "markdown",
   "metadata": {},
   "source": [
    "The second to last character of a string"
   ]
  },
  {
   "cell_type": "code",
   "execution_count": 32,
   "metadata": {
    "ExecuteTime": {
     "end_time": "2021-03-01T17:36:42.842026Z",
     "start_time": "2021-03-01T17:36:42.837063Z"
    }
   },
   "outputs": [
    {
     "data": {
      "text/plain": [
       "'e'"
      ]
     },
     "execution_count": 32,
     "metadata": {},
     "output_type": "execute_result"
    }
   ],
   "source": [
    "string[-2]"
   ]
  },
  {
   "cell_type": "code",
   "execution_count": 33,
   "metadata": {
    "ExecuteTime": {
     "end_time": "2021-03-01T17:37:32.351555Z",
     "start_time": "2021-03-01T17:37:32.337566Z"
    }
   },
   "outputs": [
    {
     "data": {
      "text/plain": [
       "'Ben Gonzalez'"
      ]
     },
     "execution_count": 33,
     "metadata": {},
     "output_type": "execute_result"
    }
   ],
   "source": [
    "string[14:26]"
   ]
  },
  {
   "cell_type": "markdown",
   "metadata": {},
   "source": [
    "One way this may be useful is variable assignment"
   ]
  },
  {
   "cell_type": "code",
   "execution_count": 34,
   "metadata": {
    "ExecuteTime": {
     "end_time": "2021-03-01T17:37:54.015610Z",
     "start_time": "2021-03-01T17:37:54.005035Z"
    }
   },
   "outputs": [
    {
     "name": "stdout",
     "output_type": "stream",
     "text": [
      "Ben Gonzalez\n"
     ]
    }
   ],
   "source": [
    "name = string[14:26]\n",
    "print(name)"
   ]
  },
  {
   "cell_type": "markdown",
   "metadata": {},
   "source": [
    "Bind the original variable to string to a copy of the new variable"
   ]
  },
  {
   "cell_type": "code",
   "execution_count": 35,
   "metadata": {
    "ExecuteTime": {
     "end_time": "2021-03-01T17:39:19.269863Z",
     "start_time": "2021-03-01T17:39:19.260712Z"
    }
   },
   "outputs": [],
   "source": [
    "string = name[:]"
   ]
  },
  {
   "cell_type": "code",
   "execution_count": 36,
   "metadata": {
    "ExecuteTime": {
     "end_time": "2021-03-01T17:39:24.481562Z",
     "start_time": "2021-03-01T17:39:24.477554Z"
    }
   },
   "outputs": [
    {
     "name": "stdout",
     "output_type": "stream",
     "text": [
      "Ben Gonzalez\n"
     ]
    }
   ],
   "source": [
    "print(string)"
   ]
  },
  {
   "cell_type": "markdown",
   "metadata": {},
   "source": [
    "Out of range error"
   ]
  },
  {
   "cell_type": "code",
   "execution_count": 37,
   "metadata": {
    "ExecuteTime": {
     "end_time": "2021-03-01T17:39:51.350140Z",
     "start_time": "2021-03-01T17:39:51.342769Z"
    }
   },
   "outputs": [
    {
     "ename": "IndexError",
     "evalue": "string index out of range",
     "output_type": "error",
     "traceback": [
      "\u001b[0;31m---------------------------------------------------------------------------\u001b[0m",
      "\u001b[0;31mIndexError\u001b[0m                                Traceback (most recent call last)",
      "\u001b[0;32m<ipython-input-37-ce3d8bc37218>\u001b[0m in \u001b[0;36m<module>\u001b[0;34m\u001b[0m\n\u001b[0;32m----> 1\u001b[0;31m \u001b[0mstring\u001b[0m\u001b[0;34m[\u001b[0m\u001b[0;36m20\u001b[0m\u001b[0;34m]\u001b[0m\u001b[0;34m\u001b[0m\u001b[0;34m\u001b[0m\u001b[0m\n\u001b[0m",
      "\u001b[0;31mIndexError\u001b[0m: string index out of range"
     ]
    }
   ],
   "source": [
    "string[20]"
   ]
  },
  {
   "cell_type": "markdown",
   "metadata": {},
   "source": [
    "## String Indexing Exercises\n",
    "Please answer the questions before using the Jupyter notebook solve them."
   ]
  },
  {
   "cell_type": "code",
   "execution_count": 38,
   "metadata": {
    "ExecuteTime": {
     "end_time": "2021-03-01T17:46:13.366118Z",
     "start_time": "2021-03-01T17:46:13.359951Z"
    }
   },
   "outputs": [],
   "source": [
    "string = 'supercalifragilisticexpialidocious'"
   ]
  },
  {
   "cell_type": "markdown",
   "metadata": {},
   "source": [
    "Print a slice of 'expialidocious'"
   ]
  },
  {
   "cell_type": "code",
   "execution_count": 39,
   "metadata": {
    "ExecuteTime": {
     "end_time": "2021-03-01T17:52:08.683607Z",
     "start_time": "2021-03-01T17:52:08.674585Z"
    }
   },
   "outputs": [
    {
     "data": {
      "text/plain": [
       "'expialidocious'"
      ]
     },
     "execution_count": 39,
     "metadata": {},
     "output_type": "execute_result"
    }
   ],
   "source": [
    "string[20:37]"
   ]
  },
  {
   "cell_type": "code",
   "execution_count": 40,
   "metadata": {
    "ExecuteTime": {
     "end_time": "2021-03-01T17:52:25.464033Z",
     "start_time": "2021-03-01T17:52:25.459903Z"
    }
   },
   "outputs": [
    {
     "data": {
      "text/plain": [
       "'expialidocious'"
      ]
     },
     "execution_count": 40,
     "metadata": {},
     "output_type": "execute_result"
    }
   ],
   "source": [
    "string[20:]"
   ]
  },
  {
   "cell_type": "markdown",
   "metadata": {},
   "source": [
    "Bind the new string to a variable and print it."
   ]
  },
  {
   "cell_type": "code",
   "execution_count": 41,
   "metadata": {
    "ExecuteTime": {
     "end_time": "2021-03-01T17:53:56.057626Z",
     "start_time": "2021-03-01T17:53:56.044706Z"
    }
   },
   "outputs": [
    {
     "name": "stdout",
     "output_type": "stream",
     "text": [
      "expialidocious\n"
     ]
    }
   ],
   "source": [
    "word = string[20:]\n",
    "print(word)"
   ]
  },
  {
   "cell_type": "markdown",
   "metadata": {},
   "source": [
    "Print the first and last letters in the string"
   ]
  },
  {
   "cell_type": "code",
   "execution_count": 42,
   "metadata": {
    "ExecuteTime": {
     "end_time": "2021-03-01T17:54:53.672737Z",
     "start_time": "2021-03-01T17:54:53.668022Z"
    }
   },
   "outputs": [
    {
     "name": "stdout",
     "output_type": "stream",
     "text": [
      "s\n",
      "s\n"
     ]
    }
   ],
   "source": [
    "print(string[-1])\n",
    "print(string[0])"
   ]
  },
  {
   "cell_type": "markdown",
   "metadata": {},
   "source": [
    "Make a hard copy of the string"
   ]
  },
  {
   "cell_type": "code",
   "execution_count": 43,
   "metadata": {
    "ExecuteTime": {
     "end_time": "2021-03-01T17:54:59.624502Z",
     "start_time": "2021-03-01T17:54:59.608270Z"
    }
   },
   "outputs": [
    {
     "data": {
      "text/plain": [
       "'supercalifragilisticexpialidocious'"
      ]
     },
     "execution_count": 43,
     "metadata": {},
     "output_type": "execute_result"
    }
   ],
   "source": [
    "copy = string[:]\n",
    "copy"
   ]
  },
  {
   "cell_type": "markdown",
   "metadata": {},
   "source": [
    "# Built In Functions\n",
    "<b>function</b> is a reusable unit of code that performs a specific task.  A <b>Built-in Functions</b> Python provides many built in functions that do common tasks like getting input data from the user and printing output data to the consol. When you <b>call a function</b> you code the name of the function followed by a pair of parentheses.  Within the parenthesis, you code any <b>arguments</b> that the function requires, and you seperate multiple arguments with commas.<br>\n",
    "<br>\n",
    "In this section we will look at two common functions. They are:\n",
    "\n",
    "\n",
    "- int()\n",
    "- type()\n",
    "- print()\n",
    "- len()\n",
    "- input()\n",
    "- round()\n",
    "\n",
    "For a full list of built in functions, follow this link here:\n",
    "https://docs.python.org/3/library/functions.html\n",
    "\n",
    "    "
   ]
  },
  {
   "cell_type": "markdown",
   "metadata": {},
   "source": [
    "### type()\n",
    "A quick review from Lesson 1 -- The <b>type()</b> function returns the variable type."
   ]
  },
  {
   "cell_type": "markdown",
   "metadata": {},
   "source": [
    "Integer"
   ]
  },
  {
   "cell_type": "code",
   "execution_count": 44,
   "metadata": {
    "ExecuteTime": {
     "end_time": "2019-09-25T21:23:50.038432Z",
     "start_time": "2019-09-25T21:23:50.030437Z"
    }
   },
   "outputs": [
    {
     "data": {
      "text/plain": [
       "int"
      ]
     },
     "execution_count": 44,
     "metadata": {},
     "output_type": "execute_result"
    }
   ],
   "source": [
    "type(1)"
   ]
  },
  {
   "cell_type": "markdown",
   "metadata": {},
   "source": [
    "Float"
   ]
  },
  {
   "cell_type": "code",
   "execution_count": 45,
   "metadata": {
    "ExecuteTime": {
     "end_time": "2019-09-25T21:23:59.348924Z",
     "start_time": "2019-09-25T21:23:59.343931Z"
    }
   },
   "outputs": [
    {
     "data": {
      "text/plain": [
       "float"
      ]
     },
     "execution_count": 45,
     "metadata": {},
     "output_type": "execute_result"
    }
   ],
   "source": [
    "type(1.0)"
   ]
  },
  {
   "cell_type": "markdown",
   "metadata": {},
   "source": [
    "String"
   ]
  },
  {
   "cell_type": "code",
   "execution_count": 46,
   "metadata": {
    "ExecuteTime": {
     "end_time": "2019-09-25T21:24:07.364939Z",
     "start_time": "2019-09-25T21:24:07.358972Z"
    }
   },
   "outputs": [
    {
     "data": {
      "text/plain": [
       "str"
      ]
     },
     "execution_count": 46,
     "metadata": {},
     "output_type": "execute_result"
    }
   ],
   "source": [
    "type('1')"
   ]
  },
  {
   "cell_type": "markdown",
   "metadata": {},
   "source": [
    "Boolean"
   ]
  },
  {
   "cell_type": "code",
   "execution_count": 47,
   "metadata": {
    "ExecuteTime": {
     "end_time": "2019-09-25T21:24:23.519411Z",
     "start_time": "2019-09-25T21:24:23.503410Z"
    }
   },
   "outputs": [
    {
     "data": {
      "text/plain": [
       "bool"
      ]
     },
     "execution_count": 47,
     "metadata": {},
     "output_type": "execute_result"
    }
   ],
   "source": [
    "type(True)"
   ]
  },
  {
   "cell_type": "code",
   "execution_count": 48,
   "metadata": {
    "ExecuteTime": {
     "end_time": "2019-09-25T21:24:32.512342Z",
     "start_time": "2019-09-25T21:24:32.495376Z"
    }
   },
   "outputs": [
    {
     "data": {
      "text/plain": [
       "bool"
      ]
     },
     "execution_count": 48,
     "metadata": {},
     "output_type": "execute_result"
    }
   ],
   "source": [
    "type(False)"
   ]
  },
  {
   "cell_type": "markdown",
   "metadata": {},
   "source": [
    "### len() \n",
    "gives you the length of the string."
   ]
  },
  {
   "cell_type": "code",
   "execution_count": 49,
   "metadata": {
    "ExecuteTime": {
     "end_time": "2021-03-01T18:01:37.707232Z",
     "start_time": "2021-03-01T18:01:37.687226Z"
    }
   },
   "outputs": [
    {
     "data": {
      "text/plain": [
       "12"
      ]
     },
     "execution_count": 49,
     "metadata": {},
     "output_type": "execute_result"
    }
   ],
   "source": [
    "string = 'Ben Gonzalez'\n",
    "len(string)"
   ]
  },
  {
   "cell_type": "markdown",
   "metadata": {},
   "source": [
    "### Examples of string specific methods"
   ]
  },
  {
   "cell_type": "code",
   "execution_count": 50,
   "metadata": {},
   "outputs": [
    {
     "data": {
      "text/plain": [
       "'BEN GONZALEZ'"
      ]
     },
     "execution_count": 50,
     "metadata": {},
     "output_type": "execute_result"
    }
   ],
   "source": [
    "string.upper()"
   ]
  },
  {
   "cell_type": "code",
   "execution_count": 51,
   "metadata": {},
   "outputs": [
    {
     "data": {
      "text/plain": [
       "'ben gonzalez'"
      ]
     },
     "execution_count": 51,
     "metadata": {},
     "output_type": "execute_result"
    }
   ],
   "source": [
    "string.lower()"
   ]
  },
  {
   "cell_type": "code",
   "execution_count": 52,
   "metadata": {},
   "outputs": [
    {
     "data": {
      "text/plain": [
       "True"
      ]
     },
     "execution_count": 52,
     "metadata": {},
     "output_type": "execute_result"
    }
   ],
   "source": [
    "string.endswith('z')"
   ]
  },
  {
   "cell_type": "code",
   "execution_count": 53,
   "metadata": {},
   "outputs": [
    {
     "name": "stdout",
     "output_type": "stream",
     "text": [
      "Ben Gonzalez???\n",
      "Ben Gonzalez\n",
      "Ben Gonzalez!!!\n"
     ]
    }
   ],
   "source": [
    "string = 'Ben Gonzalez' \n",
    "string += '?'*3\n",
    "\n",
    "print(string)\n",
    "\n",
    "print(string.strip('?'))\n",
    "\n",
    "print(string.replace('?', '!'))"
   ]
  },
  {
   "cell_type": "markdown",
   "metadata": {},
   "source": [
    "### Type Conversion\n",
    "<b>Type conversions</b> (also called <b>type casts</b>) are also used in Python code.  We use the name of a type to convert values to that type.  So, for example, the value of <b>int('3')*4 is 12</b>. When a float is converted to an int, the number is <b><i>truncated (not rounded)</i></b>, e.g., the value of <b>int(3.9)</b> is the int <b>3</b>."
   ]
  },
  {
   "cell_type": "code",
   "execution_count": 54,
   "metadata": {
    "ExecuteTime": {
     "end_time": "2019-09-25T21:09:16.175554Z",
     "start_time": "2019-09-25T21:09:16.160556Z"
    }
   },
   "outputs": [
    {
     "data": {
      "text/plain": [
       "3"
      ]
     },
     "execution_count": 54,
     "metadata": {},
     "output_type": "execute_result"
    }
   ],
   "source": [
    "int(3)"
   ]
  },
  {
   "cell_type": "code",
   "execution_count": 55,
   "metadata": {
    "ExecuteTime": {
     "end_time": "2019-09-25T21:09:24.942752Z",
     "start_time": "2019-09-25T21:09:24.932752Z"
    }
   },
   "outputs": [
    {
     "data": {
      "text/plain": [
       "3"
      ]
     },
     "execution_count": 55,
     "metadata": {},
     "output_type": "execute_result"
    }
   ],
   "source": [
    "int(3.9)"
   ]
  },
  {
   "cell_type": "code",
   "execution_count": 56,
   "metadata": {
    "ExecuteTime": {
     "end_time": "2019-09-25T21:09:40.029064Z",
     "start_time": "2019-09-25T21:09:40.013059Z"
    }
   },
   "outputs": [
    {
     "data": {
      "text/plain": [
       "15.6"
      ]
     },
     "execution_count": 56,
     "metadata": {},
     "output_type": "execute_result"
    }
   ],
   "source": [
    "3.9*4"
   ]
  },
  {
   "cell_type": "code",
   "execution_count": 57,
   "metadata": {
    "ExecuteTime": {
     "end_time": "2019-09-25T21:09:46.756665Z",
     "start_time": "2019-09-25T21:09:46.751662Z"
    }
   },
   "outputs": [
    {
     "data": {
      "text/plain": [
       "12"
      ]
     },
     "execution_count": 57,
     "metadata": {},
     "output_type": "execute_result"
    }
   ],
   "source": [
    "int(3.9)*4"
   ]
  },
  {
   "cell_type": "code",
   "execution_count": 58,
   "metadata": {
    "ExecuteTime": {
     "end_time": "2019-09-25T21:09:52.850487Z",
     "start_time": "2019-09-25T21:09:52.833480Z"
    }
   },
   "outputs": [
    {
     "data": {
      "text/plain": [
       "12.0"
      ]
     },
     "execution_count": 58,
     "metadata": {},
     "output_type": "execute_result"
    }
   ],
   "source": [
    "int(3.9)*4.0"
   ]
  },
  {
   "cell_type": "code",
   "execution_count": 59,
   "metadata": {},
   "outputs": [
    {
     "data": {
      "text/plain": [
       "'3'"
      ]
     },
     "execution_count": 59,
     "metadata": {},
     "output_type": "execute_result"
    }
   ],
   "source": [
    "str(3)"
   ]
  },
  {
   "cell_type": "markdown",
   "metadata": {},
   "source": [
    "### Type Checking\n",
    "<b>Type checking</b> is the process of verifying and enforcing constraints of types.  Rather than let the programs respond in unrepdictable ways, Python will generate an error that stops execution.  Let's look at the following line of code as an example. Each will generate an error. "
   ]
  },
  {
   "cell_type": "code",
   "execution_count": 60,
   "metadata": {
    "ExecuteTime": {
     "end_time": "2019-09-25T21:04:56.956446Z",
     "start_time": "2019-09-25T21:04:56.787446Z"
    }
   },
   "outputs": [
    {
     "data": {
      "text/plain": [
       "2.0"
      ]
     },
     "execution_count": 60,
     "metadata": {},
     "output_type": "execute_result"
    }
   ],
   "source": [
    "#Add two strings together\n",
    "a"
   ]
  },
  {
   "cell_type": "code",
   "execution_count": 61,
   "metadata": {
    "ExecuteTime": {
     "end_time": "2019-09-25T21:05:03.138258Z",
     "start_time": "2019-09-25T21:05:03.121253Z"
    }
   },
   "outputs": [
    {
     "ename": "TypeError",
     "evalue": "can't multiply sequence by non-int of type 'str'",
     "output_type": "error",
     "traceback": [
      "\u001b[0;31m---------------------------------------------------------------------------\u001b[0m",
      "\u001b[0;31mTypeError\u001b[0m                                 Traceback (most recent call last)",
      "\u001b[0;32m<ipython-input-61-16c4cba560f9>\u001b[0m in \u001b[0;36m<module>\u001b[0;34m\u001b[0m\n\u001b[0;32m----> 1\u001b[0;31m \u001b[0;34m'a'\u001b[0m\u001b[0;34m*\u001b[0m\u001b[0;34m'a'\u001b[0m\u001b[0;34m\u001b[0m\u001b[0;34m\u001b[0m\u001b[0m\n\u001b[0m",
      "\u001b[0;31mTypeError\u001b[0m: can't multiply sequence by non-int of type 'str'"
     ]
    }
   ],
   "source": [
    "'a'*'a'"
   ]
  },
  {
   "cell_type": "markdown",
   "metadata": {},
   "source": [
    "# Printing Strings in Python\n",
    "The <b>print()</b> function prints a specified message to a screen, or other standard output device found in the parenthesis.\n",
    "The message can be a string, or any other object, the object will be converted into a string before written to the screen."
   ]
  },
  {
   "cell_type": "code",
   "execution_count": 62,
   "metadata": {
    "ExecuteTime": {
     "end_time": "2019-09-25T21:29:54.692433Z",
     "start_time": "2019-09-25T21:29:54.680468Z"
    }
   },
   "outputs": [
    {
     "name": "stdout",
     "output_type": "stream",
     "text": [
      "Hello\n"
     ]
    }
   ],
   "source": [
    "print('Hello')"
   ]
  },
  {
   "cell_type": "markdown",
   "metadata": {},
   "source": [
    "The print function can use a comma as a separator to print more than one object or it can recieve one string as an argument. If you forget a comma or operator, Python will implcitly concatenate the strings. \n"
   ]
  },
  {
   "cell_type": "code",
   "execution_count": 63,
   "metadata": {
    "ExecuteTime": {
     "end_time": "2019-09-25T21:30:20.132945Z",
     "start_time": "2019-09-25T21:30:20.127982Z"
    }
   },
   "outputs": [
    {
     "name": "stdout",
     "output_type": "stream",
     "text": [
      "Hello how are you?\n",
      "Hello how are you?\n",
      "Hello how are you?\n"
     ]
    }
   ],
   "source": [
    "print(\"Hello\"  , \"how are you?\")\n",
    "print(\"Hello \" + \"how are you?\")\n",
    "print(\"Hello \"   \"how are you?\")"
   ]
  },
  {
   "cell_type": "markdown",
   "metadata": {},
   "source": [
    "### The end and sep arguments.\n",
    "- The <b>print()</b> function has a seperator argument called <b>sep</b> that can be used to replace the commas in the output string.<br>\n",
    "- The <b>print()</b> function has an end argument called <b>end</b> that can be used to put at the end of the output string. <br>\n",
    "<br>The default seperator is a space and the default end is a new line. "
   ]
  },
  {
   "cell_type": "code",
   "execution_count": 64,
   "metadata": {
    "ExecuteTime": {
     "end_time": "2019-09-25T21:30:41.707642Z",
     "start_time": "2019-09-25T21:30:41.701641Z"
    }
   },
   "outputs": [
    {
     "name": "stdout",
     "output_type": "stream",
     "text": [
      "Hello---how are you?\n",
      "Hello how are you?---"
     ]
    }
   ],
   "source": [
    "#The default seperator is a space and the default end is a new line. \n",
    "\n",
    "print(\"Hello\", \"how are you?\", sep=\"---\")\n",
    "print(\"Hello\", \"how are you?\", end=\"---\")"
   ]
  },
  {
   "cell_type": "markdown",
   "metadata": {},
   "source": [
    "### Common Escape Sequences in Strings\n",
    "Strings can also have <b>common escape sequences</b> to include special characters in a string for printing.<br>\n",
    "<br>\n",
    "<b><i>\\n</i></b>      $\\;\\;\\;\\;\\;\\;\\;$New Line<br>\n",
    "<b><i>\\t</i></b>      $\\;\\;\\;\\;\\;\\;\\;$Tab<br>\n",
    "<b><i>\\r</i></b>      $\\;\\;\\;\\;\\;\\;\\;$Carriage Return<br>\n",
    "<b><i>\\\\\"</i></b>     $\\;\\;\\;\\;\\;\\;$Quotation mark in a double quoted string<br>\n",
    "<b><i>\\\\'</i></b>     $\\;\\;\\;\\;\\;\\;\\;$Quotation mark in a single quoted string<br>\n",
    "<b><i>\\\\\\\\</i></b>     $\\;\\;\\;\\;\\;\\;\\;\\;$</b>Backslash<br>"
   ]
  },
  {
   "cell_type": "code",
   "execution_count": 65,
   "metadata": {
    "ExecuteTime": {
     "end_time": "2019-09-25T21:31:05.248701Z",
     "start_time": "2019-09-25T21:31:05.237698Z"
    }
   },
   "outputs": [
    {
     "name": "stdout",
     "output_type": "stream",
     "text": [
      "This is the first sentence. \n",
      "This is the second sentence.\n"
     ]
    }
   ],
   "source": [
    "#Using \\n to create a new line between sentences. \n",
    "\n",
    "print('This is the first sentence. \\nThis is the second sentence.')"
   ]
  },
  {
   "cell_type": "code",
   "execution_count": 66,
   "metadata": {
    "ExecuteTime": {
     "end_time": "2019-09-25T21:31:10.353413Z",
     "start_time": "2019-09-25T21:31:10.348410Z"
    }
   },
   "outputs": [
    {
     "name": "stdout",
     "output_type": "stream",
     "text": [
      "\tThis is the first sentence. \n",
      "\tThis is the second sentence.\n"
     ]
    }
   ],
   "source": [
    "#Using \\t and \\n to put new lines and tabs tabs between sentences.\n",
    "\n",
    "print('\\tThis is the first sentence. \\n\\tThis is the second sentence.')"
   ]
  },
  {
   "cell_type": "code",
   "execution_count": 67,
   "metadata": {
    "ExecuteTime": {
     "end_time": "2019-09-25T21:31:18.428799Z",
     "start_time": "2019-09-25T21:31:18.421796Z"
    }
   },
   "outputs": [
    {
     "name": "stdout",
     "output_type": "stream",
     "text": [
      "This is the first sentence. \r",
      "This is the second sentence.\n"
     ]
    }
   ],
   "source": [
    "#Using \\r to return between sentences\n",
    "\n",
    "print('This is the first sentence. \\rThis is the second sentence.')"
   ]
  },
  {
   "cell_type": "code",
   "execution_count": 68,
   "metadata": {
    "ExecuteTime": {
     "end_time": "2019-09-25T21:31:31.621482Z",
     "start_time": "2019-09-25T21:31:31.615480Z"
    }
   },
   "outputs": [
    {
     "name": "stdout",
     "output_type": "stream",
     "text": [
      "  \"This is the first sentence.\" \"This is the second sentence.\"  \n"
     ]
    }
   ],
   "source": [
    "#Using \\\" to put a quotation in a single quoted string.\n",
    "#Remember to put the original string inside single quotes! ' '.\n",
    "\n",
    "print('  \\\"This is the first sentence.\" \\\"This is the second sentence.\"  ')"
   ]
  },
  {
   "cell_type": "code",
   "execution_count": 69,
   "metadata": {
    "ExecuteTime": {
     "end_time": "2019-09-25T21:31:38.616915Z",
     "start_time": "2019-09-25T21:31:38.605916Z"
    }
   },
   "outputs": [
    {
     "name": "stdout",
     "output_type": "stream",
     "text": [
      "  'This is the first sentence. 'This is the second sentence.'  \n"
     ]
    }
   ],
   "source": [
    "#Using \\'' to put a quotation in a double quoted string.  \n",
    "#Remember to put the original string inside double quotes! \" \".\n",
    "\n",
    "print(\"  \\'This is the first sentence. \\'This is the second sentence.'  \")"
   ]
  },
  {
   "cell_type": "code",
   "execution_count": 70,
   "metadata": {
    "ExecuteTime": {
     "end_time": "2019-09-25T21:31:44.455903Z",
     "start_time": "2019-09-25T21:31:44.443909Z"
    }
   },
   "outputs": [
    {
     "name": "stdout",
     "output_type": "stream",
     "text": [
      "This is the first sentence. \\ This is the second sentence.\n"
     ]
    }
   ],
   "source": [
    "#Using \\\\ to put a backslash in the \n",
    "\n",
    "print('This is the first sentence. \\\\ This is the second sentence.')"
   ]
  },
  {
   "cell_type": "markdown",
   "metadata": {},
   "source": [
    "### Formatted String Literals\n",
    "<b>Formatted string literals</b> (also called <b>f-strings</b> for short) let you include the value of Python expressions inside a string by prefixing the string with <b>f</b> or <b>F</b> and writing expressions as {expression}."
   ]
  },
  {
   "cell_type": "code",
   "execution_count": 71,
   "metadata": {
    "ExecuteTime": {
     "end_time": "2019-09-25T21:32:03.117665Z",
     "start_time": "2019-09-25T21:32:03.104665Z"
    }
   },
   "outputs": [],
   "source": [
    "pi = 3.14159"
   ]
  },
  {
   "cell_type": "markdown",
   "metadata": {},
   "source": [
    "To use formatted string literals, begin a string with <b>f</b> or <b>F</b> before the opening quotation mark or triple quotation mark. Inside this string, you can write a Python expression between <b>{</b> and <b>}</b> characters that can refer to variables or literal values."
   ]
  },
  {
   "cell_type": "markdown",
   "metadata": {},
   "source": [
    "Here is an example of using Pi in a formatted string literal. "
   ]
  },
  {
   "cell_type": "code",
   "execution_count": 72,
   "metadata": {
    "ExecuteTime": {
     "end_time": "2019-09-25T21:32:46.471285Z",
     "start_time": "2019-09-25T21:32:46.453293Z"
    }
   },
   "outputs": [
    {
     "data": {
      "text/plain": [
       "'The value of pi is approximately 3.14159'"
      ]
     },
     "execution_count": 72,
     "metadata": {},
     "output_type": "execute_result"
    }
   ],
   "source": [
    "f'The value of pi is approximately {pi}'"
   ]
  },
  {
   "cell_type": "markdown",
   "metadata": {},
   "source": [
    "Here is an example of using the print statement to print out the string literal. "
   ]
  },
  {
   "cell_type": "code",
   "execution_count": 73,
   "metadata": {
    "ExecuteTime": {
     "end_time": "2019-09-25T21:32:55.132801Z",
     "start_time": "2019-09-25T21:32:55.125839Z"
    }
   },
   "outputs": [
    {
     "name": "stdout",
     "output_type": "stream",
     "text": [
      "The value of pi is approximately 3.14\n"
     ]
    }
   ],
   "source": [
    "print(f'The value of pi is approximately {pi:.2f}')"
   ]
  },
  {
   "cell_type": "markdown",
   "metadata": {},
   "source": [
    "Assigning the string literal to the value x and then printing the value x."
   ]
  },
  {
   "cell_type": "code",
   "execution_count": 74,
   "metadata": {
    "ExecuteTime": {
     "end_time": "2019-09-25T21:33:01.407031Z",
     "start_time": "2019-09-25T21:33:01.402035Z"
    }
   },
   "outputs": [
    {
     "name": "stdout",
     "output_type": "stream",
     "text": [
      "The value of pi is approximately 3.14159\n"
     ]
    }
   ],
   "source": [
    "x = f'The value of pi is approximately {pi}'\n",
    "print(x)"
   ]
  },
  {
   "cell_type": "markdown",
   "metadata": {},
   "source": [
    "### The Format Method\n",
    "The <b>str.format()</b> method of strings requires more manual effort. You’ll still use <b>{</b> and <b>}</b> to mark where a variable will be substituted and can provide detailed formatting directives, but you’ll also need to provide the information to be formatted."
   ]
  },
  {
   "cell_type": "code",
   "execution_count": 75,
   "metadata": {
    "ExecuteTime": {
     "end_time": "2019-09-25T21:34:03.665108Z",
     "start_time": "2019-09-25T21:34:03.660107Z"
    }
   },
   "outputs": [],
   "source": [
    "Pi = 3.14159"
   ]
  },
  {
   "cell_type": "markdown",
   "metadata": {},
   "source": [
    "Here is an example of using Pi in with the formatted method. "
   ]
  },
  {
   "cell_type": "code",
   "execution_count": 76,
   "metadata": {
    "ExecuteTime": {
     "end_time": "2019-09-25T21:34:12.184385Z",
     "start_time": "2019-09-25T21:34:12.175380Z"
    }
   },
   "outputs": [
    {
     "data": {
      "text/plain": [
       "'The value of pi is approximately 3.14159'"
      ]
     },
     "execution_count": 76,
     "metadata": {},
     "output_type": "execute_result"
    }
   ],
   "source": [
    "'The value of pi is approximately {}'.format(Pi)"
   ]
  },
  {
   "cell_type": "markdown",
   "metadata": {},
   "source": [
    "Here is an example of using the format method in a print statement."
   ]
  },
  {
   "cell_type": "code",
   "execution_count": 77,
   "metadata": {
    "ExecuteTime": {
     "end_time": "2019-09-25T21:34:22.738997Z",
     "start_time": "2019-09-25T21:34:22.731995Z"
    }
   },
   "outputs": [
    {
     "name": "stdout",
     "output_type": "stream",
     "text": [
      "The value of pi is approximately 3.14159\n"
     ]
    }
   ],
   "source": [
    "print('The value of pi is approximately {}'.format(Pi))"
   ]
  },
  {
   "cell_type": "markdown",
   "metadata": {},
   "source": [
    "### input()\n",
    "Python uses the <b>input()</b> function to accept data directly from the user.<br>\n",
    "<br>\n",
    "Here are three methods of using the input function."
   ]
  },
  {
   "cell_type": "markdown",
   "metadata": {},
   "source": [
    "<b>First method to get input.</b>"
   ]
  },
  {
   "cell_type": "code",
   "execution_count": 78,
   "metadata": {
    "ExecuteTime": {
     "end_time": "2019-09-25T21:38:45.908465Z",
     "start_time": "2019-09-25T21:36:40.857549Z"
    }
   },
   "outputs": [
    {
     "name": "stdout",
     "output_type": "stream",
     "text": [
      "What is your name? \n",
      "\n"
     ]
    }
   ],
   "source": [
    "name = input('What is your name? ')\n",
    "print(name)"
   ]
  },
  {
   "cell_type": "markdown",
   "metadata": {},
   "source": [
    "<b>Second method to get input.</b>"
   ]
  },
  {
   "cell_type": "code",
   "execution_count": 79,
   "metadata": {
    "ExecuteTime": {
     "end_time": "2019-09-25T21:38:47.863525Z",
     "start_time": "2019-09-25T21:38:45.911471Z"
    }
   },
   "outputs": [
    {
     "name": "stdout",
     "output_type": "stream",
     "text": [
      "What is your name?\n",
      "\n",
      "\n"
     ]
    }
   ],
   "source": [
    "print('What is your name?')\n",
    "name = input()\n",
    "print(name)"
   ]
  },
  {
   "cell_type": "markdown",
   "metadata": {},
   "source": [
    "<b>Third method to get input.</b>"
   ]
  },
  {
   "cell_type": "code",
   "execution_count": 80,
   "metadata": {
    "ExecuteTime": {
     "end_time": "2019-09-25T21:38:49.415174Z",
     "start_time": "2019-09-25T21:38:47.866529Z"
    }
   },
   "outputs": [
    {
     "name": "stdout",
     "output_type": "stream",
     "text": [
      "What is your name? \n",
      "\n"
     ]
    }
   ],
   "source": [
    "print(input('What is your name? '))"
   ]
  },
  {
   "cell_type": "markdown",
   "metadata": {},
   "source": [
    "### round()\n",
    "\n",
    "Python uses the <b>round()</b> function to the number of decimal digits in the digits argument.  Here are some important rules to remember: \n",
    "- If not digits are specified, it rounds the number to the nearest integer.  \n",
    "- <b>round()</b> will round off to the ceiling integer if the decimal value is greater than or equal to 5. \n",
    "- <b>round()</b> will round off to the floor integer if the decimal value is less than 5. \n",
    "\n",
    "<br>\n",
    "<br>\n",
    "<b>round(number, number of digits)</b>\n",
    "<br>\n",
    "<br>\n",
    " if a decimal number is given , then it will round off to the ceil integer after that if decimal value has >=5 , and it will round off to the floor integer if decimal is <5"
   ]
  },
  {
   "cell_type": "code",
   "execution_count": 81,
   "metadata": {
    "ExecuteTime": {
     "end_time": "2019-09-25T21:39:00.044642Z",
     "start_time": "2019-09-25T21:39:00.023639Z"
    }
   },
   "outputs": [
    {
     "data": {
      "text/plain": [
       "15.77"
      ]
     },
     "execution_count": 81,
     "metadata": {},
     "output_type": "execute_result"
    }
   ],
   "source": [
    "#Here is an example of using the round function to two decimal places.\n",
    "\n",
    "round(15.7666,2) "
   ]
  },
  {
   "cell_type": "code",
   "execution_count": 82,
   "metadata": {
    "ExecuteTime": {
     "end_time": "2019-09-25T21:39:05.371480Z",
     "start_time": "2019-09-25T21:39:05.365481Z"
    }
   },
   "outputs": [
    {
     "data": {
      "text/plain": [
       "16"
      ]
     },
     "execution_count": 82,
     "metadata": {},
     "output_type": "execute_result"
    }
   ],
   "source": [
    "#Here is an example of using the round function when no digits are specified. It rounds to the nearest intgeger.\n",
    "\n",
    "round(15.7666) "
   ]
  },
  {
   "cell_type": "code",
   "execution_count": 83,
   "metadata": {
    "ExecuteTime": {
     "end_time": "2019-09-25T21:39:10.395255Z",
     "start_time": "2019-09-25T21:39:10.391255Z"
    }
   },
   "outputs": [
    {
     "name": "stdout",
     "output_type": "stream",
     "text": [
      "15.77\n"
     ]
    }
   ],
   "source": [
    "#Assigning the results of the round function to the value x and then printing the value x. \n",
    "\n",
    "x = round(15.7666,2) \n",
    "print(x)"
   ]
  },
  {
   "cell_type": "code",
   "execution_count": 84,
   "metadata": {
    "ExecuteTime": {
     "end_time": "2019-09-25T21:39:15.393982Z",
     "start_time": "2019-09-25T21:39:15.383980Z"
    }
   },
   "outputs": [
    {
     "name": "stdout",
     "output_type": "stream",
     "text": [
      "15.77\n"
     ]
    }
   ],
   "source": [
    "#Printing the value of the round function inside the print function. \n",
    "\n",
    "print(round(15.7666,2))"
   ]
  },
  {
   "cell_type": "code",
   "execution_count": 85,
   "metadata": {
    "ExecuteTime": {
     "end_time": "2019-09-25T21:39:21.419261Z",
     "start_time": "2019-09-25T21:39:21.400295Z"
    }
   },
   "outputs": [
    {
     "data": {
      "text/plain": [
       "2.67"
      ]
     },
     "execution_count": 85,
     "metadata": {},
     "output_type": "execute_result"
    }
   ],
   "source": [
    "##hen the (ndigit+1)th digit is =5 \n",
    "\n",
    "round(2.665, 2)"
   ]
  },
  {
   "cell_type": "code",
   "execution_count": 86,
   "metadata": {
    "ExecuteTime": {
     "end_time": "2019-09-25T21:39:28.243706Z",
     "start_time": "2019-09-25T21:39:28.226704Z"
    }
   },
   "outputs": [
    {
     "data": {
      "text/plain": [
       "2.68"
      ]
     },
     "execution_count": 86,
     "metadata": {},
     "output_type": "execute_result"
    }
   ],
   "source": [
    "#When the (ndigit+1)th digit is >=5 \n",
    "\n",
    "round(2.676, 2)  "
   ]
  },
  {
   "cell_type": "code",
   "execution_count": 87,
   "metadata": {
    "ExecuteTime": {
     "end_time": "2019-09-25T21:39:32.968032Z",
     "start_time": "2019-09-25T21:39:32.948034Z"
    }
   },
   "outputs": [
    {
     "data": {
      "text/plain": [
       "2.67"
      ]
     },
     "execution_count": 87,
     "metadata": {},
     "output_type": "execute_result"
    }
   ],
   "source": [
    "#When the (ndigit+1)th digit is <5  \n",
    "\n",
    "round(2.673, 2)"
   ]
  },
  {
   "cell_type": "markdown",
   "metadata": {},
   "source": [
    "## Exercises: Strings and Print statements"
   ]
  },
  {
   "cell_type": "markdown",
   "metadata": {},
   "source": [
    "### Exercise #1: calculate and print"
   ]
  },
  {
   "cell_type": "markdown",
   "metadata": {},
   "source": [
    "Given the following variables and formula, calculate the miles per gallon, round to one decimal place.  Then print the following statement, using the variables given.:<br>\n",
    "\n",
    "<b>\"I drove 225 miles and used 10 gallons of gasoline.  Therefore I used gasoline at a rate of 22.5 mpg.\" <br></b>\n"
   ]
  },
  {
   "cell_type": "code",
   "execution_count": 88,
   "metadata": {},
   "outputs": [],
   "source": [
    "#establish the variables\n",
    "miles_driven = 150.25\n",
    "gallons_used = 5.875\n",
    "\n",
    "#mpg is equal to  miles_driven divided gallons_used \n",
    "\n",
    "#your code\n"
   ]
  },
  {
   "cell_type": "markdown",
   "metadata": {},
   "source": [
    "### Exercise \\#2: string indexing"
   ]
  },
  {
   "cell_type": "markdown",
   "metadata": {},
   "source": [
    "Print first name and its length from the string provided below."
   ]
  },
  {
   "cell_type": "code",
   "execution_count": 89,
   "metadata": {},
   "outputs": [],
   "source": [
    "string = 'Hi my name is Ben Gonzalez'\n",
    "\n",
    "#your code"
   ]
  },
  {
   "cell_type": "markdown",
   "metadata": {},
   "source": [
    "### Exercise \\#3: practice print statements"
   ]
  },
  {
   "cell_type": "markdown",
   "metadata": {},
   "source": [
    "Write a piece of code that prints your name. "
   ]
  },
  {
   "cell_type": "code",
   "execution_count": 90,
   "metadata": {},
   "outputs": [],
   "source": [
    "#your code\n"
   ]
  },
  {
   "cell_type": "markdown",
   "metadata": {},
   "source": [
    "Write a piece of code that prints your name 10 times."
   ]
  },
  {
   "cell_type": "code",
   "execution_count": 91,
   "metadata": {
    "ExecuteTime": {
     "end_time": "2021-03-01T18:33:11.853202Z",
     "start_time": "2021-03-01T18:33:11.846208Z"
    }
   },
   "outputs": [],
   "source": [
    "#your code\n"
   ]
  },
  {
   "cell_type": "markdown",
   "metadata": {},
   "source": [
    "Write a piece of code that prints your name 10 times with a space in between."
   ]
  },
  {
   "cell_type": "code",
   "execution_count": 92,
   "metadata": {},
   "outputs": [],
   "source": [
    "#your code\n"
   ]
  },
  {
   "cell_type": "markdown",
   "metadata": {},
   "source": [
    "Write a piece of code that prints your name 10 times on a new line."
   ]
  },
  {
   "cell_type": "code",
   "execution_count": 93,
   "metadata": {
    "ExecuteTime": {
     "end_time": "2021-03-01T18:33:49.109548Z",
     "start_time": "2021-03-01T18:33:49.102554Z"
    }
   },
   "outputs": [],
   "source": [
    "#your code\n"
   ]
  },
  {
   "cell_type": "markdown",
   "metadata": {},
   "source": [
    "Assign the output above to new variable and print it."
   ]
  },
  {
   "cell_type": "code",
   "execution_count": 94,
   "metadata": {
    "ExecuteTime": {
     "end_time": "2021-03-01T18:40:36.711026Z",
     "start_time": "2021-03-01T18:40:36.696627Z"
    }
   },
   "outputs": [],
   "source": [
    "#your code\n"
   ]
  },
  {
   "cell_type": "markdown",
   "metadata": {},
   "source": [
    "Assign your name to a variable and then use indexing to slice the string to your first and last name. Assign the part of the string that is your first name to a variable named first_name, and your last name to a variable named last_name.  Then print both strings.  "
   ]
  },
  {
   "cell_type": "code",
   "execution_count": 95,
   "metadata": {
    "ExecuteTime": {
     "end_time": "2021-03-01T18:43:28.971050Z",
     "start_time": "2021-03-01T18:43:28.956898Z"
    }
   },
   "outputs": [],
   "source": [
    "#your code\n"
   ]
  },
  {
   "cell_type": "markdown",
   "metadata": {},
   "source": [
    "***"
   ]
  },
  {
   "cell_type": "markdown",
   "metadata": {},
   "source": [
    "# Branching Programs and Control Flow\n",
    "\n",
    "The kinds of computations we have been looking at thus far are called <b>straight-line programs.</b> They execute one statement after another in the order in which they appear, and stop when the run out of statements. The kinds of computations we can describe with straight-line programs are not very interesting. In fact they are downright boring.\n",
    "\n",
    "<b>Branching</b> programs are more interesting. The simplest branching statment is <b>conditional.</b> A conditional statement has three parts:\n",
    "\n",
    "- <b>TEST</b> An expression that evaluates to either <b>True</b> or <b>False</b>\n",
    "- <b>IF TRUE</b> A block of code that is executed if the test evaluates to <b>True</b>\n",
    "- <b>IF FALSE</b> A block of code that is executed if the test evaluatges to <b>False</b>\n",
    "<p><b>EXAMPLE:</b> A test to see if x is even or odd</p>\n",
    "\n",
    "The expression <b>%2 == 0</b> evaluates to <b>True</b> when the remainder of <b>x</b> divided by <b>2</b> is <b>0</b>, and <b>False</b> otherwise."
   ]
  },
  {
   "cell_type": "code",
   "execution_count": 96,
   "metadata": {},
   "outputs": [
    {
     "name": "stdout",
     "output_type": "stream",
     "text": [
      "0\n"
     ]
    }
   ],
   "source": [
    "#Assign the value of x\n",
    "x = 2\n",
    "\n",
    "#Look at the vlue of x%2\n",
    "print(x % 2)"
   ]
  },
  {
   "cell_type": "code",
   "execution_count": 97,
   "metadata": {},
   "outputs": [
    {
     "name": "stdout",
     "output_type": "stream",
     "text": [
      "Even\n"
     ]
    }
   ],
   "source": [
    "if x % 2 == 0:\n",
    "    print('Even')\n",
    "    \n",
    "else:\n",
    "    print('Odd')"
   ]
  },
  {
   "cell_type": "markdown",
   "metadata": {},
   "source": [
    "## Indentation\n",
    "Indentation is semantically meaningful in Python. For example, if the last statement in the above code were indented it would part of the block of code associated with the else, rather than the block of code following the conditional assignment.\n",
    "\n",
    "## Nested Conditional Statements\n",
    "When either the true block or the false block of a conditional contains another conditional, the conditional statements are said to be nested. In the code below, there are conditionals in both branches of the top-level if statements. The <b>elif</b> in the code below stands for, <b>\"else if.\"</b>"
   ]
  },
  {
   "cell_type": "code",
   "execution_count": 98,
   "metadata": {},
   "outputs": [],
   "source": [
    "#Assign a value to x\n",
    "x = 2"
   ]
  },
  {
   "cell_type": "code",
   "execution_count": 99,
   "metadata": {},
   "outputs": [
    {
     "name": "stdout",
     "output_type": "stream",
     "text": [
      "Divisible by 2 and not by 3\n"
     ]
    }
   ],
   "source": [
    "if x % 2 == 0:\n",
    "    if x % 3 == 0:\n",
    "        print('Divisible by 2 and 3')\n",
    "    else: \n",
    "        print('Divisible by 2 and not by 3')\n",
    "\n",
    "elif x % 3 == 0:\n",
    "    print('Divisible by 3 and not by 2')"
   ]
  },
  {
   "cell_type": "markdown",
   "metadata": {},
   "source": [
    "## Compound Boolean Expressions \n",
    "You can use tests of conditional statements in Python"
   ]
  },
  {
   "cell_type": "code",
   "execution_count": 100,
   "metadata": {},
   "outputs": [],
   "source": [
    "#Assign values to x,y, and z\n",
    "\n",
    "x,y,z = 4,5,6"
   ]
  },
  {
   "cell_type": "code",
   "execution_count": 101,
   "metadata": {},
   "outputs": [
    {
     "name": "stdout",
     "output_type": "stream",
     "text": [
      "x is least\n"
     ]
    }
   ],
   "source": [
    "if x < y and x < z:\n",
    "    print('x is least')\n",
    "elif y < z:\n",
    "    print('y is least')\n",
    "else: \n",
    "    print('z is least')"
   ]
  },
  {
   "cell_type": "markdown",
   "metadata": {},
   "source": [
    "## Try .. Except statements\n",
    "\n",
    "The try-except statements are used to handle errors and build more robust code. Try block lets you test a block of code for errors. The except block lets you handle the error. Finally block lets you execute code, regardless of the result of the try- and except blocks. Else block is executed in case no exceptions are raised.  "
   ]
  },
  {
   "cell_type": "code",
   "execution_count": 102,
   "metadata": {},
   "outputs": [
    {
     "name": "stdout",
     "output_type": "stream",
     "text": [
      "Something went wrong\n"
     ]
    }
   ],
   "source": [
    "x = 1\n",
    "y = '2'\n",
    "\n",
    "try:\n",
    "    print(x < y)\n",
    "except:\n",
    "    print(\"Something went wrong\")\n",
    "else:\n",
    "    print(\"Nothing went wrong\")"
   ]
  },
  {
   "cell_type": "code",
   "execution_count": 103,
   "metadata": {},
   "outputs": [
    {
     "name": "stdout",
     "output_type": "stream",
     "text": [
      "Something went wrong\n",
      "This block of code is always executed\n"
     ]
    }
   ],
   "source": [
    "x = 1\n",
    "y = '2'\n",
    "\n",
    "try:\n",
    "    print(x < y)\n",
    "except:\n",
    "    print(\"Something went wrong\")\n",
    "finally:\n",
    "    print(\"This block of code is always executed\")"
   ]
  },
  {
   "cell_type": "markdown",
   "metadata": {},
   "source": [
    "### Multiple exceptions"
   ]
  },
  {
   "cell_type": "code",
   "execution_count": 104,
   "metadata": {},
   "outputs": [
    {
     "name": "stdout",
     "output_type": "stream",
     "text": [
      "True\n",
      "Nothing went wrong\n"
     ]
    }
   ],
   "source": [
    "#control error type\n",
    "\n",
    "x = 1\n",
    "y = '2'\n",
    "\n",
    "try:\n",
    "    print(x < z)\n",
    "except NameError:\n",
    "    print(\"A variable is not defined! NameError is raised.\")\n",
    "except TypeError:\n",
    "    print(\"Check variable type\")\n",
    "else:\n",
    "    print(\"Nothing went wrong\")"
   ]
  },
  {
   "cell_type": "code",
   "execution_count": 105,
   "metadata": {},
   "outputs": [
    {
     "name": "stdout",
     "output_type": "stream",
     "text": [
      "Check variable type! TypeError is raised.\n"
     ]
    }
   ],
   "source": [
    "#control error type\n",
    "\n",
    "x = 1\n",
    "y = '2'\n",
    "\n",
    "try:\n",
    "    print(x < y)\n",
    "except NameError:\n",
    "    print(\"A variable is not defined! NameError is raised.\")\n",
    "except TypeError:\n",
    "    print(\"Check variable type! TypeError is raised.\")\n",
    "else:\n",
    "    print(\"Nothing went wrong\")"
   ]
  },
  {
   "cell_type": "markdown",
   "metadata": {},
   "source": [
    "## Exercises: Control Flows"
   ]
  },
  {
   "cell_type": "markdown",
   "metadata": {},
   "source": [
    "### Exercise \\#1: understanding if...elif...else statements\n",
    "\n",
    "Please answer the questions before using the Jupyter notebook solve it. What is the output of the code below? After you have done that, try changing the temp variable to see the output you get."
   ]
  },
  {
   "cell_type": "code",
   "execution_count": 106,
   "metadata": {},
   "outputs": [],
   "source": [
    "#your answer\n"
   ]
  },
  {
   "cell_type": "code",
   "execution_count": 107,
   "metadata": {
    "ExecuteTime": {
     "end_time": "2021-03-01T18:48:21.083129Z",
     "start_time": "2021-03-01T18:48:21.077652Z"
    }
   },
   "outputs": [
    {
     "name": "stdout",
     "output_type": "stream",
     "text": [
      "70F degrees is cold in Texas.\n"
     ]
    }
   ],
   "source": [
    "temp = 70\n",
    "\n",
    "if temp > 90:\n",
    "    print('{}F degrees is HOT in Texas'.format(temp))\n",
    "elif temp > 105:\n",
    "    print('{}F DEGREES IS REALLY HOT!'.format(temp))\n",
    "elif temp > 72:\n",
    "    print('{}F degrees is comfortable in Texas'.format(temp)) \n",
    "else:\n",
    "    print('{}F degrees is cold in Texas.'.format(temp))"
   ]
  },
  {
   "cell_type": "markdown",
   "metadata": {},
   "source": [
    "### Exercise \\#2: practice if...elif...else statements\n",
    "\n",
    "Write a program that examines three variables x, y, and z and prints the largest odd number among them. If none of them are odd, it should print a message to that effect. Hint: It's the apposite of the example above that is earlier in the lesson."
   ]
  },
  {
   "cell_type": "code",
   "execution_count": 108,
   "metadata": {},
   "outputs": [],
   "source": [
    "#your code\n"
   ]
  },
  {
   "cell_type": "markdown",
   "metadata": {},
   "source": [
    "### Exercise \\#3: practice try...except...else statements\n",
    "\n",
    "Make code for previous exercise more robust by printing an error statement when x, y, and z are not specified or have wrong type, e.g. string.  Otherwise print the result on phrase: \"Nothing went wrong\"."
   ]
  },
  {
   "cell_type": "code",
   "execution_count": 109,
   "metadata": {},
   "outputs": [],
   "source": [
    "#your code\n"
   ]
  }
 ],
 "metadata": {
  "hide_input": false,
  "kernelspec": {
   "display_name": "Python 3",
   "language": "python",
   "name": "python3"
  },
  "language_info": {
   "codemirror_mode": {
    "name": "ipython",
    "version": 3
   },
   "file_extension": ".py",
   "mimetype": "text/x-python",
   "name": "python",
   "nbconvert_exporter": "python",
   "pygments_lexer": "ipython3",
   "version": "3.8.3"
  },
  "toc": {
   "base_numbering": 1,
   "nav_menu": {},
   "number_sections": true,
   "sideBar": true,
   "skip_h1_title": false,
   "title_cell": "Table of Contents",
   "title_sidebar": "Contents",
   "toc_cell": false,
   "toc_position": {},
   "toc_section_display": true,
   "toc_window_display": true
  },
  "varInspector": {
   "cols": {
    "lenName": 16,
    "lenType": 16,
    "lenVar": 40
   },
   "kernels_config": {
    "python": {
     "delete_cmd_postfix": "",
     "delete_cmd_prefix": "del ",
     "library": "var_list.py",
     "varRefreshCmd": "print(var_dic_list())"
    },
    "r": {
     "delete_cmd_postfix": ") ",
     "delete_cmd_prefix": "rm(",
     "library": "var_list.r",
     "varRefreshCmd": "cat(var_dic_list()) "
    }
   },
   "types_to_exclude": [
    "module",
    "function",
    "builtin_function_or_method",
    "instance",
    "_Feature"
   ],
   "window_display": false
  }
 },
 "nbformat": 4,
 "nbformat_minor": 2
}
