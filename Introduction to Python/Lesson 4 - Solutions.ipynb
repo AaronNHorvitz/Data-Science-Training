{
 "cells": [
  {
   "cell_type": "markdown",
   "metadata": {},
   "source": [
    "Lesson 4 - Solutions"
   ]
  },
  {
   "cell_type": "markdown",
   "metadata": {},
   "source": [
    "### Question 1\n",
    "\n",
    "Write a function that takes the radius of a circle and returns the value for the area. Have the function round the output to 2 decimal places. Use 3.14 for the value of pi. Name the function <b>calculate_area</b>. <p>For example: If you enter <b>calucate_area(4)</b>, it should return the value <b>50.24</b> "
   ]
  },
  {
   "cell_type": "code",
   "execution_count": 2,
   "metadata": {},
   "outputs": [],
   "source": [
    "def calculate_area(r):\n",
    "\n",
    "    A = 3.14*r**2\n",
    "    A = round(A,2)\n",
    "    \n",
    "    return A"
   ]
  },
  {
   "cell_type": "code",
   "execution_count": 3,
   "metadata": {},
   "outputs": [
    {
     "data": {
      "text/plain": [
       "50.24"
      ]
     },
     "execution_count": 3,
     "metadata": {},
     "output_type": "execute_result"
    }
   ],
   "source": [
    "calculate_area(4)"
   ]
  },
  {
   "cell_type": "markdown",
   "metadata": {},
   "source": [
    "### Question 2\n",
    "Write a function to reverse a string using a <b>while</b> loop. Assign the string to the variable <b>text</b> and name the function <b>reverse_string</b>.  <p>For Exmaple:</p><p>Once you have coded and run your function, you should be able to enter enter <i><b>reverse_string('Platipus')</b></i>, and the output should be: <i><b>'supitalP'</b></i></p>"
   ]
  },
  {
   "cell_type": "code",
   "execution_count": 4,
   "metadata": {},
   "outputs": [],
   "source": [
    "def reverse_string(text):\n",
    "\n",
    "    index = len(text)-1\n",
    "    new_text = ''\n",
    "\n",
    "    while (index >= 0):\n",
    "        new_text += text[index] \n",
    "        index -= 1\n",
    "\n",
    "    return new_text"
   ]
  },
  {
   "cell_type": "code",
   "execution_count": 5,
   "metadata": {},
   "outputs": [
    {
     "data": {
      "text/plain": [
       "'supitalP'"
      ]
     },
     "execution_count": 5,
     "metadata": {},
     "output_type": "execute_result"
    }
   ],
   "source": [
    "reverse_string('Platipus')"
   ]
  },
  {
   "cell_type": "markdown",
   "metadata": {},
   "source": [
    "### Question 3\n",
    "\n",
    "Party Manufacturing Company would like to start selling custom foam party balls. Write a function named <b>find_total_ball_cost</b> that takes in the length (diameter) of the ball they want to manufacture, the number they want to manufacture, the price per cubic inch of foam, and calculates the total cost to the customer. The diameter of the ball should not be allowed to exceed 12 inches, and it can't be smaller than 2 inches.  Round the total cost to two decimal places, and set the default cost of foam per cubic inch at 10 cents, and pi = 3.14<p>If the diameter of the ball exceeds the 2 inch to 12 inch aboundaries, print the following statement. <b>\"Error: The ball can't have a diameter larger than 12 inches or smaller than 2 inches.\"</b></p> <p><b>Testing Example:</b> the output from calling the function <b><i>find_total_ball_cost(10, 10)</i></b> should be <b>523.33</b></p><p><b>HINT: The radius of the ball is half the length (diameter).</b></p>"
   ]
  },
  {
   "cell_type": "code",
   "execution_count": 6,
   "metadata": {},
   "outputs": [],
   "source": [
    "def find_total_ball_cost(diameter, number, ppci=0.10):\n",
    "    \n",
    "    if (diameter > 12) or (diameter < 2):\n",
    "        print( \"Error: The ball can't have a diameter larger than 12 inches or smaller than 2 inches.\")\n",
    "        return\n",
    "    \n",
    "    else: \n",
    "        pi = 3.14\n",
    "        total_cost = number*ppci*(4/3)*pi*(diameter/2)**3\n",
    "        total_cost = round(total_cost,2)\n",
    "        return total_cost"
   ]
  },
  {
   "cell_type": "code",
   "execution_count": 7,
   "metadata": {},
   "outputs": [
    {
     "data": {
      "text/plain": [
       "523.33"
      ]
     },
     "execution_count": 7,
     "metadata": {},
     "output_type": "execute_result"
    }
   ],
   "source": [
    "find_total_ball_cost(10, 10)"
   ]
  },
  {
   "cell_type": "markdown",
   "metadata": {},
   "source": [
    "### Question 4\n",
    "\n",
    "Party Manufacturing Company would like to start selling custom foam party noodles. Write a similar function named <b>find_total_noodle_cost</b> that takes in the diameter of the noodle they want to manufacture, the height of the noodle they want to manufacture, the number they want to manufacture, the price per cubic inch of foam, and calculates the total cost to the customer. Once again, set the default cost of foam per cubic inch at 10 cents. <p><b>NOTE:</b> The smaller diameter 'd' of the hollowed out noodle is always the same. Set a <b>global variable</b> to ensure it always equals one, and this time make pi a global variable. Set pi equal to 3.14. Once again the larger diameter 'D', can't exceed 12 inches, and it can't be smaller than 2 inches. As a matter of good coding practice, capitalize the global variables in your code. HINT: The radius of the ball is half the length (diameter).</p>"
   ]
  },
  {
   "cell_type": "code",
   "execution_count": 8,
   "metadata": {},
   "outputs": [],
   "source": [
    "PI = 3.14\n",
    "SMALL_D = 1\n",
    "\n",
    "def find_total_noodle_cost(diameter, height, number, ppci=0.10):\n",
    "    \n",
    "    if (diameter > 12) or (diameter < 2):\n",
    "        print( \"Error: The ball can't have a diameter larger than 12 inches or smaller than 2 inches.\")\n",
    "        return\n",
    "    \n",
    "    else: \n",
    "        total_cost = number*ppci*((height*PI*(diameter/2)**2-height*PI*(SMALL_D/2)**2))\n",
    "        total_cost = round(total_cost,2)\n",
    "        return total_cost"
   ]
  },
  {
   "cell_type": "code",
   "execution_count": 9,
   "metadata": {},
   "outputs": [
    {
     "data": {
      "text/plain": [
       "777.15"
      ]
     },
     "execution_count": 9,
     "metadata": {},
     "output_type": "execute_result"
    }
   ],
   "source": [
    "find_total_noodle_cost(10, 10, 10)"
   ]
  },
  {
   "cell_type": "code",
   "execution_count": null,
   "metadata": {},
   "outputs": [],
   "source": []
  }
 ],
 "metadata": {
  "hide_input": false,
  "kernelspec": {
   "display_name": "Python 3",
   "language": "python",
   "name": "python3"
  },
  "language_info": {
   "codemirror_mode": {
    "name": "ipython",
    "version": 3
   },
   "file_extension": ".py",
   "mimetype": "text/x-python",
   "name": "python",
   "nbconvert_exporter": "python",
   "pygments_lexer": "ipython3",
   "version": "3.8.3"
  },
  "toc": {
   "base_numbering": 1,
   "nav_menu": {},
   "number_sections": true,
   "sideBar": true,
   "skip_h1_title": false,
   "title_cell": "Table of Contents",
   "title_sidebar": "Contents",
   "toc_cell": false,
   "toc_position": {},
   "toc_section_display": true,
   "toc_window_display": false
  },
  "varInspector": {
   "cols": {
    "lenName": 16,
    "lenType": 16,
    "lenVar": 40
   },
   "kernels_config": {
    "python": {
     "delete_cmd_postfix": "",
     "delete_cmd_prefix": "del ",
     "library": "var_list.py",
     "varRefreshCmd": "print(var_dic_list())"
    },
    "r": {
     "delete_cmd_postfix": ") ",
     "delete_cmd_prefix": "rm(",
     "library": "var_list.r",
     "varRefreshCmd": "cat(var_dic_list()) "
    }
   },
   "types_to_exclude": [
    "module",
    "function",
    "builtin_function_or_method",
    "instance",
    "_Feature"
   ],
   "window_display": false
  }
 },
 "nbformat": 4,
 "nbformat_minor": 4
}
