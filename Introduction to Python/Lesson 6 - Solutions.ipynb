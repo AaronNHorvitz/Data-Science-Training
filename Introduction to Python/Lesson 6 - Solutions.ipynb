{
 "cells": [
  {
   "cell_type": "markdown",
   "id": "fatty-fraction",
   "metadata": {},
   "source": [
    "Lesson 6 - Solutions"
   ]
  },
  {
   "cell_type": "markdown",
   "id": "changing-approach",
   "metadata": {},
   "source": [
    "### Exercise # 1: multiply list elements\n",
    "Write a Python program to multiplies all the items in a list by 2 using list comprehensions."
   ]
  },
  {
   "cell_type": "code",
   "execution_count": 1,
   "id": "classical-rochester",
   "metadata": {},
   "outputs": [
    {
     "data": {
      "text/plain": [
       "[8, 16, 4, 18, 2]"
      ]
     },
     "execution_count": 1,
     "metadata": {},
     "output_type": "execute_result"
    }
   ],
   "source": [
    "list_ = [4, 8, 2, 9, 1]\n",
    "\n",
    "#your code\n",
    "list_mul2 = [elem*2 for elem in list_]\n",
    "\n",
    "list_mul2"
   ]
  },
  {
   "cell_type": "markdown",
   "id": "surgical-model",
   "metadata": {},
   "source": [
    "### Exercise # 2: remove duplicates from a list\n",
    "Write a Python program to remove duplicates from a list. "
   ]
  },
  {
   "cell_type": "code",
   "execution_count": 2,
   "id": "fitted-democrat",
   "metadata": {},
   "outputs": [
    {
     "name": "stdout",
     "output_type": "stream",
     "text": [
      "[4, 8, 2, 9, 1]\n"
     ]
    }
   ],
   "source": [
    "list_ = [4, 8, 2, 9, 1, 8, 2, 1]\n",
    "\n",
    "#your code\n",
    "\n",
    "list_uniq = []\n",
    "for x in list_:\n",
    "    if x not in list_uniq:\n",
    "        list_uniq.append(x)\n",
    "\n",
    "print(list_uniq)"
   ]
  },
  {
   "cell_type": "markdown",
   "id": "adverse-large",
   "metadata": {},
   "source": [
    "### Exercise # 3: concatenate dictionaries\n",
    "\n",
    "Write a Python script to concatenate following dictionaries to create a new one. "
   ]
  },
  {
   "cell_type": "code",
   "execution_count": 3,
   "id": "insured-gates",
   "metadata": {},
   "outputs": [
    {
     "data": {
      "text/plain": [
       "{1: 'Jan',\n",
       " 2: 'Feb',\n",
       " 3: 'Mar',\n",
       " 4: 'Apr',\n",
       " 5: 'May',\n",
       " 6: 'June',\n",
       " 7: 'July',\n",
       " 8: 'Aug',\n",
       " 9: 'Sep',\n",
       " 10: 'Oct',\n",
       " 11: 'Nov',\n",
       " 12: 'Dec'}"
      ]
     },
     "execution_count": 3,
     "metadata": {},
     "output_type": "execute_result"
    }
   ],
   "source": [
    "dict_1 = {1:'Jan', 2:'Feb', 3:'Mar', 4:'Apr', 5:'May', 6:'June'}\n",
    "dict_2 = {7:'July', 8:'Aug', 9:'Sep', 10:'Oct', 11:'Nov', 12:'Dec'}\n",
    "\n",
    "#your code\n",
    "dict_all = {}\n",
    "for d in [dict_1, dict_2]:\n",
    "    dict_all.update(d)\n",
    "    \n",
    "dict_all"
   ]
  },
  {
   "cell_type": "markdown",
   "id": "fossil-deficit",
   "metadata": {},
   "source": [
    "### Exercise # 4: check element existence in dictionary\n",
    "Write a Python script to check whether a given key already exists in a dictionary."
   ]
  },
  {
   "cell_type": "code",
   "execution_count": 4,
   "id": "infectious-louisiana",
   "metadata": {},
   "outputs": [
    {
     "name": "stdout",
     "output_type": "stream",
     "text": [
      "Key is not present in the dictionary\n",
      "Key is present in the dictionary\n"
     ]
    }
   ],
   "source": [
    "dict_ = {'Jan':1, 'Feb':2, 'Mar':3, 'Apr':4, 'May':5}\n",
    "\n",
    "#your code\n",
    "def is_key_present(key, dict_):\n",
    "    if key in dict_:\n",
    "        print('Key is present in the dictionary')\n",
    "    else:\n",
    "        print('Key is not present in the dictionary')\n",
    "        \n",
    "\n",
    "#check if 'Jun' key exists in dict_\n",
    "is_key_present('Jun', dict_)\n",
    "\n",
    "#check if 'Feb' key exists in dict_\n",
    "is_key_present('Feb', dict_)"
   ]
  },
  {
   "cell_type": "markdown",
   "id": "executed-sitting",
   "metadata": {},
   "source": [
    "### Exercise # 5: Intersection\n",
    "\n",
    "Find list with common elements in two lists provided below"
   ]
  },
  {
   "cell_type": "code",
   "execution_count": 1,
   "id": "familiar-thomas",
   "metadata": {},
   "outputs": [
    {
     "data": {
      "text/plain": [
       "[1, 3, 4, 7]"
      ]
     },
     "execution_count": 1,
     "metadata": {},
     "output_type": "execute_result"
    }
   ],
   "source": [
    "list1 = [1, 5, 3, 2, 1, 4, 7]\n",
    "list2 = [4, 7, 1, 9, 10, 3]\n",
    "\n",
    "#your code\n",
    "list(set(list1).intersection(set(list2)))"
   ]
  },
  {
   "cell_type": "markdown",
   "id": "accessory-suite",
   "metadata": {},
   "source": [
    "### Exercise # 6: Count vowels in a word\n",
    "\n",
    "Count number of vowels using sets in given string"
   ]
  },
  {
   "cell_type": "code",
   "execution_count": 6,
   "id": "transsexual-settle",
   "metadata": {},
   "outputs": [
    {
     "name": "stdout",
     "output_type": "stream",
     "text": [
      "Number of vowels in AIAGlobal is 5\n"
     ]
    }
   ],
   "source": [
    "word = 'AIAGlobal'\n",
    "\n",
    "#your code\n",
    "def vowel_count(word):\n",
    "          \n",
    "    #creating a set of vowels \n",
    "    vowel = set(\"aeiou\") \n",
    "    #initialize count to zero\n",
    "    count = 0\n",
    "    # loop over the word\n",
    "    for letter in word.lower(): \n",
    "        #if vowel is present increase count\n",
    "        if letter in vowel: \n",
    "            count += 1 \n",
    "    \n",
    "    return count\n",
    "\n",
    "print(f\"Number of vowels in {word} is\", vowel_count(word)) "
   ]
  }
 ],
 "metadata": {
  "hide_input": false,
  "kernelspec": {
   "display_name": "Python 3",
   "language": "python",
   "name": "python3"
  },
  "language_info": {
   "codemirror_mode": {
    "name": "ipython",
    "version": 3
   },
   "file_extension": ".py",
   "mimetype": "text/x-python",
   "name": "python",
   "nbconvert_exporter": "python",
   "pygments_lexer": "ipython3",
   "version": "3.8.3"
  },
  "toc": {
   "base_numbering": 1,
   "nav_menu": {},
   "number_sections": true,
   "sideBar": true,
   "skip_h1_title": false,
   "title_cell": "Table of Contents",
   "title_sidebar": "Contents",
   "toc_cell": false,
   "toc_position": {},
   "toc_section_display": true,
   "toc_window_display": false
  },
  "varInspector": {
   "cols": {
    "lenName": 16,
    "lenType": 16,
    "lenVar": 40
   },
   "kernels_config": {
    "python": {
     "delete_cmd_postfix": "",
     "delete_cmd_prefix": "del ",
     "library": "var_list.py",
     "varRefreshCmd": "print(var_dic_list())"
    },
    "r": {
     "delete_cmd_postfix": ") ",
     "delete_cmd_prefix": "rm(",
     "library": "var_list.r",
     "varRefreshCmd": "cat(var_dic_list()) "
    }
   },
   "types_to_exclude": [
    "module",
    "function",
    "builtin_function_or_method",
    "instance",
    "_Feature"
   ],
   "window_display": false
  }
 },
 "nbformat": 4,
 "nbformat_minor": 5
}
