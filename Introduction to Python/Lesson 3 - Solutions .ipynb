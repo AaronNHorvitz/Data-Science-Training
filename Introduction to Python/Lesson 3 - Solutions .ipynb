{
 "cells": [
  {
   "cell_type": "markdown",
   "id": "negative-calendar",
   "metadata": {},
   "source": [
    "Lesson 3 - Solutions"
   ]
  },
  {
   "cell_type": "markdown",
   "id": "dedicated-palestinian",
   "metadata": {},
   "source": [
    "## Exercises: Strings and Print statements"
   ]
  },
  {
   "cell_type": "markdown",
   "id": "willing-thinking",
   "metadata": {},
   "source": [
    "### Exercise #1: calculate and print"
   ]
  },
  {
   "cell_type": "markdown",
   "id": "secret-stage",
   "metadata": {},
   "source": [
    "Given the following variables and formula, calculate the miles per gallon, round to one decimal place.  Then print the following statement, using the variables given.:<br>\n",
    "\n",
    "<b>\"I drove 225 miles and used 10 gallons of gasoline.  Therefore I used gasoline at a rate of 22.5 mpg.\" <br></b>\n"
   ]
  },
  {
   "cell_type": "code",
   "execution_count": 1,
   "id": "straight-society",
   "metadata": {},
   "outputs": [
    {
     "name": "stdout",
     "output_type": "stream",
     "text": [
      "I drove 150.2 miles and used 5.88 gallons of gasoline. Therefore I used gasoline at a rate of 25.57 mpg.\n"
     ]
    }
   ],
   "source": [
    "#establish the variables\n",
    "miles_driven = 150.25\n",
    "gallons_used = 5.875\n",
    "\n",
    "#mpg is equal to  miles_driven divided gallons_used \n",
    "\n",
    "#your code\n",
    "mpg = miles_driven / gallons_used\n",
    "\n",
    "print(f\"I drove {miles_driven:.1f} miles and used {gallons_used:.2f} gallons of gasoline.\\\n",
    " Therefore I used gasoline at a rate of {mpg:.2f} mpg.\")"
   ]
  },
  {
   "cell_type": "markdown",
   "id": "reduced-night",
   "metadata": {},
   "source": [
    "### Exercise \\#2: string indexing\n",
    "\n",
    "Print first name and its length from the string provided below."
   ]
  },
  {
   "cell_type": "code",
   "execution_count": 2,
   "id": "duplicate-prevention",
   "metadata": {},
   "outputs": [
    {
     "name": "stdout",
     "output_type": "stream",
     "text": [
      "Ben\n",
      "3\n"
     ]
    }
   ],
   "source": [
    "string = 'Hi my name is Ben Gonzalez'\n",
    "\n",
    "#your code\n",
    "first_name = string[-12:-9]\n",
    "\n",
    "print(first_name)\n",
    "print(len(first_name))\n",
    "\n",
    "#self-explanatory:\n",
    "# print(f'First name is {first_name}')\n",
    "# print('length = ', len(first_name), sep=' ')"
   ]
  },
  {
   "cell_type": "markdown",
   "id": "august-watershed",
   "metadata": {},
   "source": [
    "### Exercise \\#3: practice print statements"
   ]
  },
  {
   "cell_type": "markdown",
   "id": "wound-monster",
   "metadata": {},
   "source": [
    "Write a piece of code that prints your name. "
   ]
  },
  {
   "cell_type": "code",
   "execution_count": 3,
   "id": "organized-conservation",
   "metadata": {},
   "outputs": [
    {
     "name": "stdout",
     "output_type": "stream",
     "text": [
      "Ben Gonzalez\n"
     ]
    }
   ],
   "source": [
    "print('Ben Gonzalez')"
   ]
  },
  {
   "cell_type": "markdown",
   "id": "alert-easter",
   "metadata": {},
   "source": [
    "Write a piece of code that prints your name 10 times."
   ]
  },
  {
   "cell_type": "code",
   "execution_count": 4,
   "id": "double-melbourne",
   "metadata": {},
   "outputs": [
    {
     "name": "stdout",
     "output_type": "stream",
     "text": [
      "Ben GonzalezBen GonzalezBen GonzalezBen GonzalezBen GonzalezBen GonzalezBen GonzalezBen GonzalezBen GonzalezBen Gonzalez\n"
     ]
    }
   ],
   "source": [
    "print('Ben Gonzalez'*10)"
   ]
  },
  {
   "cell_type": "markdown",
   "id": "athletic-craft",
   "metadata": {},
   "source": [
    "Write a piece of code that prints your name 10 times with a space in between."
   ]
  },
  {
   "cell_type": "code",
   "execution_count": 5,
   "id": "unusual-italian",
   "metadata": {},
   "outputs": [
    {
     "name": "stdout",
     "output_type": "stream",
     "text": [
      "Ben Gonzalez Ben Gonzalez Ben Gonzalez Ben Gonzalez Ben Gonzalez Ben Gonzalez Ben Gonzalez Ben Gonzalez Ben Gonzalez Ben Gonzalez \n"
     ]
    }
   ],
   "source": [
    "print('Ben Gonzalez '*10)"
   ]
  },
  {
   "cell_type": "markdown",
   "id": "matched-cutting",
   "metadata": {},
   "source": [
    "Write a piece of code that prints your name 10 times on a new line."
   ]
  },
  {
   "cell_type": "code",
   "execution_count": 6,
   "id": "vietnamese-dance",
   "metadata": {},
   "outputs": [
    {
     "name": "stdout",
     "output_type": "stream",
     "text": [
      "Ben Gonzalez\n",
      "Ben Gonzalez\n",
      "Ben Gonzalez\n",
      "Ben Gonzalez\n",
      "Ben Gonzalez\n",
      "Ben Gonzalez\n",
      "Ben Gonzalez\n",
      "Ben Gonzalez\n",
      "Ben Gonzalez\n",
      "Ben Gonzalez\n",
      "\n"
     ]
    }
   ],
   "source": [
    "print('Ben Gonzalez\\n'*10)"
   ]
  },
  {
   "cell_type": "markdown",
   "id": "premium-connection",
   "metadata": {},
   "source": [
    "Assign the output above to new variable and print it."
   ]
  },
  {
   "cell_type": "code",
   "execution_count": 7,
   "id": "southwest-clerk",
   "metadata": {},
   "outputs": [
    {
     "name": "stdout",
     "output_type": "stream",
     "text": [
      "Ben Gonzalez\n",
      "Ben Gonzalez\n",
      "Ben Gonzalez\n",
      "Ben Gonzalez\n",
      "Ben Gonzalez\n",
      "Ben Gonzalez\n",
      "Ben Gonzalez\n",
      "Ben Gonzalez\n",
      "Ben Gonzalez\n",
      "Ben Gonzalez\n",
      "\n"
     ]
    }
   ],
   "source": [
    "ben_names = 'Ben Gonzalez\\n'*10\n",
    "print(ben_names)"
   ]
  },
  {
   "cell_type": "markdown",
   "id": "reserved-plasma",
   "metadata": {},
   "source": [
    "Assign your name to a variable and then use indexing to slice the string to your first and last name. Assign the part of the string that is your first name to a variable named first_name, and your last name to a variable named last_name.  Then print both strings.  "
   ]
  },
  {
   "cell_type": "code",
   "execution_count": 8,
   "id": "steady-demographic",
   "metadata": {},
   "outputs": [
    {
     "name": "stdout",
     "output_type": "stream",
     "text": [
      "Ben \n",
      "Gonzalez\n"
     ]
    }
   ],
   "source": [
    "your_name = 'Ben Gonzalez'\n",
    "first_name = your_name[:4]\n",
    "last_name = your_name[4:]\n",
    "print(first_name)\n",
    "print(last_name)"
   ]
  },
  {
   "cell_type": "markdown",
   "id": "norman-apparel",
   "metadata": {},
   "source": [
    "***"
   ]
  },
  {
   "cell_type": "markdown",
   "id": "convertible-commonwealth",
   "metadata": {},
   "source": [
    "## Exercises: Control Flows"
   ]
  },
  {
   "cell_type": "markdown",
   "id": "warming-maintenance",
   "metadata": {},
   "source": [
    "### Exercise \\#1: understanding if...elif...else statements"
   ]
  },
  {
   "cell_type": "markdown",
   "id": "hearing-devil",
   "metadata": {},
   "source": [
    "Please answer the questions before using the Jupyter notebook solve it. What is the output of the code below? After you have done that, try changing the temp variable to see the output you get."
   ]
  },
  {
   "cell_type": "code",
   "execution_count": 9,
   "id": "stock-technician",
   "metadata": {},
   "outputs": [
    {
     "name": "stdout",
     "output_type": "stream",
     "text": [
      "70F degrees is cold in Texas.\n"
     ]
    }
   ],
   "source": [
    "temp = 70\n",
    "\n",
    "if temp > 90:\n",
    "    print('{}F degrees is HOT in Texas'.format(temp))\n",
    "elif temp > 105:\n",
    "    print('{}F DEGREES IS REALLY HOT!'.format(temp))\n",
    "elif temp > 72:\n",
    "    print('{}F degrees is comfortable in Texas'.format(temp)) \n",
    "else:\n",
    "    print('{}F degrees is cold in Texas.'.format(temp))"
   ]
  },
  {
   "cell_type": "markdown",
   "id": "julian-furniture",
   "metadata": {},
   "source": [
    "### Exercise \\#2: practice if...elif...else statements"
   ]
  },
  {
   "cell_type": "markdown",
   "id": "normal-sunglasses",
   "metadata": {},
   "source": [
    "Write a program that examines three variables x, y, and z and prints the largest odd number among them. If none of them are odd, it should print a message to that effect. Hint: It's the apposite of the example above that is earlier in the lesson."
   ]
  },
  {
   "cell_type": "code",
   "execution_count": 10,
   "id": "abandoned-label",
   "metadata": {},
   "outputs": [
    {
     "name": "stdout",
     "output_type": "stream",
     "text": [
      "x is least\n"
     ]
    }
   ],
   "source": [
    "#Assign values to x,y, and z\n",
    "\n",
    "x,y,z = 4,5,6\n",
    "\n",
    "if x < y and x < z:\n",
    "    print('x is least')\n",
    "elif y < z:\n",
    "    print('y is least')\n",
    "else: \n",
    "    print('z is least')"
   ]
  },
  {
   "cell_type": "markdown",
   "id": "marked-kenya",
   "metadata": {},
   "source": [
    "### Exercise \\#3: practice try...except...else statements\n",
    "\n",
    "Make code for previous exercise more robust by printing an error statement when x, y, and z are not specified or have wrong type, e.g. string. Otherwise print the result on phrase: \"Nothing went wrong\"."
   ]
  },
  {
   "cell_type": "code",
   "execution_count": 11,
   "id": "martial-finger",
   "metadata": {},
   "outputs": [
    {
     "name": "stdout",
     "output_type": "stream",
     "text": [
      "Check variable type! TypeError is raised.\n"
     ]
    }
   ],
   "source": [
    "x,y,z = 4,5,'6'\n",
    "\n",
    "try: \n",
    "    if x < y and x < z:\n",
    "        print('x is least')\n",
    "    elif y < z:\n",
    "        print('y is least')\n",
    "    else: \n",
    "        print('z is least')\n",
    "        \n",
    "except NameError:\n",
    "    print(\"A variable is not defined! NameError is raised.\")\n",
    "    \n",
    "except TypeError:\n",
    "    print(\"Check variable type! TypeError is raised.\")\n",
    "\n",
    "else:\n",
    "    print(\"Nothing went wrong\")"
   ]
  },
  {
   "cell_type": "code",
   "execution_count": 12,
   "id": "architectural-glossary",
   "metadata": {},
   "outputs": [
    {
     "name": "stdout",
     "output_type": "stream",
     "text": [
      "A variable is not defined! NameError is raised.\n"
     ]
    }
   ],
   "source": [
    "#Assign values to x,y, and z\n",
    "x,y,z = 4,5,6\n",
    "\n",
    "#delete variable z from memory to test\n",
    "del z\n",
    "\n",
    "try: \n",
    "    if x < y and x < z:\n",
    "        print('x is least')\n",
    "    elif y < z:\n",
    "        print('y is least')\n",
    "    else: \n",
    "        print('z is least')\n",
    "        \n",
    "except NameError:\n",
    "    print(\"A variable is not defined! NameError is raised.\")\n",
    "    \n",
    "except TypeError:\n",
    "    print(\"Check variable type! TypeError is raised.\")\n",
    "\n",
    "else:\n",
    "    print(\"Nothing went wrong\")"
   ]
  },
  {
   "cell_type": "code",
   "execution_count": 13,
   "id": "burning-camel",
   "metadata": {},
   "outputs": [
    {
     "name": "stdout",
     "output_type": "stream",
     "text": [
      "x is least\n",
      "Nothing went wrong\n"
     ]
    }
   ],
   "source": [
    "#Assign values to x,y, and z\n",
    "x,y,z = 4,5,6\n",
    "\n",
    "try: \n",
    "    if x < y and x < z:\n",
    "        print('x is least')\n",
    "    elif y < z:\n",
    "        print('y is least')\n",
    "    else: \n",
    "        print('z is least')\n",
    "        \n",
    "except NameError:\n",
    "    print(\"A variable is not defined! NameError is raised.\")\n",
    "    \n",
    "except TypeError:\n",
    "    print(\"Check variable type! TypeError is raised.\")\n",
    "\n",
    "else:\n",
    "    print(\"Nothing went wrong\")"
   ]
  }
 ],
 "metadata": {
  "hide_input": false,
  "kernelspec": {
   "display_name": "Python 3",
   "language": "python",
   "name": "python3"
  },
  "language_info": {
   "codemirror_mode": {
    "name": "ipython",
    "version": 3
   },
   "file_extension": ".py",
   "mimetype": "text/x-python",
   "name": "python",
   "nbconvert_exporter": "python",
   "pygments_lexer": "ipython3",
   "version": "3.8.3"
  },
  "toc": {
   "base_numbering": 1,
   "nav_menu": {},
   "number_sections": true,
   "sideBar": true,
   "skip_h1_title": false,
   "title_cell": "Table of Contents",
   "title_sidebar": "Contents",
   "toc_cell": false,
   "toc_position": {},
   "toc_section_display": true,
   "toc_window_display": false
  },
  "varInspector": {
   "cols": {
    "lenName": 16,
    "lenType": 16,
    "lenVar": 40
   },
   "kernels_config": {
    "python": {
     "delete_cmd_postfix": "",
     "delete_cmd_prefix": "del ",
     "library": "var_list.py",
     "varRefreshCmd": "print(var_dic_list())"
    },
    "r": {
     "delete_cmd_postfix": ") ",
     "delete_cmd_prefix": "rm(",
     "library": "var_list.r",
     "varRefreshCmd": "cat(var_dic_list()) "
    }
   },
   "types_to_exclude": [
    "module",
    "function",
    "builtin_function_or_method",
    "instance",
    "_Feature"
   ],
   "window_display": false
  }
 },
 "nbformat": 4,
 "nbformat_minor": 5
}
