{
 "cells": [
  {
   "cell_type": "markdown",
   "id": "august-honduras",
   "metadata": {},
   "source": [
    "Lesson 6 - Introduction to Python - Structured Types, Mutability, and Higher Order Functions"
   ]
  },
  {
   "cell_type": "markdown",
   "id": "banned-peoples",
   "metadata": {},
   "source": [
    "## Immutible vs Mutable Objects in Python\n",
    "\n",
    "Every variable in python holds an instance of an object. There are two types of objects in python i.e. <b>Mutable</b> and <b>Immutable</b> objects. Whenever an object is instantiated, it is assigned a unique object id. The type of the object is defined at the runtime and it can’t be changed afterwards. <b><i>However, it’s state can be changed if it is a mutable object.</b></i>\n",
    "\n",
    "To summarise the difference, mutable objects can change their state or contents and immutable objects can’t change their state or content.\n",
    "\n",
    "\n",
    "- <p><b>Immutable objects</b> These are of in-built types <b> int, float, bool, string, unicode, tuple, set.</b>  They can't be changed after they are created.</p>  \n",
    "- <b>Mutable objects</b>   These are of type <b>list, dict</b>. Custom classes are generally mutable. These can be changed after they are created. \n"
   ]
  },
  {
   "cell_type": "markdown",
   "id": "compact-plain",
   "metadata": {},
   "source": [
    "## Python Collections (Arrays): Tuple, List, Dictionary, Set"
   ]
  },
  {
   "cell_type": "markdown",
   "id": "refined-trail",
   "metadata": {},
   "source": [
    "## Tuples\n",
    "<p>Like strings, <b>tuples</b> are <b><i>immutalbe ordered sequences of elements</b></i>.  The difference is that the elements of a tuple need not be characters.  The individual elements can be of any type, and need not be of the same type as each other.</p>\n",
    " \n",
    "<p>Literals of type <b>tuple</b> are written by enclosing a comma-separated list of elements within parentheses.</p>\n",
    "<p>Example Code:</p>"
   ]
  },
  {
   "cell_type": "code",
   "execution_count": 1,
   "id": "cosmetic-asthma",
   "metadata": {
    "ExecuteTime": {
     "end_time": "2021-03-14T08:22:40.720966Z",
     "start_time": "2021-03-14T08:22:40.707921Z"
    }
   },
   "outputs": [
    {
     "name": "stdout",
     "output_type": "stream",
     "text": [
      "()\n",
      "(1, 'two', 3)\n"
     ]
    }
   ],
   "source": [
    "tuple1 = ()\n",
    "tuple2 = (1 , 'two', 3)\n",
    "\n",
    "print(tuple1)\n",
    "print(tuple2)"
   ]
  },
  {
   "cell_type": "markdown",
   "id": "express-allergy",
   "metadata": {},
   "source": [
    "Repetition can also be used on tuples. \n",
    "\n"
   ]
  },
  {
   "cell_type": "code",
   "execution_count": 2,
   "id": "focused-music",
   "metadata": {
    "ExecuteTime": {
     "end_time": "2021-03-14T08:22:40.735714Z",
     "start_time": "2021-03-14T08:22:40.722910Z"
    }
   },
   "outputs": [
    {
     "data": {
      "text/plain": [
       "('B', 'a', 'b', 'y', '|', 'B', 'a', 'b', 'y', '|', 'B', 'a', 'b', 'y', '|')"
      ]
     },
     "execution_count": 2,
     "metadata": {},
     "output_type": "execute_result"
    }
   ],
   "source": [
    "3*('B','a','b','y','|')"
   ]
  },
  {
   "cell_type": "markdown",
   "id": "documentary-donna",
   "metadata": {},
   "source": [
    "Tuples can also be concatenated, indexed, and sliced.  \n",
    "\n",
    "<p>Example Code:</p>"
   ]
  },
  {
   "cell_type": "code",
   "execution_count": 3,
   "id": "adaptive-edwards",
   "metadata": {
    "ExecuteTime": {
     "end_time": "2021-03-14T08:22:40.751136Z",
     "start_time": "2021-03-14T08:22:40.736709Z"
    }
   },
   "outputs": [
    {
     "name": "stdout",
     "output_type": "stream",
     "text": [
      "(1, 'two', 3)\n",
      "((1, 'two', 3), 3.25)\n",
      "-----------------------------------\n",
      "(1, 'two', 3, (1, 'two', 3), 3.25)\n",
      "(1, 'two', 3)\n",
      "(1, 'two', 3)\n"
     ]
    }
   ],
   "source": [
    "tuple1 = (1, 'two', 3)\n",
    "tuple2 = (tuple1, 3.25)\n",
    "\n",
    "print(tuple1)\n",
    "print(tuple2)\n",
    "print('-----------------------------------')\n",
    "print((tuple1 + tuple2))\n",
    "print((tuple1 + tuple2)[3])\n",
    "\n",
    "print((tuple1 + tuple2[2:5]))\n"
   ]
  },
  {
   "cell_type": "code",
   "execution_count": 4,
   "id": "civil-pastor",
   "metadata": {
    "ExecuteTime": {
     "end_time": "2021-03-14T08:22:40.766739Z",
     "start_time": "2021-03-14T08:22:40.753112Z"
    }
   },
   "outputs": [
    {
     "data": {
      "text/plain": [
       "3.25"
      ]
     },
     "execution_count": 4,
     "metadata": {},
     "output_type": "execute_result"
    }
   ],
   "source": [
    "tuple2[1]"
   ]
  },
  {
   "cell_type": "markdown",
   "id": "active-photographer",
   "metadata": {},
   "source": [
    "A definition with a for statement to iterate over the elements within a tuple. It returns a tuple that where there are common elements in two given tuples."
   ]
  },
  {
   "cell_type": "code",
   "execution_count": 5,
   "id": "abroad-trigger",
   "metadata": {
    "ExecuteTime": {
     "end_time": "2021-03-14T08:22:40.782724Z",
     "start_time": "2021-03-14T08:22:40.767736Z"
    }
   },
   "outputs": [],
   "source": [
    "def intersect(tuple1, tuple2):\n",
    "    result = ()\n",
    "    for element in tuple1:\n",
    "        if element in tuple2:\n",
    "            result += (element,)\n",
    "    return result\n"
   ]
  },
  {
   "cell_type": "code",
   "execution_count": 6,
   "id": "addressed-andrews",
   "metadata": {
    "ExecuteTime": {
     "end_time": "2021-03-14T08:22:40.798654Z",
     "start_time": "2021-03-14T08:22:40.783694Z"
    }
   },
   "outputs": [
    {
     "data": {
      "text/plain": [
       "(2, 3)"
      ]
     },
     "execution_count": 6,
     "metadata": {},
     "output_type": "execute_result"
    }
   ],
   "source": [
    "#Test the definition\n",
    "tuple1 = (1, 2, 3)\n",
    "tuple2 = (2, 3, 4)\n",
    "\n",
    "intersect(tuple1, tuple2)"
   ]
  },
  {
   "cell_type": "markdown",
   "id": "serial-doctor",
   "metadata": {},
   "source": [
    "### Sequences and Multiple Assignment"
   ]
  },
  {
   "cell_type": "markdown",
   "id": "plastic-antigua",
   "metadata": {},
   "source": [
    "If you know the length of a sequence (e.g., a tuple or a string), it can be convenient to use Python's multiple assignment statement to extract the individual elements.  For example, after executing the statement x, y = (3,4), 'x' will be bound to 3, and 'y' will be bound to 4.   "
   ]
  },
  {
   "cell_type": "code",
   "execution_count": 7,
   "id": "hundred-lounge",
   "metadata": {
    "ExecuteTime": {
     "end_time": "2021-03-14T08:22:40.814611Z",
     "start_time": "2021-03-14T08:22:40.800096Z"
    }
   },
   "outputs": [
    {
     "name": "stdout",
     "output_type": "stream",
     "text": [
      "3\n",
      "4\n",
      "5\n"
     ]
    }
   ],
   "source": [
    "x,y,z = (3,4,5)\n",
    "\n",
    "print(x)\n",
    "print(y)\n",
    "print(z)"
   ]
  },
  {
   "cell_type": "markdown",
   "id": "universal-specialist",
   "metadata": {},
   "source": [
    "In this example:  a, b, c = 'xyz' will bind a to 'x', b to 'y', and c to 'z'"
   ]
  },
  {
   "cell_type": "code",
   "execution_count": 8,
   "id": "linear-olive",
   "metadata": {
    "ExecuteTime": {
     "end_time": "2021-03-14T08:22:40.830128Z",
     "start_time": "2021-03-14T08:22:40.816215Z"
    }
   },
   "outputs": [
    {
     "name": "stdout",
     "output_type": "stream",
     "text": [
      "x\n",
      "y\n",
      "z\n"
     ]
    }
   ],
   "source": [
    "a, b, c = 'xyz'\n",
    "\n",
    "print(a)\n",
    "print(b)\n",
    "print(c)"
   ]
  },
  {
   "cell_type": "code",
   "execution_count": 9,
   "id": "attended-concentrate",
   "metadata": {
    "ExecuteTime": {
     "end_time": "2021-03-14T08:22:40.846052Z",
     "start_time": "2021-03-14T08:22:40.831246Z"
    }
   },
   "outputs": [],
   "source": [
    "def find_extreme_divisors(n1, n2):\n",
    "    \n",
    "    min_val, max_val = None, None   #Multiple Assignment\n",
    "    \n",
    "    for i in range(2, min(n1, n2) + 1):\n",
    "        \n",
    "        if n1%i == 0 and n2%i == 0:\n",
    "            if min_val == None:\n",
    "                min_val = i\n",
    "                \n",
    "            max_val = i\n",
    "    return(min_val, max_val)\n",
    "                "
   ]
  },
  {
   "cell_type": "code",
   "execution_count": 10,
   "id": "superb-arnold",
   "metadata": {
    "ExecuteTime": {
     "end_time": "2021-03-14T08:22:40.861049Z",
     "start_time": "2021-03-14T08:22:40.847064Z"
    }
   },
   "outputs": [
    {
     "name": "stdout",
     "output_type": "stream",
     "text": [
      "2\n",
      "10\n"
     ]
    }
   ],
   "source": [
    "min_divisor, max_divisor = find_extreme_divisors(10, 200)\n",
    "\n",
    "print(min_divisor)\n",
    "print(max_divisor)"
   ]
  },
  {
   "cell_type": "markdown",
   "id": "arctic-exchange",
   "metadata": {},
   "source": [
    "### Check type"
   ]
  },
  {
   "cell_type": "code",
   "execution_count": 11,
   "id": "permanent-madagascar",
   "metadata": {},
   "outputs": [
    {
     "data": {
      "text/plain": [
       "tuple"
      ]
     },
     "execution_count": 11,
     "metadata": {},
     "output_type": "execute_result"
    }
   ],
   "source": [
    "x = (5, 10, 15, 20)\n",
    "\n",
    "type(x)"
   ]
  },
  {
   "cell_type": "markdown",
   "id": "forty-photograph",
   "metadata": {},
   "source": [
    "## Lists and Mutability"
   ]
  },
  {
   "cell_type": "markdown",
   "id": "quality-wrong",
   "metadata": {},
   "source": [
    "Like a tuple, a <b>list</b> is an ordered sequence of values, where each value is identified by an index.  The syntax for expressing literals of type list is similiar to that used for tuples; the difference is that we use square brackets rather than parentheses.  The empty list is written as [].  "
   ]
  },
  {
   "cell_type": "code",
   "execution_count": 12,
   "id": "celtic-douglas",
   "metadata": {
    "ExecuteTime": {
     "end_time": "2021-03-14T08:29:58.057734Z",
     "start_time": "2021-03-14T08:29:58.049153Z"
    }
   },
   "outputs": [],
   "source": [
    "# empty list\n",
    "\n",
    "L = []\n"
   ]
  },
  {
   "cell_type": "markdown",
   "id": "industrial-atmosphere",
   "metadata": {},
   "source": [
    "The list can contain many items.  Here is how to put items in a list."
   ]
  },
  {
   "cell_type": "code",
   "execution_count": 13,
   "id": "rental-relation",
   "metadata": {
    "ExecuteTime": {
     "end_time": "2021-03-14T08:29:58.899500Z",
     "start_time": "2021-03-14T08:29:58.893854Z"
    }
   },
   "outputs": [],
   "source": [
    "L = ['The AIA is here', 4, 'you!']\n"
   ]
  },
  {
   "cell_type": "markdown",
   "id": "attended-combine",
   "metadata": {},
   "source": [
    "Each item can be accessed in numerical order:\n"
   ]
  },
  {
   "cell_type": "code",
   "execution_count": 14,
   "id": "difficult-desert",
   "metadata": {
    "ExecuteTime": {
     "end_time": "2021-03-14T08:29:59.853280Z",
     "start_time": "2021-03-14T08:29:59.839198Z"
    }
   },
   "outputs": [
    {
     "name": "stdout",
     "output_type": "stream",
     "text": [
      "The AIA is here 4 you!\n"
     ]
    }
   ],
   "source": [
    "print(L[0], L[1], L[2])"
   ]
  },
  {
   "cell_type": "markdown",
   "id": "quality-visibility",
   "metadata": {},
   "source": [
    "Therefore you can access each item in a for loop as well. "
   ]
  },
  {
   "cell_type": "code",
   "execution_count": 15,
   "id": "gentle-junction",
   "metadata": {
    "ExecuteTime": {
     "end_time": "2021-03-14T08:30:01.227757Z",
     "start_time": "2021-03-14T08:30:01.210798Z"
    }
   },
   "outputs": [
    {
     "name": "stdout",
     "output_type": "stream",
     "text": [
      "The AIA is here\n",
      "4\n",
      "you!\n"
     ]
    }
   ],
   "source": [
    "for i in range(len(L)):\n",
    "    print(L[i])"
   ]
  },
  {
   "cell_type": "markdown",
   "id": "three-brave",
   "metadata": {},
   "source": [
    "### Lists of Lists\n",
    "Lists can be composed of lists of lists."
   ]
  },
  {
   "cell_type": "code",
   "execution_count": 16,
   "id": "velvet-anthony",
   "metadata": {
    "ExecuteTime": {
     "end_time": "2021-03-14T08:22:40.938830Z",
     "start_time": "2021-03-14T08:22:40.924841Z"
    }
   },
   "outputs": [],
   "source": [
    "evens = [2, 4, 6]\n",
    "odds  = [1, 3, 5]\n",
    "\n",
    "numbers1 = [evens, odds]\n",
    "numbers2 = [[2, 4, 6], [1, 3, 5]]\n",
    "\n",
    "numbers2 = [2, 4, 6, 1, 3, 5]"
   ]
  },
  {
   "cell_type": "code",
   "execution_count": 17,
   "id": "mighty-seeker",
   "metadata": {
    "ExecuteTime": {
     "end_time": "2021-03-14T08:22:40.954314Z",
     "start_time": "2021-03-14T08:22:40.941795Z"
    }
   },
   "outputs": [
    {
     "name": "stdout",
     "output_type": "stream",
     "text": [
      "numbers1 =  [[2, 4, 6], [1, 3, 5]]\n",
      "numbers2 =  [2, 4, 6, 1, 3, 5]\n",
      "False\n"
     ]
    }
   ],
   "source": [
    "print('numbers1 = ', numbers1)\n",
    "print('numbers2 = ', numbers2)\n",
    "print(numbers1 == numbers2)"
   ]
  },
  {
   "cell_type": "code",
   "execution_count": 18,
   "id": "appropriate-sequence",
   "metadata": {
    "ExecuteTime": {
     "end_time": "2021-03-14T08:22:40.970269Z",
     "start_time": "2021-03-14T08:22:40.956476Z"
    }
   },
   "outputs": [
    {
     "data": {
      "text/plain": [
       "[2, 4, 6]"
      ]
     },
     "execution_count": 18,
     "metadata": {},
     "output_type": "execute_result"
    }
   ],
   "source": [
    "numbers1[0]"
   ]
  },
  {
   "cell_type": "markdown",
   "id": "rotary-matter",
   "metadata": {},
   "source": [
    "### id() Function in Python - id(object)\n",
    "\n",
    "Two objects with non-overlapping lifetimes may have the same id() value. If we relate this to C, then they are actually the memory address, here in Python it is the unique id. This function is generally used internally in Python."
   ]
  },
  {
   "cell_type": "markdown",
   "id": "becoming-intention",
   "metadata": {
    "ExecuteTime": {
     "end_time": "2019-12-17T15:05:37.664937Z",
     "start_time": "2019-12-17T15:05:37.657434Z"
    }
   },
   "source": [
    "### id() Function in Python - id(object)\n",
    "\n",
    "Two objects with non-overlapping lifetimes may have the same id() value. If we relate this to C, then they are actually the memory address, here in Python it is the unique id. This function is generally used internally in Python."
   ]
  },
  {
   "cell_type": "code",
   "execution_count": 19,
   "id": "warming-consistency",
   "metadata": {
    "ExecuteTime": {
     "end_time": "2021-03-14T08:22:40.986362Z",
     "start_time": "2021-03-14T08:22:40.972504Z"
    }
   },
   "outputs": [
    {
     "name": "stdout",
     "output_type": "stream",
     "text": [
      "False\n",
      "\n",
      "140270037349392 | 140270037315168\n",
      "\n"
     ]
    }
   ],
   "source": [
    "# test to compare the object id's of both lists\n",
    "\n",
    "print(id(numbers1) == id(numbers2))\n",
    "print()\n",
    "print(id(numbers1), '|',id(numbers2))\n",
    "print()"
   ]
  },
  {
   "cell_type": "code",
   "execution_count": 20,
   "id": "pretty-terrain",
   "metadata": {
    "ExecuteTime": {
     "end_time": "2021-03-14T08:22:41.002319Z",
     "start_time": "2021-03-14T08:22:40.987362Z"
    }
   },
   "outputs": [
    {
     "name": "stdout",
     "output_type": "stream",
     "text": [
      "140270037349392 | 140270037315168\n",
      "\n"
     ]
    }
   ],
   "source": [
    "# change the pointer location and bucket\n",
    "#numbers1 = numbers2\n",
    "print(id(numbers1), '|',id(numbers2))\n",
    "print()"
   ]
  },
  {
   "cell_type": "markdown",
   "id": "listed-breath",
   "metadata": {},
   "source": [
    "<b>Why does this matter?</b> -- <b>Lists are mutable!</b>\n",
    "Consider this operation:"
   ]
  },
  {
   "cell_type": "code",
   "execution_count": 21,
   "id": "colored-radical",
   "metadata": {
    "ExecuteTime": {
     "end_time": "2021-03-14T08:22:41.018307Z",
     "start_time": "2021-03-14T08:22:41.003687Z"
    }
   },
   "outputs": [
    {
     "name": "stdout",
     "output_type": "stream",
     "text": [
      "[2, 4, 6]\n",
      "[2, 4, 6, 8]\n"
     ]
    }
   ],
   "source": [
    "print(evens)\n",
    "\n",
    "#DO NOT WRITE evens = evens.append(8)\n",
    "evens.append(8)\n",
    "\n",
    "print(evens)"
   ]
  },
  {
   "cell_type": "markdown",
   "id": "pretty-kingdom",
   "metadata": {},
   "source": [
    "We were able to append an 8 to the list! But what happens to <b>numbers1</b> and <b>numbers2</b>?\n"
   ]
  },
  {
   "cell_type": "code",
   "execution_count": 22,
   "id": "popular-reality",
   "metadata": {
    "ExecuteTime": {
     "end_time": "2021-03-14T08:22:41.033831Z",
     "start_time": "2021-03-14T08:22:41.019305Z"
    }
   },
   "outputs": [
    {
     "name": "stdout",
     "output_type": "stream",
     "text": [
      "numbers1 =  [[2, 4, 6, 8], [1, 3, 5]]\n",
      "numbers2 =  [2, 4, 6, 1, 3, 5]\n"
     ]
    }
   ],
   "source": [
    "print('numbers1 = ',numbers1)\n",
    "print('numbers2 = ',numbers2)"
   ]
  },
  {
   "cell_type": "markdown",
   "id": "phantom-audit",
   "metadata": {},
   "source": [
    "### Aliasing and Methods\n",
    "There are two distinct paths to the lists above.  One is through the list <b>evens</b> and the other is through <b>numbers1</b> which it is bound to.  The affects of mutating one will be visible in the other. Be careful!  Unintentional aliasing leads to programing errors that are often enormously hard to track down! "
   ]
  },
  {
   "cell_type": "code",
   "execution_count": 23,
   "id": "color-change",
   "metadata": {
    "ExecuteTime": {
     "end_time": "2021-03-14T08:22:41.049826Z",
     "start_time": "2021-03-14T08:22:41.034828Z"
    }
   },
   "outputs": [
    {
     "name": "stdout",
     "output_type": "stream",
     "text": [
      "[2, 4, 6, 8]\n",
      "[1, 3, 5]\n"
     ]
    }
   ],
   "source": [
    "for num in numbers1:\n",
    "    print (num)"
   ]
  },
  {
   "cell_type": "markdown",
   "id": "played-ambassador",
   "metadata": {},
   "source": [
    "Code Example:"
   ]
  },
  {
   "cell_type": "code",
   "execution_count": 24,
   "id": "signed-ebony",
   "metadata": {
    "ExecuteTime": {
     "end_time": "2021-03-14T08:22:41.065804Z",
     "start_time": "2021-03-14T08:22:41.050785Z"
    }
   },
   "outputs": [
    {
     "name": "stdout",
     "output_type": "stream",
     "text": [
      "[1, 3, 5, 2, 4, 6, 8]\n"
     ]
    }
   ],
   "source": [
    "odds_and_evens = odds + evens\n",
    "\n",
    "print(odds_and_evens)"
   ]
  },
  {
   "cell_type": "code",
   "execution_count": 25,
   "id": "healthy-thermal",
   "metadata": {
    "ExecuteTime": {
     "end_time": "2021-03-14T08:22:41.081526Z",
     "start_time": "2021-03-14T08:22:41.067753Z"
    }
   },
   "outputs": [
    {
     "name": "stdout",
     "output_type": "stream",
     "text": [
      "[1, 3, 5, 2, 4, 6, 8]\n"
     ]
    }
   ],
   "source": [
    "odds.extend(evens)\n",
    "\n",
    "print(odds)"
   ]
  },
  {
   "cell_type": "code",
   "execution_count": 26,
   "id": "separate-inventory",
   "metadata": {
    "ExecuteTime": {
     "end_time": "2021-03-14T08:22:41.097408Z",
     "start_time": "2021-03-14T08:22:41.082889Z"
    }
   },
   "outputs": [
    {
     "name": "stdout",
     "output_type": "stream",
     "text": [
      "[1, 3, 5, 2, 4, 6, 8, [2, 4, 6, 8]]\n"
     ]
    }
   ],
   "source": [
    "odds.append(evens)\n",
    "\n",
    "print(odds)"
   ]
  },
  {
   "cell_type": "code",
   "execution_count": 27,
   "id": "faced-control",
   "metadata": {
    "ExecuteTime": {
     "end_time": "2021-03-14T08:22:41.113335Z",
     "start_time": "2021-03-14T08:22:41.099373Z"
    }
   },
   "outputs": [
    {
     "name": "stdout",
     "output_type": "stream",
     "text": [
      "[1, 3, 5, 2, 4, 6, 8, [2, 4, 6, 8]]\n",
      "[[2, 4, 6, 8], 8, 6, 4, 2, 5, 3, 1]\n"
     ]
    }
   ],
   "source": [
    "print(odds)\n",
    "odds.reverse()\n",
    "print(odds)"
   ]
  },
  {
   "cell_type": "code",
   "execution_count": 28,
   "id": "living-leave",
   "metadata": {
    "ExecuteTime": {
     "end_time": "2021-03-14T08:22:41.129292Z",
     "start_time": "2021-03-14T08:22:41.114333Z"
    }
   },
   "outputs": [
    {
     "name": "stdout",
     "output_type": "stream",
     "text": [
      "[2, 4, 6, 8]\n",
      "[8, 6, 4, 2]\n"
     ]
    }
   ],
   "source": [
    "print(evens)\n",
    "evens.sort(reverse=True)\n",
    "print(evens)"
   ]
  },
  {
   "cell_type": "markdown",
   "id": "signed-harris",
   "metadata": {},
   "source": [
    "### List Methods"
   ]
  },
  {
   "cell_type": "markdown",
   "id": "flying-symbol",
   "metadata": {},
   "source": [
    "- <b>L.append(e)</b> adds the object e to the end of L.\n",
    "- <b>L.count(e)</b> returns the number of times that e occurs in L. \n",
    "- <b>L.insert(i,e)</b> inserts the object e into L at index i. \n",
    "- <b>L.extend(L1)</b> adds the items in list L1 to the end of L. \n",
    "- <b>L.remove(e)</b> deletes the first occurance of e from L.\n",
    "- <b>L.index(e)</b> returns the index of the first occurence of e in L, raises an exception if e is not in L. \n",
    "- <b>L.pop(i)</b> removes and returns the item at index i in L, raises an exception if L is empty.  If i is omitted, it defaults to -1, to remove and return the last element of L.\n",
    "- <b>L.sort()</b> sorts the elements of L in ascending order. \n",
    "- <b>L.reverse()</b> reverses the order of the elements in L.\n",
    "\n",
    "\n"
   ]
  },
  {
   "cell_type": "markdown",
   "id": "eastern-bridge",
   "metadata": {},
   "source": [
    "### Cloning\n"
   ]
  },
  {
   "cell_type": "markdown",
   "id": "alive-complex",
   "metadata": {},
   "source": [
    "<b>WARNING:</b>   It is usually prudent to avoid mutating a list over which one is iterating. Consider, for example, the code:"
   ]
  },
  {
   "cell_type": "code",
   "execution_count": 29,
   "id": "dying-input",
   "metadata": {
    "ExecuteTime": {
     "end_time": "2021-03-14T08:22:41.145305Z",
     "start_time": "2021-03-14T08:22:41.130290Z"
    }
   },
   "outputs": [],
   "source": [
    "\n",
    "def remove_duplicates(L1, L2):\n",
    "    \n",
    "    '''Assumes that L1 and L2 are lists. \n",
    "       Removes any element from L1 that also occures in L2.'''\n",
    "    \n",
    "    for e1 in L1:\n",
    "        \n",
    "        if e1 in L2:\n",
    "            \n",
    "            L1.remove(e1)\n",
    "            "
   ]
  },
  {
   "cell_type": "code",
   "execution_count": 30,
   "id": "sharp-battle",
   "metadata": {
    "ExecuteTime": {
     "end_time": "2021-03-14T08:22:41.161231Z",
     "start_time": "2021-03-14T08:22:41.146247Z"
    }
   },
   "outputs": [],
   "source": [
    "# create lists\n",
    "\n",
    "L1 = [1,2,3,4]\n",
    "L2 = [1,2,5,6,7,8,9,3]"
   ]
  },
  {
   "cell_type": "code",
   "execution_count": 31,
   "id": "normal-fever",
   "metadata": {
    "ExecuteTime": {
     "end_time": "2021-03-14T08:22:41.177231Z",
     "start_time": "2021-03-14T08:22:41.162565Z"
    },
    "code_folding": []
   },
   "outputs": [
    {
     "name": "stdout",
     "output_type": "stream",
     "text": [
      "L1 = [2, 4]\n"
     ]
    }
   ],
   "source": [
    "# execute function\n",
    "\n",
    "remove_duplicates(L1, L2)\n",
    "print('L1 =', L1)"
   ]
  },
  {
   "cell_type": "markdown",
   "id": "touched-nylon",
   "metadata": {},
   "source": [
    "How did we get the surprising result <b>L1 = [2, 3, 4]</b>? "
   ]
  },
  {
   "cell_type": "markdown",
   "id": "studied-football",
   "metadata": {},
   "source": [
    "During a for loop, the implementation of Python keeps track of where it is in th elist using an internal counter that is incremented at the end of each iteration.  When the value of the counter reaches teh current length of the list, the loop terminates.  This works as one might expect if the list is not mutated within the loop, but can have surprising consequences if the list is mutated.  In this case, the hidden counter starts out at 0, discovers that L1[0], is in L2, and removes it -- reducing the length of L1 to 3.  The counter is then incremented to 1, and the code proceeds to check if the value of L1[1] is in L2.  Notice this is not the original value of L1[1], but rather the current value of L1[1].  As you can see it is possible to figure out what happens when the list is modified within the loop. However, it is not easy.  And what happens is likely to be unintentional. "
   ]
  },
  {
   "cell_type": "markdown",
   "id": "wooden-valentine",
   "metadata": {},
   "source": [
    "One way to avoid this kind of problem is to use slicing to <b>clone</b> (make a copy of) the list.  \n"
   ]
  },
  {
   "cell_type": "markdown",
   "id": "arabic-fence",
   "metadata": {
    "ExecuteTime": {
     "end_time": "2019-12-16T21:03:55.357078Z",
     "start_time": "2019-12-16T21:03:55.342077Z"
    }
   },
   "source": [
    "<b>NOTICE THE FOLLOWING PROBLEM WITH THE CODE:</b>"
   ]
  },
  {
   "cell_type": "code",
   "execution_count": 32,
   "id": "northern-gibraltar",
   "metadata": {
    "ExecuteTime": {
     "end_time": "2021-03-14T08:22:41.193247Z",
     "start_time": "2021-03-14T08:22:41.184215Z"
    }
   },
   "outputs": [
    {
     "name": "stdout",
     "output_type": "stream",
     "text": [
      "new_L1 = [1, 2, 3, 4]\n",
      "\n",
      "L1 =  [2, 3, 4]\n",
      "\n",
      "new_L1 =  [2, 3, 4]\n"
     ]
    }
   ],
   "source": [
    "L1 = [1,2,3,4]\n",
    "L2 = [1,2,5,6]\n",
    "\n",
    "new_L1 = L1      # attempt to copy a list\n",
    "\n",
    "print('new_L1 =', new_L1)\n",
    "\n",
    "L1.remove(1)   #remove one from the list\n",
    "print()\n",
    "print('L1 = ', L1)\n",
    "print()\n",
    "print('new_L1 = ',new_L1)\n"
   ]
  },
  {
   "cell_type": "markdown",
   "id": "published-waterproof",
   "metadata": {},
   "source": [
    "<b>YOU NEED TO MAKE A COPY OF THE LIST USING LIST(COPY)</b> or by using the module <b>copy.deepcopy</b> if your list contains mutable objects."
   ]
  },
  {
   "cell_type": "markdown",
   "id": "solar-parliament",
   "metadata": {},
   "source": [
    "### list() method"
   ]
  },
  {
   "cell_type": "code",
   "execution_count": 33,
   "id": "established-smell",
   "metadata": {
    "ExecuteTime": {
     "end_time": "2021-03-14T08:22:41.209209Z",
     "start_time": "2021-03-14T08:22:41.195842Z"
    }
   },
   "outputs": [
    {
     "name": "stdout",
     "output_type": "stream",
     "text": [
      "new_L1 = [1, 2, 3, 4]\n",
      "\n",
      "L1 =  [2, 3, 4]\n",
      "\n",
      "new_L1 =  [1, 2, 3, 4]\n"
     ]
    }
   ],
   "source": [
    "L1 = [1,2,3,4]\n",
    "L2 = [1,2,5,6]\n",
    "\n",
    "new_L1 = list(L1)  #correct way to copy a list\n",
    "\n",
    "print('new_L1 =', new_L1)  \n",
    "\n",
    "L1.remove(1)   #remove one from the list\n",
    "print()\n",
    "print('L1 = ', L1)\n",
    "print()\n",
    "print('new_L1 = ',new_L1)"
   ]
  },
  {
   "cell_type": "markdown",
   "id": "answering-supplement",
   "metadata": {
    "ExecuteTime": {
     "end_time": "2019-12-16T21:07:15.352607Z",
     "start_time": "2019-12-16T21:07:15.344105Z"
    }
   },
   "source": [
    "### Using the copy.deepcopy() method"
   ]
  },
  {
   "cell_type": "code",
   "execution_count": 34,
   "id": "eight-prerequisite",
   "metadata": {
    "ExecuteTime": {
     "end_time": "2021-03-14T08:22:41.224904Z",
     "start_time": "2021-03-14T08:22:41.210889Z"
    }
   },
   "outputs": [
    {
     "name": "stdout",
     "output_type": "stream",
     "text": [
      "new_L1 = [1, 2, 3, 4]\n",
      "\n",
      "L1 =  [2, 3, 4]\n",
      "\n",
      "new_L1 =  [1, 2, 3, 4]\n"
     ]
    }
   ],
   "source": [
    "import copy \n",
    "\n",
    "L1 = [1,2,3,4]\n",
    "L2 = [1,2,5,6]\n",
    "\n",
    "new_L1 = copy.deepcopy(L1)  #correct way to copy a list\n",
    "\n",
    "print('new_L1 =', new_L1)  \n",
    "\n",
    "L1.remove(1)   #remove one from the list\n",
    "print()\n",
    "print('L1 = ', L1)\n",
    "print()\n",
    "print('new_L1 = ',new_L1)"
   ]
  },
  {
   "cell_type": "markdown",
   "id": "valid-costa",
   "metadata": {},
   "source": [
    "## List Comprehension"
   ]
  },
  {
   "cell_type": "markdown",
   "id": "abstract-first",
   "metadata": {},
   "source": [
    "<b>List Comprehension</b> provides a concise way to apply an operation to the values in a squence.  It creates a new list in which each element is the result of applying a given operation to a value from a sequence (e.g. the elements in an other list.)\n",
    "    \n",
    "CODE EXAMPLE:"
   ]
  },
  {
   "cell_type": "code",
   "execution_count": 35,
   "id": "prerequisite-penalty",
   "metadata": {
    "ExecuteTime": {
     "end_time": "2021-03-14T08:22:41.240898Z",
     "start_time": "2021-03-14T08:22:41.225849Z"
    }
   },
   "outputs": [
    {
     "name": "stdout",
     "output_type": "stream",
     "text": [
      "[1, 4, 9, 16, 25, 36]\n"
     ]
    }
   ],
   "source": [
    "# this code computes the square of every integer in the range 1 to 7\n",
    "\n",
    "L = [x**2 for x in range(1,7)]\n",
    "print(L)"
   ]
  },
  {
   "cell_type": "code",
   "execution_count": 36,
   "id": "extensive-heavy",
   "metadata": {
    "ExecuteTime": {
     "end_time": "2021-03-14T08:22:41.256401Z",
     "start_time": "2021-03-14T08:22:41.241894Z"
    }
   },
   "outputs": [
    {
     "name": "stdout",
     "output_type": "stream",
     "text": [
      "[1, 4, 9]\n"
     ]
    }
   ],
   "source": [
    "# this code squares the integers in the list if they are of type int. \n",
    "\n",
    "mixed = [1, 2, 'a', 3, 4.0]\n",
    "print([x**2 for x in mixed if type(x) == int])"
   ]
  },
  {
   "cell_type": "code",
   "execution_count": 37,
   "id": "higher-memphis",
   "metadata": {
    "ExecuteTime": {
     "end_time": "2021-03-14T08:22:41.271994Z",
     "start_time": "2021-03-14T08:22:41.258396Z"
    }
   },
   "outputs": [],
   "source": [
    "# this code can be used to change the column/ item order in a list. \n",
    "\n",
    "columns = ['col1', 'col2', 'col3', 'col4', 'col5', 'col6', 'col7']\n"
   ]
  },
  {
   "cell_type": "code",
   "execution_count": 38,
   "id": "sudden-baseline",
   "metadata": {
    "ExecuteTime": {
     "end_time": "2021-03-14T08:22:41.287587Z",
     "start_time": "2021-03-14T08:22:41.273935Z"
    }
   },
   "outputs": [
    {
     "name": "stdout",
     "output_type": "stream",
     "text": [
      "['col7', 'col1', 'col2', 'col3', 'col4', 'col5', 'col6']\n"
     ]
    }
   ],
   "source": [
    "# put the last item in the list in front\n",
    "\n",
    "first_column = 'col7'\n",
    "\n",
    "columns = [first_column] + [col for col in columns if col not in first_column]\n",
    "\n",
    "print(columns)"
   ]
  },
  {
   "cell_type": "markdown",
   "id": "chicken-weather",
   "metadata": {},
   "source": [
    "### Exercise # 1: multiply list elements\n",
    "Write a Python program to multiplies all the items in a list by 2 using list comprehensions."
   ]
  },
  {
   "cell_type": "code",
   "execution_count": 39,
   "id": "generic-truth",
   "metadata": {},
   "outputs": [],
   "source": [
    "list_ = [4, 8, 2, 9, 1]\n",
    "\n",
    "#your code\n"
   ]
  },
  {
   "cell_type": "markdown",
   "id": "naked-marina",
   "metadata": {},
   "source": [
    "### Exercise # 2: remove duplicates from a list\n",
    "Write a Python program to remove duplicates from a list. "
   ]
  },
  {
   "cell_type": "code",
   "execution_count": 40,
   "id": "developmental-assurance",
   "metadata": {},
   "outputs": [],
   "source": [
    "list_ = [4, 8, 2, 9, 1, 8, 2, 1]\n",
    "\n",
    "#your code\n"
   ]
  },
  {
   "cell_type": "markdown",
   "id": "consecutive-motel",
   "metadata": {},
   "source": [
    "## Dictionaries"
   ]
  },
  {
   "cell_type": "markdown",
   "id": "automatic-laundry",
   "metadata": {},
   "source": [
    "Objects of type <b>dict</b> (short for dictionary) are like lists except that we index them using <b>keys</b>.  Think of a dictionary as set of key/value pairs.  Literals of type dict are enclosed in curly braces, and each element is written as a key followed by a colon followed by a value.  \n",
    "\n",
    "Example Code:"
   ]
  },
  {
   "cell_type": "code",
   "execution_count": 41,
   "id": "disciplinary-destination",
   "metadata": {
    "ExecuteTime": {
     "end_time": "2021-03-14T08:22:42.441593Z",
     "start_time": "2021-03-14T08:22:29.864Z"
    }
   },
   "outputs": [],
   "source": [
    "# creating a blank dictionary\n",
    "month_numbers = {}\n"
   ]
  },
  {
   "cell_type": "code",
   "execution_count": 42,
   "id": "plain-discussion",
   "metadata": {
    "ExecuteTime": {
     "end_time": "2021-03-14T08:22:42.442143Z",
     "start_time": "2021-03-14T08:22:29.868Z"
    }
   },
   "outputs": [],
   "source": [
    "# create a dictionary with values\n",
    "month_numbers = {'Jan':1, 'Feb':2, 'Mar':3, 'Apr':4, 'May':5}\n",
    "                "
   ]
  },
  {
   "cell_type": "code",
   "execution_count": 43,
   "id": "amazing-dress",
   "metadata": {},
   "outputs": [
    {
     "data": {
      "text/plain": [
       "{'Jan': 1, 'Feb': 2, 'Mar': 3, 'Apr': 4, 'May': 5}"
      ]
     },
     "execution_count": 43,
     "metadata": {},
     "output_type": "execute_result"
    }
   ],
   "source": [
    "#another way to create a dictionary\n",
    "months = ['Jan', 'Feb', 'Mar', 'Apr', 'May']\n",
    "number = [1, 2, 3, 4, 5]\n",
    "\n",
    "month_numbers = dict(zip(months, number))\n",
    "\n",
    "month_numbers"
   ]
  },
  {
   "cell_type": "code",
   "execution_count": 44,
   "id": "several-tennessee",
   "metadata": {
    "ExecuteTime": {
     "end_time": "2021-03-14T08:22:42.444449Z",
     "start_time": "2021-03-14T08:22:29.875Z"
    }
   },
   "outputs": [
    {
     "name": "stdout",
     "output_type": "stream",
     "text": [
      "Apr and Jan are 3 months apart\n"
     ]
    }
   ],
   "source": [
    "# accessing the integer items by name in the diciotnary. \n",
    "\n",
    "dist = month_numbers['Apr'] - month_numbers['Jan']\n",
    "print('Apr and Jan are', dist, 'months apart')"
   ]
  },
  {
   "cell_type": "code",
   "execution_count": 45,
   "id": "ignored-series",
   "metadata": {},
   "outputs": [],
   "source": [
    "# add key - value to a dictionary\n",
    "month_numbers['June'] = 6"
   ]
  },
  {
   "cell_type": "code",
   "execution_count": 46,
   "id": "advised-socket",
   "metadata": {},
   "outputs": [
    {
     "name": "stdout",
     "output_type": "stream",
     "text": [
      "Jan 1\n",
      "Feb 2\n",
      "Mar 3\n",
      "Apr 4\n",
      "May 5\n",
      "June 6\n"
     ]
    }
   ],
   "source": [
    "#iterate over the dictionary entries\n",
    "\n",
    "for key, value in month_numbers.items():\n",
    "    print(key, value)"
   ]
  },
  {
   "cell_type": "code",
   "execution_count": 47,
   "id": "brazilian-majority",
   "metadata": {
    "ExecuteTime": {
     "end_time": "2021-03-14T08:22:42.443528Z",
     "start_time": "2021-03-14T08:22:29.872Z"
    }
   },
   "outputs": [
    {
     "name": "stdout",
     "output_type": "stream",
     "text": [
      "The third month is Mar\n"
     ]
    }
   ],
   "source": [
    "# accessing the item by name in the dictionary. \n",
    "month_numbers_reverse = {1:'Jan', 2:'Feb', 3:'Mar', 4:'Apr', 5:'May', 6:'June'}\n",
    "\n",
    "print('The third month is ' + month_numbers_reverse[3])"
   ]
  },
  {
   "cell_type": "code",
   "execution_count": 48,
   "id": "quality-handy",
   "metadata": {},
   "outputs": [
    {
     "name": "stdout",
     "output_type": "stream",
     "text": [
      "The third month is Mar\n"
     ]
    }
   ],
   "source": [
    "#way to reverse dictionary using comprehensions\n",
    "month_numbers_reverse = {value: key for key, value in month_numbers.items()}\n",
    "\n",
    "print('The third month is ' + month_numbers_reverse[3])"
   ]
  },
  {
   "cell_type": "markdown",
   "id": "prescribed-meter",
   "metadata": {},
   "source": [
    "<b>NOTICE:</b> The entries in a <b>dict</b> are unordered and cannot be accessed with an idenx.  That's why <b>month_numbers[1]</b> unanbiguously refers to the entry with the key 1 rather than the second entry.  "
   ]
  },
  {
   "cell_type": "markdown",
   "id": "alien-apartment",
   "metadata": {},
   "source": [
    "   ### Common Operations on Dictionaries"
   ]
  },
  {
   "cell_type": "markdown",
   "id": "charged-copper",
   "metadata": {},
   "source": [
    "- <b>len(d)</b> returns the number of items in d.\n",
    "- <b>d.keys()</b> returns a view of the keys in d. \n",
    "- <b>d.values()</b> returns a view of the values in d. \n",
    "- <b>k in d</b> returns True if key k is in d. \n",
    "- <b>d[k]</b> returns the item in d with key k.\n",
    "- <b>d.get(k,v)</b> returns d[k] if k is in d, and v otherwise. \n",
    "- <b>d[k] = V</b> v associates the value v with the key k in d.  If there is already a value associated with k, that value is replaced. \n",
    "- <b>del d[k]</b> removes the key k from d. \n",
    "- <b>for k in d</b> iterates over the keys in d."
   ]
  },
  {
   "cell_type": "markdown",
   "id": "suspected-person",
   "metadata": {},
   "source": [
    "### Exercise # 3: concatenate dictionaries\n",
    "\n",
    "Write a Python script to concatenate following dictionaries to create a new one. "
   ]
  },
  {
   "cell_type": "code",
   "execution_count": 49,
   "id": "changing-amendment",
   "metadata": {},
   "outputs": [],
   "source": [
    "dict_1 = {1:'Jan', 2:'Feb', 3:'Mar', 4:'Apr', 5:'May', 6:'June'}\n",
    "dict_2 = {7:'July', 8:'Aug', 9:'Sep', 10:'Oct', 11:'Nov', 12:'Dec'}\n",
    "\n",
    "#your code\n"
   ]
  },
  {
   "cell_type": "markdown",
   "id": "statistical-coffee",
   "metadata": {},
   "source": [
    "### Exercise # 4: check element existence in dictionary\n",
    "Write a Python script to check whether a given key already exists in a dictionary."
   ]
  },
  {
   "cell_type": "code",
   "execution_count": 50,
   "id": "primary-barcelona",
   "metadata": {},
   "outputs": [],
   "source": [
    "dict_ = {'Jan':1, 'Feb':2, 'Mar':3, 'Apr':4, 'May':5}\n",
    "\n",
    "#your code\n",
    "\n",
    "#check if 'Jun' key exists in dict_\n",
    "\n",
    "#check if 'Feb' key exists in dict_"
   ]
  },
  {
   "cell_type": "markdown",
   "id": "unauthorized-encyclopedia",
   "metadata": {},
   "source": [
    "## Sets"
   ]
  },
  {
   "cell_type": "markdown",
   "id": "radical-classic",
   "metadata": {},
   "source": [
    "Objects of type <b>set</b> are collections which is both __unordered__ and __unindexed__. __Set__ items can appear in a different order every time you use them, and cannot be referred to by index or key. __Sets__ are __unchangeable__/__immutable__, meaning that we cannot change the items after the set has been created, but you can add new items. __Set__ element is __unique__ (no duplicates). \n",
    "\n",
    "__Set__ is written with curly brackets. "
   ]
  },
  {
   "cell_type": "code",
   "execution_count": 8,
   "id": "addressed-assistant",
   "metadata": {},
   "outputs": [
    {
     "name": "stdout",
     "output_type": "stream",
     "text": [
      "{'cherry', 'banana', 'apple'}\n"
     ]
    }
   ],
   "source": [
    "#set does not allow duplicates\n",
    "myset = {}\n",
    "\n",
    "myset = {\"apple\", \"banana\", \"cherry\", \"apple\"}\n",
    "\n",
    "print(myset)"
   ]
  },
  {
   "cell_type": "markdown",
   "id": "documented-valve",
   "metadata": {},
   "source": [
    "A set can contain different data types:"
   ]
  },
  {
   "cell_type": "code",
   "execution_count": 9,
   "id": "plain-leeds",
   "metadata": {},
   "outputs": [
    {
     "name": "stdout",
     "output_type": "stream",
     "text": [
      "{'a', 'abc', 5.0, 1}\n"
     ]
    }
   ],
   "source": [
    "myset = {\"a\", 1, True, 5.0, \"abc\"}\n",
    "\n",
    "print(myset)"
   ]
  },
  {
   "cell_type": "markdown",
   "id": "moral-importance",
   "metadata": {},
   "source": [
    "Set can be created using set() constructor"
   ]
  },
  {
   "cell_type": "code",
   "execution_count": 11,
   "id": "intimate-malta",
   "metadata": {},
   "outputs": [
    {
     "name": "stdout",
     "output_type": "stream",
     "text": [
      "{1, 2, 6, 7, 9}\n"
     ]
    },
    {
     "data": {
      "text/plain": [
       "[1, 2, 6, 7, 9]"
      ]
     },
     "execution_count": 11,
     "metadata": {},
     "output_type": "execute_result"
    }
   ],
   "source": [
    "mylist = [1,2,6,7,9,1]\n",
    "\n",
    "myset = set(mylist)\n",
    "\n",
    "print(myset)\n",
    "\n",
    "mylist = list(set(mylist))\n",
    "\n",
    "mylist"
   ]
  },
  {
   "cell_type": "markdown",
   "id": "victorian-organic",
   "metadata": {},
   "source": [
    "### Common Operations on Sets\n",
    "\n",
    "- __set1.add(set2)__ add an element to a set.\n",
    "- __set1.remove(set2)__ remove an element to a set.\n",
    "- __set1.union(set2)__ return the union of sets as a new set.\n",
    "- __set1.intersection(set2)__ return the intersection of two sets as a new set.\n",
    "- __set1.difference(set2)__ return the difference of two or more sets as a new set.\n",
    "- __set1.symmetric_difference(set2)__ return the symmetric difference of two or more sets as a new set.\n",
    "- __set1.update(set2)__ update a set with the union of itself and others..\n"
   ]
  },
  {
   "cell_type": "markdown",
   "id": "monetary-candle",
   "metadata": {},
   "source": [
    "### Define four sets"
   ]
  },
  {
   "cell_type": "code",
   "execution_count": 13,
   "id": "prime-honolulu",
   "metadata": {},
   "outputs": [],
   "source": [
    "a = {1, 2, 3, 4}\n",
    "b = {2, 3, 4, 5}\n",
    "c = {3, 4, 5, 6}\n",
    "d = {4, 5, 6, 7}"
   ]
  },
  {
   "cell_type": "markdown",
   "id": "objective-grave",
   "metadata": {},
   "source": [
    "### Union"
   ]
  },
  {
   "cell_type": "code",
   "execution_count": 14,
   "id": "inside-campaign",
   "metadata": {},
   "outputs": [
    {
     "data": {
      "text/plain": [
       "{1, 2, 3, 4, 5, 6, 7}"
      ]
     },
     "execution_count": 14,
     "metadata": {},
     "output_type": "execute_result"
    }
   ],
   "source": [
    "a.union(b, c, d)"
   ]
  },
  {
   "cell_type": "code",
   "execution_count": 56,
   "id": "closing-credits",
   "metadata": {},
   "outputs": [
    {
     "data": {
      "text/plain": [
       "{1, 2, 3, 4, 5, 6, 7}"
      ]
     },
     "execution_count": 56,
     "metadata": {},
     "output_type": "execute_result"
    }
   ],
   "source": [
    "a | b | c | d"
   ]
  },
  {
   "cell_type": "markdown",
   "id": "educated-anatomy",
   "metadata": {},
   "source": [
    "### Intersection"
   ]
  },
  {
   "cell_type": "code",
   "execution_count": 16,
   "id": "fifty-brush",
   "metadata": {},
   "outputs": [
    {
     "data": {
      "text/plain": [
       "{4}"
      ]
     },
     "execution_count": 16,
     "metadata": {},
     "output_type": "execute_result"
    }
   ],
   "source": [
    "a.intersection(b, c, d)"
   ]
  },
  {
   "cell_type": "code",
   "execution_count": 58,
   "id": "respiratory-filename",
   "metadata": {},
   "outputs": [
    {
     "data": {
      "text/plain": [
       "{4}"
      ]
     },
     "execution_count": 58,
     "metadata": {},
     "output_type": "execute_result"
    }
   ],
   "source": [
    "a & b & c & d"
   ]
  },
  {
   "cell_type": "markdown",
   "id": "romance-franklin",
   "metadata": {},
   "source": [
    "### Difference"
   ]
  },
  {
   "cell_type": "code",
   "execution_count": 59,
   "id": "standard-little",
   "metadata": {},
   "outputs": [
    {
     "data": {
      "text/plain": [
       "{1}"
      ]
     },
     "execution_count": 59,
     "metadata": {},
     "output_type": "execute_result"
    }
   ],
   "source": [
    "a.difference(b)"
   ]
  },
  {
   "cell_type": "code",
   "execution_count": 17,
   "id": "sharp-result",
   "metadata": {},
   "outputs": [
    {
     "data": {
      "text/plain": [
       "{1}"
      ]
     },
     "execution_count": 17,
     "metadata": {},
     "output_type": "execute_result"
    }
   ],
   "source": [
    "a - b"
   ]
  },
  {
   "cell_type": "markdown",
   "id": "artistic-victoria",
   "metadata": {},
   "source": [
    "### Symmetric Difference\n"
   ]
  },
  {
   "cell_type": "code",
   "execution_count": 61,
   "id": "modular-exception",
   "metadata": {},
   "outputs": [
    {
     "data": {
      "text/plain": [
       "{1, 5}"
      ]
     },
     "execution_count": 61,
     "metadata": {},
     "output_type": "execute_result"
    }
   ],
   "source": [
    "a.symmetric_difference(b)"
   ]
  },
  {
   "cell_type": "code",
   "execution_count": 62,
   "id": "formal-narrow",
   "metadata": {},
   "outputs": [
    {
     "data": {
      "text/plain": [
       "{1, 5}"
      ]
     },
     "execution_count": 62,
     "metadata": {},
     "output_type": "execute_result"
    }
   ],
   "source": [
    "a ^ b"
   ]
  },
  {
   "cell_type": "markdown",
   "id": "incorrect-newton",
   "metadata": {},
   "source": [
    "### Exercise # 5: Intersection\n",
    "\n",
    "Find list with common elements in two lists provided below"
   ]
  },
  {
   "cell_type": "code",
   "execution_count": 63,
   "id": "packed-bernard",
   "metadata": {},
   "outputs": [],
   "source": [
    "list1 = [1, 5, 3, 2, 1, 4, 7]\n",
    "list2 = [4, 7, 1, 9, 10, 3]\n",
    "\n",
    "#your code"
   ]
  },
  {
   "cell_type": "markdown",
   "id": "lonely-hebrew",
   "metadata": {},
   "source": [
    "### Exercise # 6: Count vowels in a word\n",
    "\n",
    "Count number of vowels using sets in given string"
   ]
  },
  {
   "cell_type": "code",
   "execution_count": 64,
   "id": "nominated-secretary",
   "metadata": {},
   "outputs": [],
   "source": [
    "word = 'AIAGlobal'\n",
    "\n",
    "#your code"
   ]
  },
  {
   "cell_type": "markdown",
   "id": "running-conversion",
   "metadata": {},
   "source": [
    "## Functions as Objects"
   ]
  },
  {
   "cell_type": "markdown",
   "id": "expensive-worker",
   "metadata": {},
   "source": [
    "In Python, functions are <b>first-class objects</b>. That means that they can be treated like objects of any other type, e.g., <b>int</b> or <b>list</b>.  Using functions as arguments allows a style of coding called <b>higher-order-programming</b>. In higher-order programming, one can pass functions as arguments to other functions and functions can be the return value of other functions (such as in macros or for interpreting). "
   ]
  },
  {
   "cell_type": "code",
   "execution_count": 65,
   "id": "lovely-province",
   "metadata": {
    "ExecuteTime": {
     "end_time": "2021-03-14T08:22:42.424189Z",
     "start_time": "2021-03-14T08:22:29.803Z"
    }
   },
   "outputs": [],
   "source": [
    "def apply_to_each(L, f):\n",
    "    \n",
    "    ''' Assumes L is a list, f a function\n",
    "        Mutates L by replacing each element, e, of L by f(e)'''\n",
    "    \n",
    "    for i in range(len(L)):\n",
    "        L[i] = f(L[i])\n"
   ]
  },
  {
   "cell_type": "code",
   "execution_count": 66,
   "id": "subsequent-proposal",
   "metadata": {
    "ExecuteTime": {
     "end_time": "2021-03-14T08:22:42.424882Z",
     "start_time": "2021-03-14T08:22:29.806Z"
    }
   },
   "outputs": [
    {
     "name": "stdout",
     "output_type": "stream",
     "text": [
      "L =  [1, -2, 3.33]\n"
     ]
    }
   ],
   "source": [
    "# create the list\n",
    "\n",
    "L = [1, -2, 3.33]\n",
    "print('L = ', L)"
   ]
  },
  {
   "cell_type": "code",
   "execution_count": 67,
   "id": "quarterly-promise",
   "metadata": {
    "ExecuteTime": {
     "end_time": "2021-03-14T08:22:42.426161Z",
     "start_time": "2021-03-14T08:22:29.809Z"
    }
   },
   "outputs": [
    {
     "name": "stdout",
     "output_type": "stream",
     "text": [
      "Apply abs to each element of L.\n",
      "L =  [1, 2, 3.33]\n"
     ]
    }
   ],
   "source": [
    "# apply abs \n",
    "\n",
    "print('Apply abs to each element of L.')\n",
    "\n",
    "apply_to_each(L, abs)\n",
    "\n",
    "print('L = ', L)"
   ]
  },
  {
   "cell_type": "markdown",
   "id": "dedicated-strap",
   "metadata": {},
   "source": [
    "Apply INT to each element of L "
   ]
  },
  {
   "cell_type": "code",
   "execution_count": 68,
   "id": "artistic-missouri",
   "metadata": {
    "ExecuteTime": {
     "end_time": "2021-03-14T08:22:42.426642Z",
     "start_time": "2021-03-14T08:22:29.813Z"
    }
   },
   "outputs": [
    {
     "name": "stdout",
     "output_type": "stream",
     "text": [
      "Apply int to each element of L.\n",
      "L =  [1, 2, 3]\n"
     ]
    }
   ],
   "source": [
    "#apply int\n",
    "\n",
    "print('Apply int to each element of L.')\n",
    "\n",
    "apply_to_each(L, int)\n",
    "\n",
    "print('L = ', L)"
   ]
  },
  {
   "cell_type": "markdown",
   "id": "liberal-examination",
   "metadata": {
    "ExecuteTime": {
     "end_time": "2019-12-16T22:28:48.969930Z",
     "start_time": "2019-12-16T22:28:48.958432Z"
    }
   },
   "source": [
    "Import a function math and apply it to each element of L "
   ]
  },
  {
   "cell_type": "code",
   "execution_count": 69,
   "id": "rental-county",
   "metadata": {
    "ExecuteTime": {
     "end_time": "2021-03-14T08:22:42.428304Z",
     "start_time": "2021-03-14T08:22:29.816Z"
    }
   },
   "outputs": [
    {
     "name": "stdout",
     "output_type": "stream",
     "text": [
      "Apply factorial to each element of L.\n",
      "L =  [1, 2, 6]\n"
     ]
    }
   ],
   "source": [
    "#apply factorial\n",
    "import math\n",
    "\n",
    "print('Apply factorial to each element of L.')\n",
    "\n",
    "apply_to_each(L, math.factorial)\n",
    "\n",
    "print('L = ', L)"
   ]
  },
  {
   "cell_type": "markdown",
   "id": "explicit-momentum",
   "metadata": {},
   "source": [
    "## Lambda and Map Function with higher order programming\n",
    "Lambda expressions (or lambda functions) are essentially blocks of code that can be assigned to variables, passed as an argument, or returned from a function call, in languages that support high-order functions. They have been part of programming languages for quite some time."
   ]
  },
  {
   "cell_type": "code",
   "execution_count": 70,
   "id": "proprietary-demand",
   "metadata": {
    "ExecuteTime": {
     "end_time": "2021-03-14T08:22:42.429085Z",
     "start_time": "2021-03-14T08:22:29.820Z"
    }
   },
   "outputs": [
    {
     "name": "stdout",
     "output_type": "stream",
     "text": [
      "15\n"
     ]
    }
   ],
   "source": [
    "# a lambda function that adds 10 to the number passed in as an argument, and prints the result:\n",
    "\n",
    "x = lambda a : a + 10\n",
    "\n",
    "print(x(5))"
   ]
  },
  {
   "cell_type": "code",
   "execution_count": 71,
   "id": "advance-letters",
   "metadata": {
    "ExecuteTime": {
     "end_time": "2021-03-14T08:22:42.430624Z",
     "start_time": "2021-03-14T08:22:29.823Z"
    }
   },
   "outputs": [
    {
     "name": "stdout",
     "output_type": "stream",
     "text": [
      "30\n"
     ]
    }
   ],
   "source": [
    "# a lambda function that multiplies argument a with argument b and print the result:\n",
    "# def x(a,b):\n",
    "#     return a*b\n",
    "\n",
    "x = lambda a, b : a * b\n",
    "print(x(5, 6))\n"
   ]
  },
  {
   "cell_type": "code",
   "execution_count": 72,
   "id": "brief-lesbian",
   "metadata": {
    "ExecuteTime": {
     "end_time": "2021-03-14T08:22:42.431655Z",
     "start_time": "2021-03-14T08:22:29.826Z"
    }
   },
   "outputs": [
    {
     "name": "stdout",
     "output_type": "stream",
     "text": [
      "13\n"
     ]
    }
   ],
   "source": [
    "# A lambda function that sums argument a, b, and c and print the result:\n",
    "\n",
    "x = lambda a, b, c : a + b + c\n",
    "print(x(5, 6, 2))"
   ]
  },
  {
   "cell_type": "markdown",
   "id": "alternate-murray",
   "metadata": {},
   "source": [
    "### Lambda functions used as anonymous functions inside other functions"
   ]
  },
  {
   "cell_type": "code",
   "execution_count": 73,
   "id": "comprehensive-expression",
   "metadata": {
    "ExecuteTime": {
     "end_time": "2021-03-14T08:22:42.432098Z",
     "start_time": "2021-03-14T08:22:29.830Z"
    }
   },
   "outputs": [],
   "source": [
    "def myfunc(n):\n",
    "    result = lambda a : a * n\n",
    "    return result"
   ]
  },
  {
   "cell_type": "markdown",
   "id": "balanced-speech",
   "metadata": {},
   "source": [
    "Because of its simplicity, you can write a lambda function with no hassle. Now just think you need to write a normal function of adding every number and the current given number you have given."
   ]
  },
  {
   "cell_type": "code",
   "execution_count": 74,
   "id": "completed-robertson",
   "metadata": {
    "ExecuteTime": {
     "end_time": "2021-03-14T08:22:42.433431Z",
     "start_time": "2021-03-14T08:22:29.834Z"
    }
   },
   "outputs": [
    {
     "name": "stdout",
     "output_type": "stream",
     "text": [
      "22\n",
      "33\n",
      "44\n"
     ]
    }
   ],
   "source": [
    "mydoubler = myfunc(2)\n",
    "mytripler = myfunc(3)\n",
    "quadrupler = myfunc(4)\n",
    "\n",
    "print(mydoubler(11))\n",
    "print(mytripler(11))\n",
    "print(quadrupler(11))"
   ]
  },
  {
   "cell_type": "code",
   "execution_count": 75,
   "id": "obvious-washington",
   "metadata": {
    "ExecuteTime": {
     "end_time": "2021-03-14T08:22:42.434462Z",
     "start_time": "2021-03-14T08:22:29.838Z"
    }
   },
   "outputs": [
    {
     "name": "stdout",
     "output_type": "stream",
     "text": [
      "33\n"
     ]
    }
   ],
   "source": [
    "mytripler = myfunc(3)\n",
    "\n",
    "print(mytripler(11))"
   ]
  },
  {
   "cell_type": "code",
   "execution_count": 76,
   "id": "congressional-qatar",
   "metadata": {
    "ExecuteTime": {
     "end_time": "2021-03-14T08:22:42.434871Z",
     "start_time": "2021-03-14T08:22:29.841Z"
    }
   },
   "outputs": [
    {
     "name": "stdout",
     "output_type": "stream",
     "text": [
      "[1, 0, 0, 0, 1, 1, 0, 0, 0, 1, 1, 0, 0, 0, 1]\n"
     ]
    }
   ],
   "source": [
    "make_three = [1, 0, 0, 0, 1]\n",
    "\n",
    "mytripler = myfunc(3)\n",
    "\n",
    "print(mytripler(make_three))"
   ]
  },
  {
   "cell_type": "markdown",
   "id": "electric-baking",
   "metadata": {},
   "source": [
    "### <b>map()</b> function returns a list of the results after applying the given function to each item of a given iterable (list, tuple etc.)"
   ]
  },
  {
   "cell_type": "code",
   "execution_count": 77,
   "id": "duplicate-occupation",
   "metadata": {
    "ExecuteTime": {
     "end_time": "2021-03-14T08:22:42.435608Z",
     "start_time": "2021-03-14T08:22:29.845Z"
    }
   },
   "outputs": [
    {
     "name": "stdout",
     "output_type": "stream",
     "text": [
      "[2, 4, 6, 8]\n"
     ]
    }
   ],
   "source": [
    "# Return double of n \n",
    "\n",
    "def addition(n): \n",
    "    return n + n \n",
    "  \n",
    "# We double all numbers using map() \n",
    "\n",
    "numbers = (1, 2, 3, 4) \n",
    "result = map(addition, numbers) \n",
    "\n",
    "print(list(result)) "
   ]
  },
  {
   "cell_type": "code",
   "execution_count": 78,
   "id": "broadband-survival",
   "metadata": {
    "ExecuteTime": {
     "end_time": "2021-03-14T08:22:42.437907Z",
     "start_time": "2021-03-14T08:22:29.849Z"
    }
   },
   "outputs": [
    {
     "name": "stdout",
     "output_type": "stream",
     "text": [
      "[2, 4, 6, 8]\n"
     ]
    }
   ],
   "source": [
    "# Double all numbers using map and lambda \n",
    "  \n",
    "numbers = (1, 2, 3, 4) \n",
    "result = map(lambda x: x + x, numbers) \n",
    "\n",
    "print(list(result)) "
   ]
  },
  {
   "cell_type": "code",
   "execution_count": 79,
   "id": "continent-fruit",
   "metadata": {
    "ExecuteTime": {
     "end_time": "2021-03-14T08:22:42.438602Z",
     "start_time": "2021-03-14T08:22:29.852Z"
    }
   },
   "outputs": [
    {
     "name": "stdout",
     "output_type": "stream",
     "text": [
      "[5, 7, 9]\n"
     ]
    }
   ],
   "source": [
    "# Add two lists using map and lambda \n",
    "  \n",
    "numbers1 = [1, 2, 3] \n",
    "numbers2 = [4, 5, 6] \n",
    "  \n",
    "result = map(lambda x, y: x + y, numbers1, numbers2) \n",
    "print(list(result)) "
   ]
  },
  {
   "cell_type": "code",
   "execution_count": 80,
   "id": "precise-suspect",
   "metadata": {
    "ExecuteTime": {
     "end_time": "2021-03-14T08:22:42.439599Z",
     "start_time": "2021-03-14T08:22:29.855Z"
    }
   },
   "outputs": [
    {
     "name": "stdout",
     "output_type": "stream",
     "text": [
      "[['s', 'a', 't'], ['b', 'a', 't'], ['c', 'a', 't'], ['m', 'a', 't']]\n"
     ]
    }
   ],
   "source": [
    "# List of strings \n",
    "l = ['sat', 'bat', 'cat', 'mat'] \n",
    "  \n",
    "# map() can listify the list of strings individually \n",
    "test = list(map(list, l)) \n",
    "print(test) "
   ]
  },
  {
   "cell_type": "markdown",
   "id": "indian-librarian",
   "metadata": {},
   "source": [
    "### Lambda and Map Functions Used within Python Lists"
   ]
  },
  {
   "cell_type": "code",
   "execution_count": 81,
   "id": "grand-photograph",
   "metadata": {
    "ExecuteTime": {
     "end_time": "2021-03-14T08:22:42.440928Z",
     "start_time": "2021-03-14T08:22:29.859Z"
    }
   },
   "outputs": [
    {
     "name": "stdout",
     "output_type": "stream",
     "text": [
      "[1, 4, 3, 1]\n"
     ]
    }
   ],
   "source": [
    "L = []\n",
    "for i in map(lambda x, y: x**y, [1,2,3,4], [3,2,1,0]):\n",
    "    L.append(i)\n",
    "print(L)"
   ]
  },
  {
   "cell_type": "code",
   "execution_count": 2,
   "id": "nearby-density",
   "metadata": {},
   "outputs": [
    {
     "data": {
      "text/plain": [
       "[1, 4, 3, 1]"
      ]
     },
     "execution_count": 2,
     "metadata": {},
     "output_type": "execute_result"
    }
   ],
   "source": [
    "list(map(lambda x, y: x**y, [1,2,3,4], [3,2,1,0]))"
   ]
  },
  {
   "cell_type": "markdown",
   "id": "modified-pierce",
   "metadata": {},
   "source": [
    "### \\*args and **kwargs in Python"
   ]
  },
  {
   "cell_type": "code",
   "execution_count": 4,
   "id": "velvet-impression",
   "metadata": {},
   "outputs": [
    {
     "name": "stdout",
     "output_type": "stream",
     "text": [
      "First argument : Hello\n",
      "Next argument through *argv : Welcome\n",
      "Next argument through *argv : to\n",
      "Next argument through *argv : AIA\n",
      "Next argument through *argv : Python\n",
      "Next argument through *argv : Class\n"
     ]
    }
   ],
   "source": [
    "# Python program to illustrate \n",
    "# *args with first extra argument\n",
    "def my_function_args(arg1, *argv):\n",
    "    print (\"First argument :\", arg1)\n",
    "    for arg in argv:\n",
    "        print(\"Next argument through *argv :\", arg)\n",
    "  \n",
    "my_function_args('Hello', 'Welcome', 'to', 'AIA', 'Python', 'Class')"
   ]
  },
  {
   "cell_type": "code",
   "execution_count": 6,
   "id": "based-casino",
   "metadata": {},
   "outputs": [
    {
     "name": "stdout",
     "output_type": "stream",
     "text": [
      "group == AIA\n",
      "language == Python\n",
      "level == Introductory\n"
     ]
    }
   ],
   "source": [
    "# Python program to illustrate  \n",
    "# *kargs for variable number of keyword arguments\n",
    "  \n",
    "def my_function_kwargs(**kwargs): \n",
    "    for key, value in kwargs.items():\n",
    "        print (\"%s == %s\" %(key, value))\n",
    "  \n",
    "# Driver code\n",
    "my_function_kwargs(group ='AIA', language ='Python', level='Introductory')   "
   ]
  }
 ],
 "metadata": {
  "hide_input": false,
  "kernelspec": {
   "display_name": "Python 3",
   "language": "python",
   "name": "python3"
  },
  "language_info": {
   "codemirror_mode": {
    "name": "ipython",
    "version": 3
   },
   "file_extension": ".py",
   "mimetype": "text/x-python",
   "name": "python",
   "nbconvert_exporter": "python",
   "pygments_lexer": "ipython3",
   "version": "3.8.3"
  },
  "toc": {
   "base_numbering": 1,
   "nav_menu": {},
   "number_sections": true,
   "sideBar": true,
   "skip_h1_title": false,
   "title_cell": "Table of Contents",
   "title_sidebar": "Contents",
   "toc_cell": false,
   "toc_position": {},
   "toc_section_display": true,
   "toc_window_display": true
  },
  "varInspector": {
   "cols": {
    "lenName": 16,
    "lenType": 16,
    "lenVar": 40
   },
   "kernels_config": {
    "python": {
     "delete_cmd_postfix": "",
     "delete_cmd_prefix": "del ",
     "library": "var_list.py",
     "varRefreshCmd": "print(var_dic_list())"
    },
    "r": {
     "delete_cmd_postfix": ") ",
     "delete_cmd_prefix": "rm(",
     "library": "var_list.r",
     "varRefreshCmd": "cat(var_dic_list()) "
    }
   },
   "types_to_exclude": [
    "module",
    "function",
    "builtin_function_or_method",
    "instance",
    "_Feature"
   ],
   "window_display": false
  }
 },
 "nbformat": 4,
 "nbformat_minor": 5
}
